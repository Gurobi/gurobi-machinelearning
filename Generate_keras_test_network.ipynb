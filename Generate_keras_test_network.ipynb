{
 "cells": [
  {
   "cell_type": "code",
   "execution_count": null,
   "id": "c8d57e80-9075-4d63-bc36-f9aaad08ea2f",
   "metadata": {},
   "outputs": [],
   "source": [
    "import tensorflow as tf"
   ]
  },
  {
   "cell_type": "code",
   "execution_count": null,
   "id": "5d98d000-661e-4495-bef0-49c5eb180aff",
   "metadata": {},
   "outputs": [],
   "source": [
    "nn = tf.keras.models.Sequential(\n",
    "    [\n",
    "     tf.keras.layers.InputLayer((8,)),\n",
    "     tf.keras.layers.Dense(30, activation='relu'),\n",
    "     tf.keras.layers.Dense(1),\n",
    "    ]\n",
    ")"
   ]
  },
  {
   "cell_type": "code",
   "execution_count": null,
   "id": "ba3cf3ee-bd25-4180-95c0-2ff42d858a34",
   "metadata": {},
   "outputs": [],
   "source": [
    "nn.compile(loss='mean_squared_error', optimizer='adam')"
   ]
  },
  {
   "cell_type": "code",
   "execution_count": null,
   "id": "247bd200-8026-4f08-8739-9aabb3c37e99",
   "metadata": {},
   "outputs": [],
   "source": [
    "(X_train, y_train), (X_test, y_test) = tf.keras.datasets.california_housing.load_data(\n",
    "    version=\"large\"\n",
    ")\n"
   ]
  },
  {
   "cell_type": "code",
   "execution_count": null,
   "id": "a29325dd-1ab1-4cce-81c0-2528e892adb6",
   "metadata": {},
   "outputs": [],
   "source": [
    "normalize = tf.keras.layers.Normalization(axis=-1)"
   ]
  },
  {
   "cell_type": "code",
   "execution_count": null,
   "id": "cbecbd91-e100-4568-9424-efd9e3b6d5fc",
   "metadata": {},
   "outputs": [],
   "source": [
    "normalize.adapt(X_train)\n",
    "X_train = normalize(X_train)\n",
    "X_test = normalize(X_test)"
   ]
  },
  {
   "cell_type": "code",
   "execution_count": null,
   "id": "5656d2da-ee2d-4a8f-aef3-65876c20193b",
   "metadata": {},
   "outputs": [],
   "source": [
    "nn.fit(X_train, y_train, epochs=100, validation_data=(X_test, y_test))"
   ]
  },
  {
   "cell_type": "code",
   "execution_count": null,
   "id": "128b1ba9-55e9-4d78-9b31-d2a0da9bb165",
   "metadata": {},
   "outputs": [],
   "source": []
  }
 ],
 "metadata": {
  "kernelspec": {
   "display_name": "Python 3 (ipykernel)",
   "language": "python",
   "name": "python3"
  },
  "language_info": {
   "codemirror_mode": {
    "name": "ipython",
    "version": 3
   },
   "file_extension": ".py",
   "mimetype": "text/x-python",
   "name": "python",
   "nbconvert_exporter": "python",
   "pygments_lexer": "ipython3",
   "version": "3.11.10"
  },
  "license": {
   "full_text": "# Copyright © 2023 Gurobi Optimization, LLC\n#\n# Licensed under the Apache License, Version 2.0 (the \"License\");\n# you may not use this file except in compliance with the License.\n# You may obtain a copy of the License at\n#\n#     http://www.apache.org/licenses/LICENSE-2.0\n#\n# Unless required by applicable law or agreed to in writing, software\n# distributed under the License is distributed on an \"AS IS\" BASIS,\n# WITHOUT WARRANTIES OR CONDITIONS OF ANY KIND, either express or implied.\n# See the License for the specific language governing permissions and\n# limitations under the License.\n# =============================================================================="
  }
 },
 "nbformat": 4,
 "nbformat_minor": 5
}
