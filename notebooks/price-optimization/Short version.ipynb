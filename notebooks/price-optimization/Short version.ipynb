{
 "cells": [
  {
   "cell_type": "markdown",
   "id": "94a00ac5",
   "metadata": {},
   "source": [
    "# Price Optimization\n",
    "\n",
    "This example is adapted from the example in Gurobi's modeling examples [How Much\n",
    "Is Too Much? Avocado Pricing and Supply Using Mathematical\n",
    "Optimization](https://github.com/Gurobi/modeling-examples/tree/master/price_optimization).\n",
    "\n",
    "We develop the same example as in the documentation but we try and compare different\n",
    "regression models to estimate demand"
   ]
  },
  {
   "cell_type": "code",
   "execution_count": null,
   "id": "024e1ee1-637b-47aa-93be-c140df0610ab",
   "metadata": {},
   "outputs": [],
   "source": [
    "import pandas as pd\n",
    "import warnings\n",
    "\n",
    "import matplotlib.pyplot as plt\n",
    "from sklearn import tree\n",
    "import seaborn as sns\n",
    "\n",
    "import numpy as np\n",
    "\n",
    "import gurobipy as gp\n",
    "from gurobipy import GRB\n",
    "\n",
    "\n",
    "from gurobi_ml import add_predictor_constr\n",
    "import gurobipy_pandas as gppd\n",
    "\n",
    "from sklearn.model_selection import train_test_split\n",
    "from sklearn.metrics import r2_score"
   ]
  },
  {
   "cell_type": "markdown",
   "id": "716ed7e0",
   "metadata": {},
   "source": [
    "## Load the Packages and the Datasets"
   ]
  },
  {
   "cell_type": "code",
   "execution_count": null,
   "id": "7666167a-ce1d-4647-be7e-1f4a56f8dffc",
   "metadata": {},
   "outputs": [],
   "source": [
    "# Get the data\n",
    "\n",
    "data_url = \"https://raw.githubusercontent.com/Gurobi/modeling-examples/master/price_optimization/\"\n",
    "avocado = pd.read_csv(\n",
    "    data_url + \"HABdata_2019_2022.csv\"\n",
    ")  # dataset downloaded directly from HAB\n",
    "avocado_old = pd.read_csv(\n",
    "    data_url + \"kaggledata_till2018.csv\"\n",
    ")  # dataset downloaded from Kaggle\n",
    "avocado = pd.concat([avocado, avocado_old])\n",
    "\n",
    "# Add the index for each year from 2015 through 2022\n",
    "avocado[\"date\"] = pd.to_datetime(avocado[\"date\"])\n",
    "avocado[\"year\"] = pd.DatetimeIndex(avocado[\"date\"]).year\n",
    "avocado[\"year_index\"] = avocado[\"year\"] - 2015\n",
    "avocado = avocado.sort_values(by=\"date\")\n",
    "\n",
    "# Define the peak season\n",
    "avocado[\"month\"] = pd.DatetimeIndex(avocado[\"date\"]).month\n",
    "peak_months = range(2, 8)  # <--------- Set the months for the \"peak season\"\n",
    "\n",
    "\n",
    "def peak_season(row):\n",
    "    return 1 if int(row[\"month\"]) in peak_months else 0\n",
    "\n",
    "\n",
    "avocado[\"peak\"] = avocado.apply(lambda row: peak_season(row), axis=1)\n",
    "\n",
    "# Scale the number of avocados to millions\n",
    "avocado[\"units_sold\"] = avocado[\"units_sold\"] / 1000000\n",
    "\n",
    "# Select only conventional avocados\n",
    "avocado = avocado[avocado[\"type\"] == \"Conventional\"]\n",
    "\n",
    "avocado = avocado[\n",
    "    [\"date\", \"units_sold\", \"price\", \"region\", \"year\", \"month\", \"year_index\", \"peak\"]\n",
    "].reset_index(drop=True)\n",
    "\n",
    "avocado"
   ]
  },
  {
   "cell_type": "markdown",
   "id": "462dc654-3138-4e8e-bc58-42768fc9adbd",
   "metadata": {},
   "source": [
    "## Train regressions"
   ]
  },
  {
   "cell_type": "markdown",
   "id": "dfa91a90",
   "metadata": {},
   "source": [
    "We prepare the data using `OneHotEncoder` and `make_column_transformer`. We want\n",
    "to transform the region feature using the encoder while we apply scaling to the other features."
   ]
  },
  {
   "cell_type": "code",
   "execution_count": null,
   "id": "5a82d5c3",
   "metadata": {},
   "outputs": [],
   "source": [
    "regions = [\n",
    "    \"Great_Lakes\",\n",
    "    \"Midsouth\",\n",
    "    \"Northeast\",\n",
    "    \"Northern_New_England\",\n",
    "    \"SouthCentral\",\n",
    "    \"Southeast\",\n",
    "    \"West\",\n",
    "    \"Plains\",\n",
    "]\n",
    "df = avocado[avocado.region.isin(regions)]\n",
    "\n",
    "X = df[[\"region\", \"price\", \"year\", \"peak\"]]\n",
    "y = df[\"units_sold\"]\n",
    "\n",
    "# Split the data for training and testing\n",
    "X_train, X_test, y_train, y_test = train_test_split(\n",
    "    X, y, train_size=0.8, random_state=1\n",
    ")"
   ]
  },
  {
   "cell_type": "code",
   "execution_count": null,
   "id": "85bbd733",
   "metadata": {},
   "outputs": [],
   "source": [
    "from sklearn.preprocessing import OneHotEncoder, StandardScaler\n",
    "from sklearn.compose import make_column_transformer\n",
    "from sklearn.linear_model import LinearRegression\n",
    "from sklearn.pipeline import make_pipeline\n",
    "\n",
    "feat_transform = make_column_transformer(\n",
    "    (OneHotEncoder(drop=\"first\"), [\"region\"]),\n",
    "    (StandardScaler(), [\"price\", \"year\"]),\n",
    "    (\"passthrough\", [\"peak\"]),\n",
    "    remainder='drop'\n",
    ")\n",
    "pipeline = make_pipeline(feat_transform, LinearRegression())\n",
    "pipeline.fit(X_train, y_train)\n",
    "\n",
    "r2_test = r2_score(y_test, pipeline.predict(X_test))\n",
    "r2_train = r2_score(y_train, pipeline.predict(X_train))\n",
    "\n",
    "print(f\"R^2 value in the test set is {r2_test:.3f} training {r2_train:.3f}\")"
   ]
  },
  {
   "cell_type": "code",
   "execution_count": null,
   "id": "f5e41e93",
   "metadata": {},
   "outputs": [],
   "source": [
    "pipeline"
   ]
  },
  {
   "cell_type": "markdown",
   "id": "48cb9ee7",
   "metadata": {},
   "source": [
    "To validate the regression model, we will randomly split the dataset into $80\\%$\n",
    "training and $20\\%$ testing data and learn the weights using `Scikit-learn`."
   ]
  },
  {
   "cell_type": "markdown",
   "id": "0e99d156-e718-4a76-b5cf-5f0f4d84b014",
   "metadata": {},
   "source": [
    "Create dictionary with various regression models that we want to use"
   ]
  },
  {
   "cell_type": "markdown",
   "id": "08f48f80",
   "metadata": {},
   "source": [
    "## Prepare data of optimization model"
   ]
  },
  {
   "cell_type": "code",
   "execution_count": null,
   "id": "68af2417",
   "metadata": {},
   "outputs": [],
   "source": [
    "# Sets and parameters\n",
    "B = 30  # total amount ot avocado supply\n",
    "\n",
    "peak_or_not = 1  # 1 if it is the peak season; 1 if isn't\n",
    "year = 2020\n",
    "\n",
    "c_waste = 0.5  # the cost ($) of wasting an avocado\n",
    "# the cost of transporting an avocado\n",
    "c_transport = pd.Series(\n",
    "    {\n",
    "        \"Great_Lakes\": 0.3,\n",
    "        \"Midsouth\": 0.1,\n",
    "        \"Northeast\": 0.4,\n",
    "        \"Northern_New_England\": 0.5,\n",
    "        \"SouthCentral\": 0.3,\n",
    "        \"Southeast\": 0.2,\n",
    "        \"West\": 0.2,\n",
    "        \"Plains\": 0.2,\n",
    "    }, name='transport_cost'\n",
    ")\n",
    "\n",
    "c = c_transport.loc[regions]\n",
    "# the cost of transporting an avocado\n",
    "\n",
    "# Get the lower and upper bounds from the dataset for the price and the number of products to be stocked\n",
    "a_min = 0  # minimum avocado price in each region\n",
    "a_max = 2  # maximum avocado price in each region\n",
    "\n",
    "data = pd.concat([c_transport,\n",
    "                  df.groupby(\"region\")[\"units_sold\"].min().rename('min_delivery'),\n",
    "                  df.groupby(\"region\")[\"units_sold\"].max().rename('max_delivery')], axis=1)"
   ]
  },
  {
   "cell_type": "code",
   "execution_count": null,
   "id": "439bcc71",
   "metadata": {},
   "outputs": [],
   "source": [
    "data"
   ]
  },
  {
   "cell_type": "code",
   "execution_count": null,
   "id": "56fdf23f",
   "metadata": {},
   "outputs": [],
   "source": [
    "m = gp.Model(\"Avocado_Price_Allocation\")\n",
    "\n",
    "p = gppd.add_vars(m, data, name=\"price\", lb=a_min, ub=a_max)\n",
    "d = gppd.add_vars(m, data, lb=-gp.GRB.INFINITY, name=\"demand\")\n",
    "u = m.addVar()\n",
    "m.update()\n",
    "pd.concat([p,d], axis=1)"
   ]
  },
  {
   "cell_type": "code",
   "execution_count": null,
   "id": "1e6aa60e",
   "metadata": {},
   "outputs": [],
   "source": [
    "m.update()"
   ]
  },
  {
   "cell_type": "code",
   "execution_count": null,
   "id": "42e384e7",
   "metadata": {},
   "outputs": [],
   "source": [
    "m.setObjective(((p - data[\"transport_cost\"]) * d).sum() - c_waste * u, GRB.MAXIMIZE)\n",
    "\n",
    "m.addConstr(d.sum() + u == B)"
   ]
  },
  {
   "cell_type": "code",
   "execution_count": null,
   "id": "33d903bc",
   "metadata": {},
   "outputs": [],
   "source": [
    "feats = pd.DataFrame(\n",
    "    data={\n",
    "        \"year\": year,\n",
    "        \"peak\": peak_or_not,\n",
    "        \"region\": regions,\n",
    "    },\n",
    "    index=regions\n",
    ")\n",
    "feats = pd.concat(\n",
    "[feats, p],\n",
    "axis=1)[[\"region\", \"price\", \"year\", \"peak\"]]"
   ]
  },
  {
   "cell_type": "code",
   "execution_count": null,
   "id": "28e1a6f1",
   "metadata": {},
   "outputs": [],
   "source": [
    "pred_constr = add_predictor_constr(m, pipeline, feats, d, no_debug=1)\n",
    "\n",
    "pred_constr.print_stats()"
   ]
  },
  {
   "cell_type": "code",
   "execution_count": null,
   "id": "cb6452a4",
   "metadata": {},
   "outputs": [],
   "source": [
    "m.Params.NonConvex = 2\n",
    "m.optimize()"
   ]
  },
  {
   "cell_type": "code",
   "execution_count": null,
   "id": "ec0d106b",
   "metadata": {},
   "outputs": [],
   "source": [
    "solution = pd.DataFrame(index=regions)\n",
    "\n",
    "solution[\"Price\"] = p.gppd.X\n",
    "solution[\"Demand\"] = d.gppd.X\n",
    "\n",
    "opt_revenue = m.ObjVal\n",
    "print(f\" Optimal net revenue: {opt_revenue:.3}\")\n",
    "print(f\"\\n Unsold avocados: {u.X:.2}\")\n",
    "solution.round(4)"
   ]
  },
  {
   "cell_type": "markdown",
   "id": "34279917",
   "metadata": {},
   "source": [
    "We can also check the error in the estimate of the Gurobi solution for the regression model."
   ]
  },
  {
   "cell_type": "code",
   "execution_count": null,
   "id": "353149d2",
   "metadata": {},
   "outputs": [],
   "source": [
    "print(\n",
    "    \"Maximum error in approximating the regression {:.6}\".format(\n",
    "        np.max(pred_constr.get_error())\n",
    "    )\n",
    ")"
   ]
  },
  {
   "cell_type": "markdown",
   "id": "f2e7114c",
   "metadata": {},
   "source": [
    "And the computed features of the regression model in a pandas dataframe."
   ]
  },
  {
   "cell_type": "code",
   "execution_count": null,
   "id": "fe5d3599",
   "metadata": {},
   "outputs": [],
   "source": [
    "pred_constr.input_values.drop(\"region\", axis=1).round(2)"
   ]
  },
  {
   "cell_type": "markdown",
   "id": "93bb9dfb",
   "metadata": {},
   "source": [
    "Let us now visualize a scatter plot between the price and the number of avocados\n",
    "sold (in millions) for the eight regions."
   ]
  },
  {
   "cell_type": "code",
   "execution_count": null,
   "id": "d1590957",
   "metadata": {},
   "outputs": [],
   "source": [
    "fig, ax = plt.subplots(1, 1)\n",
    "\n",
    "plot_sol = sns.scatterplot(data=solution, x=\"Price\", y=\"Demand\", hue=solution.index, s=100)\n",
    "plot_sol.legend(loc=\"center left\", bbox_to_anchor=(1.25, 0.5), ncol=1)\n",
    "plt.ylim(0, 5.2)\n",
    "plt.xlim(1, 2.2)\n",
    "ax.set_xlabel(\"Price per avocado ($)\")\n",
    "ax.set_ylabel(\"Number of avocados sold (millions)\")\n",
    "plt.show()\n",
    "print(f\" Optimal net revenue: {opt_revenue:.3} million, unsold avocados: {u.X:.2} millions\")"
   ]
  },
  {
   "cell_type": "markdown",
   "id": "c3b4a665",
   "metadata": {},
   "source": [
    "We have shown how to model the price and supply optimization problem with Gurobi\n",
    "Machine Learning. In the [Gurobi modeling examples\n",
    "notebook](https://github.com/Gurobi/modeling-examples/tree/master/price_optimization)\n",
    "more analysis of the solutions this model can give is done interactively. Be\n",
    "sure to take look at it."
   ]
  },
  {
   "cell_type": "markdown",
   "id": "bc9fbba6",
   "metadata": {
    "nbsphinx": "hidden"
   },
   "source": [
    "Copyright © 2022 Gurobi Optimization, LLC"
   ]
  }
 ],
 "metadata": {
  "kernelspec": {
   "display_name": "Python 3 (ipykernel)",
   "language": "python",
   "name": "python3"
  },
  "language_info": {
   "codemirror_mode": {
    "name": "ipython",
    "version": 3
   },
   "file_extension": ".py",
   "mimetype": "text/x-python",
   "name": "python",
   "nbconvert_exporter": "python",
   "pygments_lexer": "ipython3",
   "version": "3.11.1"
  },
  "license": {
   "full_text": "# Copyright © 2022 Gurobi Optimization, LLC\n#\n# Licensed under the Apache License, Version 2.0 (the \"License\");\n# you may not use this file except in compliance with the License.\n# You may obtain a copy of the License at\n#\n#     http://www.apache.org/licenses/LICENSE-2.0\n#\n# Unless required by applicable law or agreed to in writing, software\n# distributed under the License is distributed on an \"AS IS\" BASIS,\n# WITHOUT WARRANTIES OR CONDITIONS OF ANY KIND, either express or implied.\n# See the License for the specific language governing permissions and\n# limitations under the License.\n# =============================================================================="
  }
 },
 "nbformat": 4,
 "nbformat_minor": 5
}
