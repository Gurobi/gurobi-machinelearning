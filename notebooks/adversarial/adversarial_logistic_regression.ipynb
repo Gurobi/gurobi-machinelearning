{
 "cells": [
  {
   "cell_type": "markdown",
   "metadata": {},
   "source": [
    "# Adversarial example with multinomial logistic regression\n",
    "\n",
    "In this example, we redo the [adversarial example](https://gurobi-optimization-ml2gurobi.readthedocs-hosted.com/en/latest/examples/adversarial_mnist.html) of the documentation but use a logistic regression model for the regression\n",
    "\n",
    "We don't detail the optimization model here. Please refer to the example in the documentation."
   ]
  },
  {
   "cell_type": "markdown",
   "metadata": {},
   "source": [
    "## Import the necessary packages and load data\n",
    "\n",
    "We import all the package we need for this example.\n",
    "We fetch the MINST data set using sklearn's functionalities."
   ]
  },
  {
   "cell_type": "code",
   "execution_count": null,
   "metadata": {
    "tags": []
   },
   "outputs": [],
   "source": [
    "import numpy as np\n",
    "from matplotlib import pyplot as plt\n",
    "\n",
    "from sklearn.datasets import fetch_openml\n",
    "from sklearn.linear_model import LogisticRegression\n",
    "from sklearn.pipeline import make_pipeline\n",
    "from sklearn.preprocessing import StandardScaler\n",
    "\n",
    "import gurobipy as gp"
   ]
  },
  {
   "cell_type": "code",
   "execution_count": null,
   "metadata": {},
   "outputs": [],
   "source": [
    "%pip install -U ../../"
   ]
  },
  {
   "cell_type": "code",
   "execution_count": null,
   "metadata": {
    "tags": []
   },
   "outputs": [],
   "source": [
    "from gurobi_ml import add_predictor_constr"
   ]
  },
  {
   "cell_type": "code",
   "execution_count": null,
   "metadata": {
    "tags": []
   },
   "outputs": [],
   "source": [
    "# Get MNIST digit recognition data set\n",
    "# Load data from https://www.openml.org/d/554\n",
    "X, y = fetch_openml(\n",
    "    \"mnist_784\", version=1, return_X_y=True, as_frame=False, parser=\"pandas\"\n",
    ")"
   ]
  },
  {
   "cell_type": "markdown",
   "metadata": {},
   "source": [
    "Flatten and scale the data"
   ]
  },
  {
   "cell_type": "code",
   "execution_count": null,
   "metadata": {
    "tags": []
   },
   "outputs": [],
   "source": [
    "X = X.astype(np.float64) / 255.0\n",
    "clf = LogisticRegression(C=50.0 / 500, penalty=\"l1\", solver=\"saga\", tol=0.1)\n",
    "pipeline = make_pipeline(clf)\n",
    "pipeline.fit(X, y)"
   ]
  },
  {
   "cell_type": "code",
   "execution_count": null,
   "metadata": {
    "tags": []
   },
   "outputs": [],
   "source": [
    "imageno = 13"
   ]
  },
  {
   "cell_type": "code",
   "execution_count": null,
   "metadata": {
    "tags": []
   },
   "outputs": [],
   "source": [
    "ex_prob = clf.predict_proba(X[imageno:imageno+1, :])\n",
    "sorted_labels = np.argsort(ex_prob)[0]\n",
    "right_label = sorted_labels[-1]\n",
    "wrong_label = sorted_labels[-2]"
   ]
  },
  {
   "cell_type": "code",
   "execution_count": null,
   "metadata": {
    "tags": []
   },
   "outputs": [],
   "source": [
    "from gurobi_ml.sklearn.logistic_regression import LogisticRegressionConstr"
   ]
  },
  {
   "cell_type": "code",
   "execution_count": null,
   "metadata": {
    "tags": []
   },
   "outputs": [],
   "source": [
    "pwl_attr = LogisticRegressionConstr.default_pwl_attributes()\n",
    "pwl_attr"
   ]
  },
  {
   "cell_type": "code",
   "execution_count": null,
   "metadata": {
    "tags": []
   },
   "outputs": [],
   "source": [
    "image = X[imageno, :]\n",
    "plt.imshow(image.reshape((28, 28)), cmap=\"gray\")\n",
    "label = clf.predict(image.reshape(1,-1))\n",
    "print(f\"Solution is classified as {label}\")"
   ]
  },
  {
   "cell_type": "code",
   "execution_count": null,
   "metadata": {
    "tags": []
   },
   "outputs": [],
   "source": [
    "wrong_label"
   ]
  },
  {
   "cell_type": "code",
   "execution_count": null,
   "metadata": {
    "tags": []
   },
   "outputs": [],
   "source": [
    "m = gp.Model()\n",
    "delta = 10\n",
    "\n",
    "x = m.addMVar(image.shape, lb=0.0, ub=1.0, name=\"x\")\n",
    "y = m.addMVar(ex_prob.shape, lb=0.0, ub=1.0, name=\"y\")\n",
    "\n",
    "abs_diff = m.addMVar(image.shape, lb=0, ub=1, name=\"abs_diff\")\n",
    "\n",
    "m.setObjective(y[0, wrong_label] - y[0, right_label], gp.GRB.MAXIMIZE)\n",
    "\n",
    "\n",
    "# Bound on the distance to example in norm-1\n",
    "m.addConstr(abs_diff >= x - image)\n",
    "m.addConstr(abs_diff >= -x + image)\n",
    "m.addConstr(abs_diff.sum() <= delta)\n",
    "\n",
    "pred_constr = add_predictor_constr(m, pipeline, x, y, epsilon=0, output_type='probability')\n",
    "\n",
    "pred_constr.print_stats()"
   ]
  },
  {
   "cell_type": "code",
   "execution_count": null,
   "metadata": {
    "tags": []
   },
   "outputs": [],
   "source": [
    "def simple_obbt(logreg_constr: LogisticRegressionConstr):\n",
    "    \"\"\" Do OBBT on intermediate terms on which exponential is taken\n",
    "    \n",
    "    This is a naive implementation of OBBT for those terms.\n",
    "    \"\"\"\n",
    "    m = logreg_constr.gp_model\n",
    "    m.update()\n",
    "    with m.relax() as obbt_prob:\n",
    "        obbt_prob.Params.OutputFlag = 0\n",
    "        obbt_vars = obbt_prob.getVars()\n",
    "        # Remove quadratic constraints\n",
    "        obbt_prob.remove(obbt_prob.getQConstrs())\n",
    "\n",
    "        coefs = logreg_constr.predictor.coef_\n",
    "        intercept = logreg_constr.predictor.intercept_\n",
    "        affinevars = logreg_constr.affinevars\n",
    "\n",
    "        obbt_prob.optimize()\n",
    "\n",
    "        for index in np.ndindex(affinevars.shape):\n",
    "            var = affinevars[index].item()\n",
    "            obbbt_var = obbt_vars[var.index]\n",
    "\n",
    "            for sense in (gp.GRB.MINIMIZE, gp.GRB.MAXIMIZE):\n",
    "                obbt_prob.setObjective(obbbt_var, sense)\n",
    "                obbt_prob.optimize()\n",
    "\n",
    "                objval = obbt_prob.objval\n",
    "\n",
    "                if sense == gp.GRB.MINIMIZE:\n",
    "                    lower_bound = var.LB\n",
    "                    new_lower_bound = max(lower_bound, obbt_prob.ObjVal)\n",
    "                else:\n",
    "                    upper_bound = var.UB\n",
    "                    new_upper_bound = min(upper_bound, obbt_prob.ObjVal)\n",
    "            var.UB = new_upper_bound\n",
    "            var.LB = new_lower_bound\n",
    "            print(f\"Variable {var.VarName}, current bounds [{lower_bound:5.3}, {upper_bound:5.3}] strengthened [{new_lower_bound:5.3}, {new_upper_bound:5.3}]\")\n",
    "\n",
    "# I think that we can skip this simple OBBT\n",
    "# simple_obbt(pred_constr[-1])\n"
   ]
  },
  {
   "cell_type": "code",
   "execution_count": null,
   "metadata": {
    "tags": []
   },
   "outputs": [],
   "source": [
    "m.optimize()"
   ]
  },
  {
   "cell_type": "code",
   "execution_count": null,
   "metadata": {
    "tags": []
   },
   "outputs": [],
   "source": [
    "# Error in approximation\n",
    "pred_constr.get_error().max()"
   ]
  },
  {
   "cell_type": "code",
   "execution_count": null,
   "metadata": {
    "tags": []
   },
   "outputs": [],
   "source": [
    "plt.imshow(x.X.reshape((28, 28)), cmap=\"gray\")\n",
    "label = pipeline.predict(x.X.reshape(1,-1))\n",
    "print(f\"Solution is classified as {label}\")"
   ]
  },
  {
   "cell_type": "markdown",
   "metadata": {},
   "source": [
    "copyright © 2023 Gurobi Optimization, LLC"
   ]
  }
 ],
 "metadata": {
  "kernelspec": {
   "display_name": "Python 3 (ipykernel)",
   "language": "python",
   "name": "python3"
  },
  "language_info": {
   "codemirror_mode": {
    "name": "ipython",
    "version": 3
   },
   "file_extension": ".py",
   "mimetype": "text/x-python",
   "name": "python",
   "nbconvert_exporter": "python",
   "pygments_lexer": "ipython3",
   "version": "3.11.1"
  },
  "license": {
   "full_text": "# Copyright © 2023 Gurobi Optimization, LLC\n#\n# Licensed under the Apache License, Version 2.0 (the \"License\");\n# you may not use this file except in compliance with the License.\n# You may obtain a copy of the License at\n#\n#     http://www.apache.org/licenses/LICENSE-2.0\n#\n# Unless required by applicable law or agreed to in writing, software\n# distributed under the License is distributed on an \"AS IS\" BASIS,\n# WITHOUT WARRANTIES OR CONDITIONS OF ANY KIND, either express or implied.\n# See the License for the specific language governing permissions and\n# limitations under the License.\n# =============================================================================="
  },
  "vscode": {
   "interpreter": {
    "hash": "949777d72b0d2535278d3dc13498b2535136f6dfe0678499012e853ee9abcab1"
   }
  }
 },
 "nbformat": 4,
 "nbformat_minor": 4
}
