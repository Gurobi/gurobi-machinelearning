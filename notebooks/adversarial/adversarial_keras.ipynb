{
 "cells": [
  {
   "cell_type": "markdown",
   "metadata": {},
   "source": [
    "# Adversarial example using pytorch\n",
    "\n",
    "In this example, we redo the [adversarial example](https://gurobi-optimization-ml2gurobi.readthedocs-hosted.com/en/latest/examples/adversarial_mnist.html) of the documentation but use tensorflow Keras for training the neural network.\n",
    "\n",
    "We don't detail the optimization model here. Please refer to the example in the documentation.\n",
    "Note that many of the differences between this notebook and the one from the documentation come from\n",
    "using tensorflow instead of numpy for manipulating data.\n",
    "\n",
    "This example requires the additional packages:\n",
    " - [tensorflow](https://www.tensorflow.org/)\n",
    " - [matplotlib](https://matplotlib.org/)"
   ]
  },
  {
   "cell_type": "markdown",
   "metadata": {},
   "source": [
    "## Import the necessary packages and load data\n",
    "\n",
    "We import all the package we need for this example.\n",
    "The MNIST dataset is available from Keras."
   ]
  },
  {
   "cell_type": "code",
   "execution_count": null,
   "metadata": {},
   "outputs": [],
   "source": [
    "from matplotlib import pyplot as plt\n",
    "import tensorflow as tf\n",
    "from tensorflow import keras\n",
    "\n",
    "import gurobipy as gp\n",
    "\n",
    "from gurobi_ml import add_predictor_constr"
   ]
  },
  {
   "cell_type": "code",
   "execution_count": null,
   "metadata": {},
   "outputs": [],
   "source": [
    "(x_train, y_train), (x_test, y_test) = keras.datasets.mnist.load_data()"
   ]
  },
  {
   "cell_type": "markdown",
   "metadata": {},
   "source": [
    "We reshape and scale `x_train` and `x_test`."
   ]
  },
  {
   "cell_type": "code",
   "execution_count": null,
   "metadata": {},
   "outputs": [],
   "source": [
    "x_train = tf.reshape(tf.cast(x_train, tf.float32) / 255.0, [-1, 28 * 28])\n",
    "x_test = tf.reshape(tf.cast(x_test, tf.float32) / 255.0, [-1, 28 * 28])"
   ]
  },
  {
   "cell_type": "markdown",
   "metadata": {},
   "source": [
    "## Construct and train the neural network\n",
    "\n",
    "We construct a sequential neural network with 2 hidden layers of 50 neurons and ReLU activation.\n",
    "\n",
    "We use the usual Keras functions to compile and fit the network."
   ]
  },
  {
   "cell_type": "code",
   "execution_count": null,
   "metadata": {},
   "outputs": [],
   "source": [
    "nn = tf.keras.models.Sequential(\n",
    "    [\n",
    "        tf.keras.layers.InputLayer(28 * 28),\n",
    "        tf.keras.layers.Dense(50, activation=\"relu\"),\n",
    "        tf.keras.layers.Dense(50, activation=\"relu\"),\n",
    "        tf.keras.layers.Dense(10),\n",
    "    ]\n",
    ")"
   ]
  },
  {
   "cell_type": "code",
   "execution_count": null,
   "metadata": {},
   "outputs": [],
   "source": [
    "nn.compile(\n",
    "    optimizer=tf.keras.optimizers.Adam(0.001),\n",
    "    loss=tf.keras.losses.SparseCategoricalCrossentropy(from_logits=True),\n",
    "    metrics=[tf.keras.metrics.SparseCategoricalAccuracy()],\n",
    ")"
   ]
  },
  {
   "cell_type": "code",
   "execution_count": null,
   "metadata": {},
   "outputs": [],
   "source": [
    "nn.fit(\n",
    "    x_train,\n",
    "    y_train,\n",
    "    epochs=6,\n",
    "    validation_data=(x_test, y_test),\n",
    ")"
   ]
  },
  {
   "cell_type": "markdown",
   "metadata": {},
   "source": [
    "Print summary of the trained network"
   ]
  },
  {
   "cell_type": "code",
   "execution_count": null,
   "metadata": {},
   "outputs": [],
   "source": [
    "nn.summary()"
   ]
  },
  {
   "cell_type": "markdown",
   "metadata": {},
   "source": [
    "## Build optimization model\n",
    "\n",
    "Now we turn to building the optimization model.\n",
    "\n",
    "We choose a training example and the steps are similar to the one with scikit-learn in the documentation.\n",
    "The only differences come from the data being stored in tensors instead of arrays."
   ]
  },
  {
   "cell_type": "code",
   "execution_count": null,
   "metadata": {},
   "outputs": [],
   "source": [
    "example = x_train[18, :]\n",
    "plt.imshow(tf.reshape(example, [28, 28]), cmap=\"gray\")\n",
    "plt.show()\n",
    "label = tf.math.argmax(nn.predict(tf.reshape(example, (1, -1))), axis=1)\n",
    "print(f\"Example is classified as {label}\")"
   ]
  },
  {
   "cell_type": "code",
   "execution_count": null,
   "metadata": {},
   "outputs": [],
   "source": [
    "ex_prob = nn.predict(tf.reshape(example, (1, -1)))\n",
    "sorted_labels = tf.argsort(ex_prob)[0]\n",
    "right_label = sorted_labels[-1]\n",
    "wrong_label = sorted_labels[-2]"
   ]
  },
  {
   "cell_type": "code",
   "execution_count": null,
   "metadata": {},
   "outputs": [],
   "source": [
    "m = gp.Model()\n",
    "delta = 5\n",
    "\n",
    "x = m.addMVar(example.numpy().shape, lb=0.0, ub=1.0, name=\"x\")\n",
    "y = m.addMVar(ex_prob.shape, lb=-gp.GRB.INFINITY, name=\"y\")\n",
    "\n",
    "abs_diff = m.addMVar(example.numpy().shape, lb=0, ub=1, name=\"abs_diff\")\n",
    "\n",
    "m.setObjective(y[0, wrong_label] - y[0, right_label], gp.GRB.MAXIMIZE)\n",
    "\n",
    "# Bound on the distance to example in norm-1\n",
    "m.addConstr(abs_diff >= x - example.numpy())\n",
    "m.addConstr(abs_diff >= -x + example.numpy())\n",
    "m.addConstr(abs_diff.sum() <= delta)\n",
    "\n",
    "# Update the model\n",
    "m.update()\n",
    "\n",
    "pred_constr = add_predictor_constr(m, nn, x, y)\n",
    "\n",
    "pred_constr.print_stats()"
   ]
  },
  {
   "cell_type": "code",
   "execution_count": null,
   "metadata": {},
   "outputs": [],
   "source": [
    "m.Params.BestBdStop = 0.0\n",
    "m.Params.BestObjStop = 0.0\n",
    "m.optimize()"
   ]
  },
  {
   "cell_type": "markdown",
   "metadata": {},
   "source": [
    "Finally, display the adversarial example if one was found."
   ]
  },
  {
   "cell_type": "code",
   "execution_count": null,
   "metadata": {},
   "outputs": [],
   "source": [
    "if m.ObjVal > 0.0:\n",
    "    pixels = x.X.reshape((28, 28))\n",
    "    plt.imshow(pixels, cmap=\"gray\")\n",
    "    plt.show()\n",
    "    label = tf.math.argmax(nn.predict(tf.reshape(x.X, (1, -1))), axis=1)\n",
    "    print(f\"Solution is classified as {label}\")\n",
    "else:\n",
    "    print(\"No counter example exists in neighborhood.\")"
   ]
  },
  {
   "cell_type": "markdown",
   "metadata": {},
   "source": [
    "copyright © 2022 Gurobi Optimization, LLC"
   ]
  }
 ],
 "metadata": {
  "kernelspec": {
   "display_name": "Python 3 (ipykernel)",
   "language": "python",
   "name": "python3"
  },
  "language_info": {
   "codemirror_mode": {
    "name": "ipython",
    "version": 3
   },
   "file_extension": ".py",
   "mimetype": "text/x-python",
   "name": "python",
   "nbconvert_exporter": "python",
   "pygments_lexer": "ipython3",
   "version": "3.9.12"
  },
  "license": {
   "full_text": "# Copyright © 2022 Gurobi Optimization, LLC\n#\n# Licensed under the Apache License, Version 2.0 (the \"License\");\n# you may not use this file except in compliance with the License.\n# You may obtain a copy of the License at\n#\n#     http://www.apache.org/licenses/LICENSE-2.0\n#\n# Unless required by applicable law or agreed to in writing, software\n# distributed under the License is distributed on an \"AS IS\" BASIS,\n# WITHOUT WARRANTIES OR CONDITIONS OF ANY KIND, either express or implied.\n# See the License for the specific language governing permissions and\n# limitations under the License.\n# =============================================================================="
  },
  "vscode": {
   "interpreter": {
    "hash": "949777d72b0d2535278d3dc13498b2535136f6dfe0678499012e853ee9abcab1"
   }
  }
 },
 "nbformat": 4,
 "nbformat_minor": 4
}
