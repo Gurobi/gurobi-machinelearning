{
 "cells": [
  {
   "cell_type": "markdown",
   "metadata": {},
   "source": [
    "# Adversarial example using pytorch\n",
    "\n",
    "In this example, we redo the [adversarial example](https://gurobi-optimization-ml2gurobi.readthedocs-hosted.com/en/latest/examples/adversarial_mnist.html) of the documentation but use pytorch for training the neural network.\n",
    "\n",
    "We don't detail the optimization model here. Please refer to the example in the documentation.\n",
    "\n",
    "This example requires the additional packages:\n",
    " - [torch](https://pytorch.org/)\n",
    " - [torchvision](https://pytorch.org/)\n",
    " - [matplotlib](https://matplotlib.org/)\n",
    " - [skorch](https://skorch.readthedocs.io/en/stable/)\n",
    "\n",
    " The latter package is a wrapper for giving to pytorch a Scikit-Learn like interface."
   ]
  },
  {
   "cell_type": "markdown",
   "metadata": {},
   "source": [
    "## Import the necessary packages and load data\n",
    "\n",
    "We import all the package we need for this example.\n",
    "We fetch the MINST data set using sklearn's functionalities."
   ]
  },
  {
   "cell_type": "code",
   "execution_count": null,
   "metadata": {},
   "outputs": [],
   "source": [
    "import numpy as np\n",
    "from matplotlib import pyplot as plt\n",
    "\n",
    "import torch\n",
    "import torchvision\n",
    "from skorch import NeuralNetClassifier\n",
    "\n",
    "import gurobipy as gp\n",
    "from gurobi_ml import add_predictor_constr"
   ]
  },
  {
   "cell_type": "code",
   "execution_count": null,
   "metadata": {},
   "outputs": [],
   "source": [
    "# Get MNIST digit recognition data set\n",
    "mnist_train = torchvision.datasets.MNIST(root=\"./MNIST\", train=True, download=True)\n",
    "\n",
    "mnist_test = torchvision.datasets.MNIST(root=\"./MNIST\", train=False, download=True)"
   ]
  },
  {
   "cell_type": "markdown",
   "metadata": {},
   "source": [
    "Flatten and scale the data"
   ]
  },
  {
   "cell_type": "code",
   "execution_count": null,
   "metadata": {},
   "outputs": [],
   "source": [
    "x_train = torch.flatten(mnist_train.data.type(torch.FloatTensor), start_dim=1)\n",
    "y_train = mnist_train.targets\n",
    "x_test = torch.flatten(mnist_test.data.type(torch.FloatTensor), start_dim=1)\n",
    "y_test = mnist_test.targets\n",
    "\n",
    "x_train /= 255.0  # scaling\n",
    "x_test /= 255.0  # scaling"
   ]
  },
  {
   "cell_type": "markdown",
   "metadata": {},
   "source": [
    "## Construct and train the neural network\n",
    "\n",
    "We construct a sequential neural network with 2 hidden layers of 50 neurons.\n",
    "To train it, we use `skorch` that provides an interface similar to `scikit-learn`."
   ]
  },
  {
   "cell_type": "code",
   "execution_count": null,
   "metadata": {},
   "outputs": [],
   "source": [
    "nn_model = torch.nn.Sequential(\n",
    "    torch.nn.Linear(28 * 28, 50),\n",
    "    torch.nn.ReLU(),\n",
    "    torch.nn.Linear(50, 50),\n",
    "    torch.nn.ReLU(),\n",
    "    torch.nn.Linear(50, 10),\n",
    "    torch.nn.Softmax(1),\n",
    ")"
   ]
  },
  {
   "cell_type": "code",
   "execution_count": null,
   "metadata": {},
   "outputs": [],
   "source": [
    "clf = NeuralNetClassifier(\n",
    "    nn_model,\n",
    "    max_epochs=50,\n",
    "    lr=0.1,\n",
    "    iterator_train__shuffle=True,\n",
    ")\n",
    "\n",
    "clf.fit(X=x_train, y=y_train)"
   ]
  },
  {
   "cell_type": "code",
   "execution_count": null,
   "metadata": {},
   "outputs": [],
   "source": [
    "print(f\"Training score: {clf.score(x_train, y_train):.4}\")\n",
    "print(f\"Validation set score: {clf.score(x_test, y_test):.4}\")"
   ]
  },
  {
   "cell_type": "code",
   "execution_count": null,
   "metadata": {},
   "outputs": [],
   "source": [
    "nn_regression = torch.nn.Sequential(*[layer for layer in nn_model[:-1]])"
   ]
  },
  {
   "cell_type": "code",
   "execution_count": null,
   "metadata": {},
   "outputs": [],
   "source": [
    "imageno = 10000\n",
    "image = mnist_train.data[imageno, :]\n",
    "plt.imshow(first_image, cmap=\"gray\")\n",
    "plt.show()"
   ]
  },
  {
   "cell_type": "code",
   "execution_count": null,
   "metadata": {},
   "outputs": [],
   "source": [
    "nn_regression.forward(x_train[imageno, :])"
   ]
  },
  {
   "cell_type": "code",
   "execution_count": null,
   "metadata": {},
   "outputs": [],
   "source": [
    "image.numpy().shape"
   ]
  },
  {
   "cell_type": "code",
   "execution_count": null,
   "metadata": {},
   "outputs": [],
   "source": [
    "image = x_train[imageno, :].numpy()  # We need numpy converted image\n",
    "\n",
    "m = gp.Model()\n",
    "x = m.addMVar(image.shape, lb=0.0, ub=1.0)\n",
    "y = m.addMVar((10), lb=-gp.GRB.INFINITY)\n",
    "abs_diff = m.addMVar(image.shape, lb=0.0, ub=1.0)"
   ]
  },
  {
   "cell_type": "code",
   "execution_count": null,
   "metadata": {},
   "outputs": [],
   "source": [
    "add_predictor_constr(m, nn_regression, x, y)"
   ]
  },
  {
   "cell_type": "code",
   "execution_count": null,
   "metadata": {},
   "outputs": [],
   "source": [
    "m.addConstr(abs_diff >= x - image)\n",
    "m.addConstr(abs_diff >= image - x)\n",
    "m.addConstr(abs_diff.sum() <= 5)"
   ]
  },
  {
   "cell_type": "code",
   "execution_count": null,
   "metadata": {},
   "outputs": [],
   "source": [
    "m.setObjective(y[5] - y[3], gp.GRB.MAXIMIZE)"
   ]
  },
  {
   "cell_type": "code",
   "execution_count": null,
   "metadata": {},
   "outputs": [],
   "source": [
    "m.Params.BestBdStop = 0.0\n",
    "m.Params.BestObjStop = 0.0\n",
    "m.optimize()"
   ]
  },
  {
   "cell_type": "code",
   "execution_count": null,
   "metadata": {},
   "outputs": [],
   "source": [
    "if m.ObjVal > 0.0:\n",
    "    pixels = x.X.reshape((28, 28))\n",
    "    plt.imshow(pixels, cmap=\"gray\")\n",
    "    plt.show()\n",
    "    label = tf.math.argmax(nn.predict(tf.reshape(x.X, (1, -1))), axis=1)\n",
    "    print(f\"Solution is classified as {label}\")\n",
    "else:\n",
    "    print(\"No counter example exists in neighborhood.\")"
   ]
  },
  {
   "cell_type": "markdown",
   "metadata": {},
   "source": [
    "copyright © 2022 Gurobi Optimization, LLC"
   ]
  }
 ],
 "metadata": {
  "kernelspec": {
   "display_name": "Python 3 (ipykernel)",
   "language": "python",
   "name": "python3"
  },
  "language_info": {
   "codemirror_mode": {
    "name": "ipython",
    "version": 3
   },
   "file_extension": ".py",
   "mimetype": "text/x-python",
   "name": "python",
   "nbconvert_exporter": "python",
   "pygments_lexer": "ipython3",
   "version": "3.9.12"
  },
  "license": {
   "full_text": "# Copyright © 2022 Gurobi Optimization, LLC\n#\n# Licensed under the Apache License, Version 2.0 (the \"License\");\n# you may not use this file except in compliance with the License.\n# You may obtain a copy of the License at\n#\n#     http://www.apache.org/licenses/LICENSE-2.0\n#\n# Unless required by applicable law or agreed to in writing, software\n# distributed under the License is distributed on an \"AS IS\" BASIS,\n# WITHOUT WARRANTIES OR CONDITIONS OF ANY KIND, either express or implied.\n# See the License for the specific language governing permissions and\n# limitations under the License.\n# =============================================================================="
  },
  "vscode": {
   "interpreter": {
    "hash": "949777d72b0d2535278d3dc13498b2535136f6dfe0678499012e853ee9abcab1"
   }
  }
 },
 "nbformat": 4,
 "nbformat_minor": 4
}
