{
 "cells": [
  {
   "cell_type": "markdown",
   "id": "0",
   "metadata": {},
   "source": [
    "# Adversarial example using ONNX\n",
    "\n"
   ]
  },
  {
   "cell_type": "markdown",
   "id": "1",
   "metadata": {},
   "source": [
    "## Import the necessary packages and load data\n",
    "\n"
   ]
  },
  {
   "cell_type": "code",
   "execution_count": null,
   "id": "2",
   "metadata": {},
   "outputs": [],
   "source": [
    "from matplotlib import pyplot as plt\n",
    "import numpy as np\n",
    "import tensorflow as tf\n",
    "from tensorflow import keras\n",
    "import onnx\n",
    "from onnx import helper, TensorProto\n",
    "\n",
    "import gurobipy as gp\n",
    "\n",
    "from gurobi_ml import add_predictor_constr"
   ]
  },
  {
   "cell_type": "code",
   "execution_count": null,
   "id": "3",
   "metadata": {},
   "outputs": [],
   "source": [
    "(x_train, y_train), (x_test, y_test) = keras.datasets.mnist.load_data()"
   ]
  },
  {
   "cell_type": "markdown",
   "id": "4",
   "metadata": {},
   "source": [
    "We reshape and scale `x_train` and `x_test`.\n"
   ]
  },
  {
   "cell_type": "code",
   "execution_count": null,
   "id": "5",
   "metadata": {},
   "outputs": [],
   "source": [
    "x_train = tf.reshape(tf.cast(x_train, tf.float32) / 255.0, [-1, 28 * 28])\n",
    "x_test = tf.reshape(tf.cast(x_test, tf.float32) / 255.0, [-1, 28 * 28])"
   ]
  },
  {
   "cell_type": "markdown",
   "id": "6",
   "metadata": {},
   "source": [
    "## Construct and train the neural network\n",
    "\n"
   ]
  },
  {
   "cell_type": "code",
   "execution_count": null,
   "id": "7",
   "metadata": {},
   "outputs": [],
   "source": [
    "nn = tf.keras.models.Sequential(\n",
    "    [\n",
    "        tf.keras.layers.InputLayer((28 * 28,)),\n",
    "        tf.keras.layers.Dense(50, activation=\"relu\"),\n",
    "        tf.keras.layers.Dense(50, activation=\"relu\"),\n",
    "        tf.keras.layers.Dense(10),  # logits\n",
    "    ]\n",
    ")"
   ]
  },
  {
   "cell_type": "code",
   "execution_count": null,
   "id": "8",
   "metadata": {},
   "outputs": [],
   "source": [
    "nn.compile(\n",
    "    optimizer=tf.keras.optimizers.Adam(0.001),\n",
    "    loss=tf.keras.losses.SparseCategoricalCrossentropy(from_logits=True),\n",
    "    metrics=[tf.keras.metrics.SparseCategoricalAccuracy()],\n",
    ")"
   ]
  },
  {
   "cell_type": "code",
   "execution_count": null,
   "id": "9",
   "metadata": {},
   "outputs": [],
   "source": [
    "nn.fit(\n",
    "    x_train,\n",
    "    y_train,\n",
    "    epochs=3,\n",
    "    validation_data=(x_test, y_test),\n",
    ")"
   ]
  },
  {
   "cell_type": "markdown",
   "id": "10",
   "metadata": {},
   "source": [
    "Convert the trained Keras model to an ONNX MLP\n"
   ]
  },
  {
   "cell_type": "code",
   "execution_count": null,
   "id": "11",
   "metadata": {},
   "outputs": [],
   "source": [
    "def keras_dense_layers_to_onnx(model):\n",
    "    # Extract dense layers weights/bias and activation\n",
    "    layers = []\n",
    "    in_dim = None\n",
    "    for layer in model.layers:\n",
    "        if isinstance(layer, tf.keras.layers.InputLayer):\n",
    "            try:\n",
    "                in_dim = layer.input_shape[-1]\n",
    "            except Exception:\n",
    "                pass\n",
    "        elif isinstance(layer, tf.keras.layers.Dense):\n",
    "            W, b = layer.get_weights()\n",
    "            act = layer.get_config().get(\"activation\", \"linear\")\n",
    "            layers.append((W.astype(np.float32), b.astype(np.float32), act))\n",
    "\n",
    "    # Build ONNX graph from collected layers\n",
    "    n_in = in_dim or layers[0][0].shape[0]\n",
    "    X = helper.make_tensor_value_info(\"X\", TensorProto.FLOAT, [None, n_in])\n",
    "\n",
    "    last = \"X\"\n",
    "    inits = []\n",
    "    nodes = []\n",
    "    for i, (W, b, act) in enumerate(layers):\n",
    "        W_name = f\"W{i + 1}\"\n",
    "        b_name = f\"b{i + 1}\"\n",
    "        # Gemm with transB=1 realizes (last @ W + b) when B is W.T\n",
    "        inits.append(\n",
    "            helper.make_tensor(W_name, TensorProto.FLOAT, W.T.shape, W.T.flatten())\n",
    "        )\n",
    "        inits.append(helper.make_tensor(b_name, TensorProto.FLOAT, b.shape, b))\n",
    "        out_name = f\"H{i + 1}\"\n",
    "        nodes.append(\n",
    "            helper.make_node(\n",
    "                \"Gemm\",\n",
    "                inputs=[last, W_name, b_name],\n",
    "                outputs=[out_name],\n",
    "                name=f\"gemm{i + 1}\",\n",
    "                transB=1,\n",
    "            )\n",
    "        )\n",
    "        last = out_name\n",
    "        if act == \"relu\":\n",
    "            act_name = f\"A{i + 1}\"\n",
    "            nodes.append(\n",
    "                helper.make_node(\n",
    "                    \"Relu\", inputs=[last], outputs=[act_name], name=f\"relu{i + 1}\"\n",
    "                )\n",
    "            )\n",
    "            last = act_name\n",
    "\n",
    "    # Connect final tensor to a named output via Identity\n",
    "    n_out = layers[-1][1].shape[0]\n",
    "    nodes.append(\n",
    "        helper.make_node(\"Identity\", inputs=[last], outputs=[\"Y\"], name=\"output\")\n",
    "    )\n",
    "    Y = helper.make_tensor_value_info(\"Y\", TensorProto.FLOAT, [None, n_out])\n",
    "    graph = helper.make_graph(\n",
    "        nodes=nodes, name=\"KerasMLP\", inputs=[X], outputs=[Y], initializer=inits\n",
    "    )\n",
    "    model = helper.make_model(graph)\n",
    "    onnx.checker.check_model(model)\n",
    "    return model\n",
    "\n",
    "\n",
    "onnx_model = keras_dense_layers_to_onnx(nn)"
   ]
  },
  {
   "cell_type": "markdown",
   "id": "12",
   "metadata": {},
   "source": [
    "## Build optimization model\n",
    "\n",
    "Now we turn to building the optimization model.\n",
    "\n",
    "We choose a training example and follow the same steps as the Keras example.\n"
   ]
  },
  {
   "cell_type": "code",
   "execution_count": null,
   "id": "13",
   "metadata": {},
   "outputs": [],
   "source": [
    "example = x_train[18, :]\n",
    "plt.imshow(tf.reshape(example, [28, 28]), cmap=\"gray\")\n",
    "ex_prob = nn.predict(tf.reshape(example, (1, -1)))\n",
    "sorted_labels = tf.argsort(ex_prob)[0]\n",
    "right_label = sorted_labels[-1]\n",
    "wrong_label = sorted_labels[-2]\n",
    "print(\n",
    "    f\"Original classified as {int(right_label)}; target misclassify as {int(wrong_label)}\"\n",
    ")"
   ]
  },
  {
   "cell_type": "code",
   "execution_count": null,
   "id": "14",
   "metadata": {},
   "outputs": [],
   "source": [
    "m = gp.Model()\n",
    "delta = 5\n",
    "\n",
    "x = m.addMVar(example.numpy().shape, lb=0.0, ub=1.0, name=\"x\")\n",
    "y = m.addMVar(ex_prob.shape, lb=-gp.GRB.INFINITY, name=\"y\")\n",
    "\n",
    "abs_diff = m.addMVar(example.numpy().shape, lb=0, ub=1, name=\"abs_diff\")\n",
    "\n",
    "m.setObjective(y[0, wrong_label] - y[0, right_label], gp.GRB.MAXIMIZE)\n",
    "\n",
    "# Bound on the distance to example in norm-1\n",
    "m.addConstr(abs_diff >= x - example.numpy())\n",
    "m.addConstr(abs_diff >= -x + example.numpy())\n",
    "m.addConstr(abs_diff.sum() <= delta)\n",
    "\n",
    "pred_constr = add_predictor_constr(m, onnx_model, x, y)\n",
    "\n",
    "pred_constr.print_stats()"
   ]
  },
  {
   "cell_type": "code",
   "execution_count": null,
   "id": "15",
   "metadata": {},
   "outputs": [],
   "source": [
    "m.Params.BestBdStop = 0.0\n",
    "m.Params.BestObjStop = 0.0\n",
    "m.optimize()"
   ]
  },
  {
   "cell_type": "markdown",
   "id": "16",
   "metadata": {},
   "source": [
    "Finally, display the adversarial example if one was found.\n"
   ]
  },
  {
   "cell_type": "code",
   "execution_count": null,
   "id": "17",
   "metadata": {},
   "outputs": [],
   "source": [
    "if m.SolCount and m.ObjVal > 0.0:\n",
    "    plt.imshow(x.X.reshape((28, 28)), cmap=\"gray\")\n",
    "    label = tf.math.argmax(nn.predict(tf.reshape(x.X, (1, -1))), axis=1)\n",
    "    print(f\"Solution is classified as {label.numpy()[0]}\")\n",
    "else:\n",
    "    print(\"No counter example exists in neighborhood.\")"
   ]
  }
 ],
 "metadata": {
  "kernelspec": {
   "display_name": "Python 3 (ipykernel)",
   "language": "python",
   "name": "python3"
  },
  "language_info": {
   "codemirror_mode": {
    "name": "ipython",
    "version": 3
   },
   "file_extension": ".py",
   "mimetype": "text/x-python",
   "name": "python",
   "nbconvert_exporter": "python",
   "pygments_lexer": "ipython3",
   "version": "3.13.3"
  },
  "license": {
   "full_text": "# Copyright © 2025 Gurobi Optimization, LLC\n#\n# Licensed under the Apache License, Version 2.0 (the \"License\");\n# you may not use this file except in compliance with the License.\n# You may obtain a copy of the License at\n#\n#     http://www.apache.org/licenses/LICENSE-2.0\n#\n# Unless required by applicable law or agreed to in writing, software\n# distributed under the License is distributed on an \"AS IS\" BASIS,\n# WITHOUT WARRANTIES OR CONDITIONS OF ANY KIND, either express or implied.\n# See the License for the specific language governing permissions and\n# limitations under the License.\n# =============================================================================="
  }
 },
 "nbformat": 4,
 "nbformat_minor": 5
}
