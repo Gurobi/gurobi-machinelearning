{
 "cells": [
  {
   "cell_type": "markdown",
   "id": "9912c5b7",
   "metadata": {},
   "source": [
    "# Embed a Decision Tree in a Gurobi model\n",
    "\n",
    "*Note: The resulting model in this example will be too large for a size-limited license; in order to solve it, please visit https://www.gurobi.com/free-trial for a full license*\n",
    "\n",
    "In this notebook, we do the student admission problems\n",
    "[shown in the documentation](https://gurobi-optimization-gurobi-machine-learning.readthedocs-hosted.com/en/latest/mlm-examples/student_admission.html) using a decision tree regressor.\n",
    "\n",
    "### Extra required packages:\n",
    "\n",
    "- matplotlib\n",
    "- pandas"
   ]
  },
  {
   "cell_type": "code",
   "execution_count": null,
   "id": "2651f317",
   "metadata": {},
   "outputs": [],
   "source": [
    "import gurobipy as gp\n",
    "import numpy as np\n",
    "import pandas as pd\n",
    "from matplotlib import pyplot as plt\n",
    "from sklearn.tree import DecisionTreeRegressor\n",
    "from gurobi_ml import add_predictor_constr"
   ]
  },
  {
   "cell_type": "markdown",
   "id": "2e6d7ff1",
   "metadata": {},
   "source": [
    "We now retrieve the historical data used to build the regression from Janos\n",
    "repository.\n",
    "\n",
    "The features we use for the regression are `\"merit\"` (scholarship), `\"SAT\"` and\n",
    "`\"GPA\"` and the target is `\"enroll\"`. We store those values."
   ]
  },
  {
   "cell_type": "code",
   "execution_count": null,
   "id": "8133e0d9",
   "metadata": {},
   "outputs": [],
   "source": [
    "# Base URL for retrieving data\n",
    "janos_data_url = \"https://raw.githubusercontent.com/INFORMSJoC/2020.1023/master/data/\"\n",
    "historical_data = pd.read_csv(\n",
    "    janos_data_url + \"college_student_enroll-s1-1.csv\", index_col=0\n",
    ")\n",
    "\n",
    "# classify our features between the ones that are fixed and the ones that will be\n",
    "# part of the optimization problem\n",
    "features = [\"merit\", \"SAT\", \"GPA\"]\n",
    "target = \"enroll\""
   ]
  },
  {
   "cell_type": "markdown",
   "id": "dd3a3e47",
   "metadata": {},
   "source": [
    "## Fit the regression\n",
    "\n",
    "For the regression, we use a pipeline with a standard scaler and a logistic\n",
    "regression. We build it using the `make_pipeline` from `scikit-learn`."
   ]
  },
  {
   "cell_type": "code",
   "execution_count": null,
   "id": "09dc9c16",
   "metadata": {},
   "outputs": [],
   "source": [
    "# Run our regression\n",
    "regression = DecisionTreeRegressor(max_depth=10, max_leaf_nodes=50, random_state=1)\n",
    "\n",
    "regression.fit(X=historical_data.loc[:, features], y=historical_data.loc[:, target])"
   ]
  },
  {
   "cell_type": "markdown",
   "id": "140f9d08",
   "metadata": {},
   "source": [
    "### Optimization Model\n",
    "\n",
    "We now turn to building the mathematical optimization model for Gurobi.\n",
    "\n",
    "First, retrieve the data for the new students. We won't use all the data there,\n",
    "we randomly pick 500 students from it."
   ]
  },
  {
   "cell_type": "code",
   "execution_count": null,
   "id": "9f23aadc",
   "metadata": {},
   "outputs": [],
   "source": [
    "# Retrieve new data used to build the optimization problem\n",
    "studentsdata = pd.read_csv(janos_data_url + \"college_applications6000.csv\", index_col=0)\n",
    "\n",
    "nstudents = 500\n",
    "\n",
    "# Select randomly nstudents in the data\n",
    "studentsdata = studentsdata.sample(nstudents)"
   ]
  },
  {
   "cell_type": "markdown",
   "id": "3732f171",
   "metadata": {},
   "source": [
    "Now build the model like in the documentation example."
   ]
  },
  {
   "cell_type": "code",
   "execution_count": null,
   "id": "53e92607",
   "metadata": {},
   "outputs": [],
   "source": [
    "# Construct lower bounds data frame\n",
    "feat_lb = studentsdata.copy()\n",
    "feat_lb.loc[:, \"merit\"] = 0\n",
    "\n",
    "# Construct upper bounds data frame\n",
    "feat_ub = studentsdata.copy()\n",
    "feat_ub.loc[:, \"merit\"] = 2.5\n",
    "\n",
    "# Make sure the columns are ordered in the same way as for the regression model.\n",
    "feat_lb = feat_lb[features]\n",
    "feat_ub = feat_ub[features]\n",
    "\n",
    "# Start with classical part of the model\n",
    "m = gp.Model()\n",
    "\n",
    "feature_vars = m.addMVar(\n",
    "    feat_lb.shape, lb=feat_lb.to_numpy(), ub=feat_ub.to_numpy(), name=\"feats\"\n",
    ")\n",
    "\n",
    "y = m.addMVar(nstudents, name=\"y\")\n",
    "\n",
    "x = feature_vars[:, feat_lb.columns.get_indexer([\"merit\"])][:, 0]\n",
    "\n",
    "m.setObjective(y.sum(), gp.GRB.MAXIMIZE)\n",
    "\n",
    "m.addConstr(x.sum() <= 0.2 * nstudents)\n",
    "\n",
    "pred_constr = add_predictor_constr(m, regression, feature_vars, y)\n",
    "\n",
    "pred_constr.print_stats()"
   ]
  },
  {
   "cell_type": "markdown",
   "id": "6e62b745",
   "metadata": {},
   "source": [
    "We can now optimize the problem."
   ]
  },
  {
   "cell_type": "code",
   "execution_count": null,
   "id": "4740ee45",
   "metadata": {},
   "outputs": [],
   "source": [
    "m.optimize()"
   ]
  },
  {
   "cell_type": "markdown",
   "id": "d8ec275a",
   "metadata": {},
   "source": [
    "We print the error.."
   ]
  },
  {
   "cell_type": "code",
   "execution_count": null,
   "id": "e2313372",
   "metadata": {},
   "outputs": [],
   "source": [
    "print(\n",
    "    \"Error in approximating the regression {:.6}\".format(\n",
    "        np.max(np.abs(pred_constr.get_error()))\n",
    "    )\n",
    ")"
   ]
  },
  {
   "cell_type": "markdown",
   "id": "d33d1113",
   "metadata": {},
   "source": [
    "### Look at the solution"
   ]
  },
  {
   "cell_type": "code",
   "execution_count": null,
   "id": "8cfbc959",
   "metadata": {},
   "outputs": [],
   "source": [
    "# This is what we predicted\n",
    "plt.scatter(x.X, y.X)"
   ]
  },
  {
   "cell_type": "markdown",
   "id": "e3a213d8",
   "metadata": {},
   "source": [
    "Copyright © 2022 Gurobi Optimization, LLC"
   ]
  }
 ],
 "metadata": {
  "kernelspec": {
   "display_name": "Python 3 (ipykernel)",
   "language": "python",
   "name": "python3"
  },
  "language_info": {
   "codemirror_mode": {
    "name": "ipython",
    "version": 3
   },
   "file_extension": ".py",
   "mimetype": "text/x-python",
   "name": "python",
   "nbconvert_exporter": "python",
   "pygments_lexer": "ipython3",
   "version": "3.9.12"
  },
  "license": {
   "full_text": "# Copyright © 2022 Gurobi Optimization, LLC\n#\n# Licensed under the Apache License, Version 2.0 (the \"License\");\n# you may not use this file except in compliance with the License.\n# You may obtain a copy of the License at\n#\n#     http://www.apache.org/licenses/LICENSE-2.0\n#\n# Unless required by applicable law or agreed to in writing, software\n# distributed under the License is distributed on an \"AS IS\" BASIS,\n# WITHOUT WARRANTIES OR CONDITIONS OF ANY KIND, either express or implied.\n# See the License for the specific language governing permissions and\n# limitations under the License.\n# =============================================================================="
  }
 },
 "nbformat": 4,
 "nbformat_minor": 5
}
