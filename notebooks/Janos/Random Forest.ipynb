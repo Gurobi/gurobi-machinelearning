{
 "cells": [
  {
   "cell_type": "markdown",
   "id": "536fa0ec",
   "metadata": {},
   "source": [
    "# Integrate a random forest in a Gurobi model\n",
    "\n",
    "*Note: The resulting model in this example will be too large for a size-limited license; in order to solve it, please visit <https://www.gurobi.com/free-trial> for a full license*\n",
    "\n",
    "In this notebook, we do the student admission problems\n",
    "[shown in the documentation](https://gurobi-optimization-gurobi-machine-learning.readthedocs-hosted.com/en/latest/mlm-examples/student_admission.html) using a random forest regressor."
   ]
  },
  {
   "cell_type": "code",
   "execution_count": null,
   "id": "3aabbe04",
   "metadata": {},
   "outputs": [],
   "source": [
    "import gurobipy as gp\n",
    "import gurobipy_pandas as gppd\n",
    "import numpy as np\n",
    "import pandas as pd\n",
    "from matplotlib import pyplot as plt\n",
    "from sklearn.ensemble import RandomForestRegressor\n",
    "from gurobi_ml import add_predictor_constr"
   ]
  },
  {
   "cell_type": "markdown",
   "id": "c8eaffd1",
   "metadata": {},
   "source": [
    "We now retrieve the historical data used to build the regression from Janos\n",
    "repository.\n",
    "\n",
    "The features we use for the regression are `\"merit\"` (scholarship), `\"SAT\"` and\n",
    "`\"GPA\"` and the target is `\"enroll\"`. We store those values."
   ]
  },
  {
   "cell_type": "code",
   "execution_count": null,
   "id": "b480f909",
   "metadata": {},
   "outputs": [],
   "source": [
    "# Base URL for retrieving data\n",
    "janos_data_url = \"https://raw.githubusercontent.com/INFORMSJoC/2020.1023/master/data/\"\n",
    "historical_data = pd.read_csv(\n",
    "    janos_data_url + \"college_student_enroll-s1-1.csv\", index_col=0\n",
    ")\n",
    "\n",
    "# classify our features between the ones that are fixed and the ones that will be\n",
    "# part of the optimization problem\n",
    "features = [\"merit\", \"SAT\", \"GPA\"]\n",
    "target = \"enroll\""
   ]
  },
  {
   "cell_type": "markdown",
   "id": "cbe63e1e",
   "metadata": {},
   "source": [
    "## Fit the regression\n",
    "\n",
    "For the regression, we use a pipeline with a standard scaler and a logistic\n",
    "regression. We build it using the `make_pipeline` from `scikit-learn`."
   ]
  },
  {
   "cell_type": "code",
   "execution_count": null,
   "id": "331cd76d",
   "metadata": {},
   "outputs": [],
   "source": [
    "# Run our regression\n",
    "regression = RandomForestRegressor(n_estimators=10, max_depth=5, random_state=1)\n",
    "\n",
    "regression.fit(X=historical_data.loc[:, features], y=historical_data.loc[:, target])"
   ]
  },
  {
   "cell_type": "markdown",
   "id": "f5295e0c",
   "metadata": {},
   "source": [
    "### Optimization Model\n",
    "\n",
    "We now turn to building the mathematical optimization model for Gurobi.\n",
    "\n",
    "First, retrieve the data for the new students. We won't use all the data there,\n",
    "we randomly pick 100 students from it."
   ]
  },
  {
   "cell_type": "code",
   "execution_count": null,
   "id": "1d777cb9",
   "metadata": {},
   "outputs": [],
   "source": [
    "# Retrieve new data used to build the optimization problem\n",
    "studentsdata = pd.read_csv(janos_data_url + \"college_applications6000.csv\", index_col=0)\n",
    "\n",
    "nstudents = 100\n",
    "\n",
    "# Select randomly nstudents in the data\n",
    "studentsdata = studentsdata.sample(nstudents)"
   ]
  },
  {
   "cell_type": "markdown",
   "id": "c2bde92b",
   "metadata": {},
   "source": [
    "Now build the model like in the documentation example."
   ]
  },
  {
   "cell_type": "code",
   "execution_count": null,
   "id": "af599172",
   "metadata": {},
   "outputs": [],
   "source": [
    "m = gp.Model()\n",
    "\n",
    "y = gppd.add_vars(m, studentsdata, name=\"enroll_probability\")\n",
    "\n",
    "# Add variable for merit\n",
    "studentsdata = studentsdata.gppd.add_vars(m, lb=0.0, ub=2.5, name=\"merit\")\n",
    "\n",
    "# Keep only features\n",
    "studentsdata = studentsdata.loc[:, features]\n",
    "# Denote by x the (variable) \"merit\" feature\n",
    "x = studentsdata.loc[:, \"merit\"]\n",
    "\n",
    "m.setObjective(y.sum(), gp.GRB.MAXIMIZE)\n",
    "\n",
    "m.addConstr(x.sum() <= 0.2 * nstudents)\n",
    "\n",
    "pred_constr = add_predictor_constr(m, regression, studentsdata, y)\n",
    "\n",
    "pred_constr.print_stats()"
   ]
  },
  {
   "cell_type": "markdown",
   "id": "2d130e87",
   "metadata": {},
   "source": [
    "We can now optimize the problem."
   ]
  },
  {
   "cell_type": "code",
   "execution_count": null,
   "id": "6eada22b",
   "metadata": {},
   "outputs": [],
   "source": [
    "m.optimize()"
   ]
  },
  {
   "cell_type": "markdown",
   "id": "9a0d74aa",
   "metadata": {},
   "source": [
    "We print the error.."
   ]
  },
  {
   "cell_type": "code",
   "execution_count": null,
   "id": "b4c3cb83",
   "metadata": {},
   "outputs": [],
   "source": [
    "print(\n",
    "    \"Error in approximating the regression {:.6}\".format(\n",
    "        np.max(np.abs(pred_constr.get_error()))\n",
    "    )\n",
    ")"
   ]
  },
  {
   "cell_type": "markdown",
   "id": "058975ad",
   "metadata": {},
   "source": [
    "Note that the error is actually large. This is due to the fact that our model by default may take the wrong path in the decision tree when the feature value is excatly the same as the splitting value for a node. See [https://gurobi-machinelearning.readthedocs.io/en/more-docs/mlm-mip-models.html#decision-trees](the documentation) for more explanation.\n",
    "\n",
    "To circumvent this, we can set the parameter epsilon to add_predictor_constr."
   ]
  },
  {
   "cell_type": "code",
   "execution_count": null,
   "id": "76b8f888",
   "metadata": {},
   "outputs": [],
   "source": [
    "# Remove pred_constr\n",
    "pred_constr.remove()\n",
    "\n",
    "# Add new constraint setting epsilon to 1e-5\n",
    "pred_constr = add_predictor_constr(m, regression, studentsdata, y, epsilon=1e-5)\n",
    "\n",
    "pred_constr.print_stats()\n",
    "\n",
    "m.optimize()"
   ]
  },
  {
   "cell_type": "markdown",
   "id": "7fec272b",
   "metadata": {},
   "source": [
    "We print the maximal error among all students that now should be almost 0."
   ]
  },
  {
   "cell_type": "code",
   "execution_count": null,
   "id": "8066bb32",
   "metadata": {},
   "outputs": [],
   "source": [
    "print(\n",
    "    \"Error in approximating the regression {:.6}\".format(\n",
    "        np.max(np.abs(pred_constr.get_error()))\n",
    "    )\n",
    ")"
   ]
  },
  {
   "cell_type": "markdown",
   "id": "f8766178",
   "metadata": {},
   "source": [
    "### Look at the solution"
   ]
  },
  {
   "cell_type": "code",
   "execution_count": null,
   "id": "637a818c",
   "metadata": {},
   "outputs": [],
   "source": [
    "# This is what we predicted\n",
    "plt.scatter(x.gppd.X, y.gppd.X)"
   ]
  },
  {
   "cell_type": "markdown",
   "id": "d6c492dc",
   "metadata": {},
   "source": [
    "Copyright © 2023 Gurobi Optimization, LLC"
   ]
  }
 ],
 "metadata": {
  "kernelspec": {
   "display_name": "Python 3 (ipykernel)",
   "language": "python",
   "name": "python3"
  },
  "language_info": {
   "codemirror_mode": {
    "name": "ipython",
    "version": 3
   },
   "file_extension": ".py",
   "mimetype": "text/x-python",
   "name": "python",
   "nbconvert_exporter": "python",
   "pygments_lexer": "ipython3",
   "version": "3.11.1"
  },
  "license": {
   "full_text": "# Copyright © 2023 Gurobi Optimization, LLC\n#\n# Licensed under the Apache License, Version 2.0 (the \"License\");\n# you may not use this file except in compliance with the License.\n# You may obtain a copy of the License at\n#\n#     http://www.apache.org/licenses/LICENSE-2.0\n#\n# Unless required by applicable law or agreed to in writing, software\n# distributed under the License is distributed on an \"AS IS\" BASIS,\n# WITHOUT WARRANTIES OR CONDITIONS OF ANY KIND, either express or implied.\n# See the License for the specific language governing permissions and\n# limitations under the License.\n# =============================================================================="
  }
 },
 "nbformat": 4,
 "nbformat_minor": 5
}
