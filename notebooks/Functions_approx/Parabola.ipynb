{
 "cells": [
  {
   "cell_type": "markdown",
   "id": "b03547f0",
   "metadata": {},
   "source": [
    "# Parabola\n",
    "Extra required packages:\n",
    "- matplotlib"
   ]
  },
  {
   "cell_type": "markdown",
   "id": "a1de6391",
   "metadata": {},
   "source": [
    "In this notebook we want to solve a simple example where we approximate a parabola.\n",
    "\n",
    "We consider the following optimization problem in two variables:\n",
    "\n",
    "$$\n",
    "\\begin{aligned}\n",
    "&\\max x\\\\\n",
    "&\\text{s.t.}\\\\\n",
    "&y \\ge x^2,\\\\\n",
    "&y \\le - x^2 + 1.\\\\\n",
    "\\end{aligned}\n",
    "$$\n",
    "\n",
    "This model could be solved directly by Gurobi (or by hand) but here we want to solve it by approximating the function $y = x^2$ with a neural network."
   ]
  },
  {
   "cell_type": "markdown",
   "id": "0c18bfa4",
   "metadata": {},
   "source": [
    "### Geometrical solution\n",
    "\n",
    "First, use matplotlib to plot the feasible region of the problem and find the optimal solution of the problem."
   ]
  },
  {
   "cell_type": "code",
   "execution_count": null,
   "id": "6a171a8a",
   "metadata": {},
   "outputs": [],
   "source": [
    "import numpy as np\n",
    "from matplotlib import pyplot as plt"
   ]
  },
  {
   "cell_type": "code",
   "execution_count": null,
   "id": "91713032",
   "metadata": {},
   "outputs": [],
   "source": [
    "x = np.arange(-1, 1, 0.005)\n",
    "z = (x) ** 2\n",
    "\n",
    "plt.plot(x, z)\n",
    "plt.plot(x, -z + 1)\n",
    "plt.show()"
   ]
  },
  {
   "cell_type": "markdown",
   "id": "9e95b61a",
   "metadata": {},
   "source": [
    "The point that maximize $x$ is the left most point above the blue parabola and below the orange one.\n",
    "It is the point at the intersection of the two parabola with coordinates $\\left(\\frac{1}{\\sqrt 2}, \\frac{1}{2}\\right)$.\n",
    "\n",
    "Note that we only really need to approximate the parabola between $-1$ and $1$, we will restrict ourselves to this domain."
   ]
  },
  {
   "cell_type": "markdown",
   "id": "41f8860c",
   "metadata": {},
   "source": [
    "### Approximation with a neural network\n",
    "\n",
    "In this notebook we approximate the parabola using a neural network with the MLPRegressor from scikit-learn.\n",
    "\n",
    "For such a trivial example, we don't do any cross validation and will just visually verify that the approximation looks ok."
   ]
  },
  {
   "cell_type": "code",
   "execution_count": null,
   "id": "9ce468a1-27be-4bdd-bc78-2204f74bb9ac",
   "metadata": {},
   "outputs": [],
   "source": [
    "# Import the MLPRegressor\n",
    "from sklearn.pipeline import make_pipeline\n",
    "from sklearn.preprocessing import PolynomialFeatures\n",
    "from sklearn.linear_model import LinearRegression"
   ]
  },
  {
   "cell_type": "markdown",
   "id": "e8908ec7",
   "metadata": {},
   "source": [
    "For our training set, we sample points uniformly in the interval $[-1, 1]$."
   ]
  },
  {
   "cell_type": "code",
   "execution_count": null,
   "id": "75ae3632",
   "metadata": {},
   "outputs": [],
   "source": [
    "x = np.arange(-1, 1, 0.005)\n",
    "y = (x) ** 2\n",
    "\n",
    "# Rearange points for scikit-learn\n",
    "X = np.concatenate([x.ravel().reshape(-1, 1)], axis=1)\n",
    "Y = y.ravel()"
   ]
  },
  {
   "cell_type": "markdown",
   "id": "35309d13",
   "metadata": {},
   "source": [
    "We can now run our regression.\n",
    "\n",
    "Even though the function is simple, we still need a network of decent size.\n",
    "We use 2 hidden layers of 56 neurons."
   ]
  },
  {
   "cell_type": "code",
   "execution_count": null,
   "id": "37b554b9",
   "metadata": {},
   "outputs": [],
   "source": [
    "# Run our regression\n",
    "regression = make_pipeline(PolynomialFeatures(), LinearRegression())\n",
    "regression.fit(X=X, y=Y)"
   ]
  },
  {
   "cell_type": "markdown",
   "id": "b13302ac",
   "metadata": {},
   "source": [
    "We can now plot the approximation of the feasible region with the neural network."
   ]
  },
  {
   "cell_type": "code",
   "execution_count": null,
   "id": "c883d0b8",
   "metadata": {},
   "outputs": [],
   "source": [
    "plt.plot(X, regression.predict(X))\n",
    "plt.plot(X, -regression.predict(X) + 1)\n",
    "plt.show()"
   ]
  },
  {
   "cell_type": "markdown",
   "id": "006c6c63",
   "metadata": {},
   "source": [
    "The approximation is coarse but looks decent."
   ]
  },
  {
   "cell_type": "markdown",
   "id": "a7293c95",
   "metadata": {},
   "source": [
    "### Construct the optimization model"
   ]
  },
  {
   "cell_type": "markdown",
   "id": "f1eaae23",
   "metadata": {},
   "source": [
    "We will approximate the function $y = x^2$ with a neural network\n",
    "\n",
    "Then we need to reformulate as\n",
    "$$\n",
    "\\begin{aligned}\n",
    "&\\max x\\\\\n",
    "&\\text{s.t.}\\\\\n",
    "&z = g(x) \\approx  x^2\\\\\n",
    "&y \\geq z\\\\\n",
    "&y \\leq -z + 1\\\\\n",
    "&- 1 \\leq x \\leq 1\\\\\n",
    "\\end{aligned}\n",
    "$$"
   ]
  },
  {
   "cell_type": "code",
   "execution_count": null,
   "id": "ccb78e0c",
   "metadata": {},
   "outputs": [],
   "source": [
    "import gurobipy as gp\n",
    "from gurobipy import GRB\n",
    "from gurobi_ml import add_predictor_constr"
   ]
  },
  {
   "cell_type": "code",
   "execution_count": null,
   "id": "ffab53b5",
   "metadata": {},
   "outputs": [],
   "source": [
    "# Start with classical part of the model\n",
    "m = gp.Model()\n",
    "\n",
    "x = m.addVar(lb=-1, ub=1, name=\"x\")\n",
    "z = m.addVar(lb=-GRB.INFINITY, name=\"z\")\n",
    "y = m.addVar(lb=-GRB.INFINITY, name=\"y\")\n",
    "m.setObjective(x, gp.GRB.MAXIMIZE)\n",
    "\n",
    "# Add constraint to predict value of y using kwnown and to compute features\n",
    "pconstr = add_predictor_constr(m, regression, x, z)\n",
    "# m.addConstr(z == x**2)\n",
    "m.addConstr(y >= z)\n",
    "m.addConstr(y <= -z + 1)"
   ]
  },
  {
   "cell_type": "markdown",
   "id": "042b9d06",
   "metadata": {},
   "source": [
    "### Finally optimize it"
   ]
  },
  {
   "cell_type": "code",
   "execution_count": null,
   "id": "7fcbfb7e",
   "metadata": {},
   "outputs": [],
   "source": [
    "m.Params.TimeLimit = 10\n",
    "m.Params.MIPGap = 0.01\n",
    "m.Params.NonConvex = 2"
   ]
  },
  {
   "cell_type": "code",
   "execution_count": null,
   "id": "eaa1b1c2-5591-4de9-9553-e681dd999bc5",
   "metadata": {},
   "outputs": [],
   "source": [
    "m.optimize()"
   ]
  },
  {
   "cell_type": "code",
   "execution_count": null,
   "id": "3c410826",
   "metadata": {},
   "outputs": [],
   "source": [
    "print(f\"Maximal error in predicted values in solution {np.max(pconstr.get_error())}\")"
   ]
  },
  {
   "cell_type": "markdown",
   "id": "3208ac31",
   "metadata": {},
   "source": [
    "### Look at the solution"
   ]
  },
  {
   "cell_type": "code",
   "execution_count": null,
   "id": "f913aade",
   "metadata": {},
   "outputs": [],
   "source": [
    "x.X"
   ]
  },
  {
   "cell_type": "code",
   "execution_count": null,
   "id": "5994187d",
   "metadata": {},
   "outputs": [],
   "source": [
    "from math import sqrt"
   ]
  },
  {
   "cell_type": "code",
   "execution_count": null,
   "id": "7a70ff6b",
   "metadata": {},
   "outputs": [],
   "source": [
    "x.X - 1 / sqrt(2)"
   ]
  },
  {
   "cell_type": "code",
   "execution_count": null,
   "id": "aef8b0f0",
   "metadata": {},
   "outputs": [],
   "source": [
    "y.X"
   ]
  },
  {
   "cell_type": "code",
   "execution_count": null,
   "id": "ff97a831",
   "metadata": {},
   "outputs": [],
   "source": [
    "z.X"
   ]
  },
  {
   "cell_type": "markdown",
   "id": "5e1b8672-8de8-4895-9e6d-eb89ffe66afa",
   "metadata": {},
   "source": [
    "Copyright © 2023 Gurobi Optimization, LLC"
   ]
  }
 ],
 "metadata": {
  "kernelspec": {
   "display_name": "Python 3 (ipykernel)",
   "language": "python",
   "name": "python3"
  },
  "language_info": {
   "codemirror_mode": {
    "name": "ipython",
    "version": 3
   },
   "file_extension": ".py",
   "mimetype": "text/x-python",
   "name": "python",
   "nbconvert_exporter": "python",
   "pygments_lexer": "ipython3",
   "version": "3.11.1"
  },
  "license": {
   "full_text": "# Copyright © 2023 Gurobi Optimization, LLC\n#\n# Licensed under the Apache License, Version 2.0 (the \"License\");\n# you may not use this file except in compliance with the License.\n# You may obtain a copy of the License at\n#\n#     http://www.apache.org/licenses/LICENSE-2.0\n#\n# Unless required by applicable law or agreed to in writing, software\n# distributed under the License is distributed on an \"AS IS\" BASIS,\n# WITHOUT WARRANTIES OR CONDITIONS OF ANY KIND, either express or implied.\n# See the License for the specific language governing permissions and\n# limitations under the License.\n# =============================================================================="
  },
  "vscode": {
   "interpreter": {
    "hash": "949777d72b0d2535278d3dc13498b2535136f6dfe0678499012e853ee9abcab1"
   }
  }
 },
 "nbformat": 4,
 "nbformat_minor": 5
}
