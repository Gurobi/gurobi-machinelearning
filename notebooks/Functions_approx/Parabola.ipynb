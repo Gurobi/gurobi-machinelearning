{
 "cells": [
  {
   "cell_type": "markdown",
   "id": "0",
   "metadata": {},
   "source": [
    "# Parabola\n",
    "Extra required packages:\n",
    "- matplotlib"
   ]
  },
  {
   "cell_type": "markdown",
   "id": "1",
   "metadata": {},
   "source": [
    "In this notebook we want to solve a simple example where we approximate a parabola.\n",
    "\n",
    "We consider the following optimization problem in two variables:\n",
    "\n",
    "$$\n",
    "\\begin{aligned}\n",
    "&\\max x\\\\\n",
    "&\\text{s.t.}\\\\\n",
    "&y \\ge x^2,\\\\\n",
    "&y \\le - x^2 + 1.\\\\\n",
    "\\end{aligned}\n",
    "$$\n",
    "\n",
    "This model could be solved directly by Gurobi (or by hand) but here we want to solve it by approximating the function $y = x^2$ with a neural network."
   ]
  },
  {
   "cell_type": "markdown",
   "id": "2",
   "metadata": {},
   "source": [
    "### Geometrical solution\n",
    "\n",
    "First, use matplotlib to plot the feasible region of the problem and find the optimal solution of the problem."
   ]
  },
  {
   "cell_type": "code",
   "execution_count": null,
   "id": "3",
   "metadata": {},
   "outputs": [],
   "source": [
    "import numpy as np\n",
    "from matplotlib import pyplot as plt"
   ]
  },
  {
   "cell_type": "code",
   "execution_count": null,
   "id": "4",
   "metadata": {},
   "outputs": [],
   "source": [
    "x = np.arange(-1, 1, 0.005)\n",
    "z = (x) ** 2\n",
    "\n",
    "plt.plot(x, z)\n",
    "plt.plot(x, -z + 1)\n",
    "plt.show()"
   ]
  },
  {
   "cell_type": "markdown",
   "id": "5",
   "metadata": {},
   "source": [
    "The point that maximize $x$ is the left most point above the blue parabola and below the orange one.\n",
    "It is the point at the intersection of the two parabola with coordinates $\\left(\\frac{1}{\\sqrt 2}, \\frac{1}{2}\\right)$.\n",
    "\n",
    "Note that we only really need to approximate the parabola between $-1$ and $1$, we will restrict ourselves to this domain."
   ]
  },
  {
   "cell_type": "markdown",
   "id": "6",
   "metadata": {},
   "source": [
    "### Approximation with a neural network\n",
    "\n",
    "In this notebook we approximate the parabola using a neural network with the MLPRegressor from scikit-learn.\n",
    "\n",
    "For such a trivial example, we don't do any cross validation and will just visually verify that the approximation looks ok."
   ]
  },
  {
   "cell_type": "code",
   "execution_count": null,
   "id": "7",
   "metadata": {},
   "outputs": [],
   "source": [
    "# Import the MLPRegressor\n",
    "from sklearn.pipeline import make_pipeline\n",
    "from sklearn.preprocessing import PolynomialFeatures\n",
    "from sklearn.linear_model import LinearRegression"
   ]
  },
  {
   "cell_type": "markdown",
   "id": "8",
   "metadata": {},
   "source": [
    "For our training set, we sample points uniformly in the interval $[-1, 1]$."
   ]
  },
  {
   "cell_type": "code",
   "execution_count": null,
   "id": "9",
   "metadata": {},
   "outputs": [],
   "source": [
    "x = np.arange(-1, 1, 0.005)\n",
    "y = (x) ** 2\n",
    "\n",
    "# Rearange points for scikit-learn\n",
    "X = np.concatenate([x.ravel().reshape(-1, 1)], axis=1)\n",
    "Y = y.ravel()"
   ]
  },
  {
   "cell_type": "markdown",
   "id": "10",
   "metadata": {},
   "source": [
    "We can now run our regression.\n",
    "\n",
    "Even though the function is simple, we still need a network of decent size.\n",
    "We use 2 hidden layers of 56 neurons."
   ]
  },
  {
   "cell_type": "code",
   "execution_count": null,
   "id": "11",
   "metadata": {},
   "outputs": [],
   "source": [
    "# Run our regression\n",
    "regression = make_pipeline(PolynomialFeatures(), LinearRegression())\n",
    "regression.fit(X=X, y=Y)"
   ]
  },
  {
   "cell_type": "markdown",
   "id": "12",
   "metadata": {},
   "source": [
    "We can now plot the approximation of the feasible region with the neural network."
   ]
  },
  {
   "cell_type": "code",
   "execution_count": null,
   "id": "13",
   "metadata": {},
   "outputs": [],
   "source": [
    "plt.plot(X, regression.predict(X))\n",
    "plt.plot(X, -regression.predict(X) + 1)\n",
    "plt.show()"
   ]
  },
  {
   "cell_type": "markdown",
   "id": "14",
   "metadata": {},
   "source": [
    "The approximation is coarse but looks decent."
   ]
  },
  {
   "cell_type": "markdown",
   "id": "15",
   "metadata": {},
   "source": [
    "### Construct the optimization model"
   ]
  },
  {
   "cell_type": "markdown",
   "id": "16",
   "metadata": {},
   "source": [
    "We will approximate the function $y = x^2$ with a neural network\n",
    "\n",
    "Then we need to reformulate as\n",
    "$$\n",
    "\\begin{aligned}\n",
    "&\\max x\\\\\n",
    "&\\text{s.t.}\\\\\n",
    "&z = g(x) \\approx  x^2\\\\\n",
    "&y \\geq z\\\\\n",
    "&y \\leq -z + 1\\\\\n",
    "&- 1 \\leq x \\leq 1\\\\\n",
    "\\end{aligned}\n",
    "$$"
   ]
  },
  {
   "cell_type": "code",
   "execution_count": null,
   "id": "17",
   "metadata": {},
   "outputs": [],
   "source": [
    "import gurobipy as gp\n",
    "from gurobipy import GRB\n",
    "from gurobi_ml import add_predictor_constr"
   ]
  },
  {
   "cell_type": "code",
   "execution_count": null,
   "id": "18",
   "metadata": {},
   "outputs": [],
   "source": [
    "# Start with classical part of the model\n",
    "m = gp.Model()\n",
    "\n",
    "x = m.addVar(lb=-1, ub=1, name=\"x\")\n",
    "z = m.addVar(lb=-GRB.INFINITY, name=\"z\")\n",
    "y = m.addVar(lb=-GRB.INFINITY, name=\"y\")\n",
    "m.setObjective(x, gp.GRB.MAXIMIZE)\n",
    "\n",
    "# Add constraint to predict value of y using kwnown and to compute features\n",
    "pconstr = add_predictor_constr(m, regression, x, z)\n",
    "# m.addConstr(z == x**2)\n",
    "m.addConstr(y >= z)\n",
    "m.addConstr(y <= -z + 1)"
   ]
  },
  {
   "cell_type": "markdown",
   "id": "19",
   "metadata": {},
   "source": [
    "### Finally optimize it"
   ]
  },
  {
   "cell_type": "code",
   "execution_count": null,
   "id": "20",
   "metadata": {},
   "outputs": [],
   "source": [
    "m.Params.TimeLimit = 10\n",
    "m.Params.MIPGap = 0.01\n",
    "m.Params.NonConvex = 2"
   ]
  },
  {
   "cell_type": "code",
   "execution_count": null,
   "id": "21",
   "metadata": {},
   "outputs": [],
   "source": [
    "m.optimize()"
   ]
  },
  {
   "cell_type": "code",
   "execution_count": null,
   "id": "22",
   "metadata": {},
   "outputs": [],
   "source": [
    "print(f\"Maximal error in predicted values in solution {np.max(pconstr.get_error())}\")"
   ]
  },
  {
   "cell_type": "markdown",
   "id": "23",
   "metadata": {},
   "source": [
    "### Look at the solution"
   ]
  },
  {
   "cell_type": "code",
   "execution_count": null,
   "id": "24",
   "metadata": {},
   "outputs": [],
   "source": [
    "x.X"
   ]
  },
  {
   "cell_type": "code",
   "execution_count": null,
   "id": "25",
   "metadata": {},
   "outputs": [],
   "source": [
    "from math import sqrt"
   ]
  },
  {
   "cell_type": "code",
   "execution_count": null,
   "id": "26",
   "metadata": {},
   "outputs": [],
   "source": [
    "x.X - 1 / sqrt(2)"
   ]
  },
  {
   "cell_type": "code",
   "execution_count": null,
   "id": "27",
   "metadata": {},
   "outputs": [],
   "source": [
    "y.X"
   ]
  },
  {
   "cell_type": "code",
   "execution_count": null,
   "id": "28",
   "metadata": {},
   "outputs": [],
   "source": [
    "z.X"
   ]
  },
  {
   "cell_type": "markdown",
   "id": "29",
   "metadata": {},
   "source": [
    "Copyright © 2023 Gurobi Optimization, LLC"
   ]
  }
 ],
 "metadata": {
  "kernelspec": {
   "display_name": "Python 3 (ipykernel)",
   "language": "python",
   "name": "python3"
  },
  "language_info": {
   "codemirror_mode": {
    "name": "ipython",
    "version": 3
   },
   "file_extension": ".py",
   "mimetype": "text/x-python",
   "name": "python",
   "nbconvert_exporter": "python",
   "pygments_lexer": "ipython3",
   "version": "3.11.1"
  },
  "license": {
   "full_text": "# Copyright © 2023-2025 Gurobi Optimization, LLC\n#\n# Licensed under the Apache License, Version 2.0 (the \"License\");\n# you may not use this file except in compliance with the License.\n# You may obtain a copy of the License at\n#\n#     http://www.apache.org/licenses/LICENSE-2.0\n#\n# Unless required by applicable law or agreed to in writing, software\n# distributed under the License is distributed on an \"AS IS\" BASIS,\n# WITHOUT WARRANTIES OR CONDITIONS OF ANY KIND, either express or implied.\n# See the License for the specific language governing permissions and\n# limitations under the License.\n# =============================================================================="
  },
  "vscode": {
   "interpreter": {
    "hash": "949777d72b0d2535278d3dc13498b2535136f6dfe0678499012e853ee9abcab1"
   }
  }
 },
 "nbformat": 4,
 "nbformat_minor": 5
}
