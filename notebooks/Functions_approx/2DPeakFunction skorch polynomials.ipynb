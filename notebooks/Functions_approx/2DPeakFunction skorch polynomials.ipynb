{
 "cells": [
  {
   "cell_type": "markdown",
   "id": "0",
   "metadata": {},
   "source": [
    "### Approximate the peak 2D function using pytorch and polynomial features\n",
    "\n",
    "This reproduce the example in the documentation with pytorch.\n",
    "We use a sklearn pipeline with polynomial features and a pytorch model through skorch.\n",
    "\n",
    "It needs a bit of work to make it work:\n",
    "\n",
    "Polynomial features don't work out of the box in skorch, we need to convert the output to float32. So we need a modified one.\n",
    "\n",
    "We need to register the skorch object and the modified polynomial feature to gurobi_ml.\n",
    "\n",
    "Extra required packages:\n",
    "- matplotlib\n",
    "- skorch\n"
   ]
  },
  {
   "cell_type": "code",
   "execution_count": null,
   "id": "1",
   "metadata": {},
   "outputs": [],
   "source": [
    "import gurobipy as gp\n",
    "import numpy as np\n",
    "import torch\n",
    "from skorch import NeuralNetRegressor\n",
    "from gurobipy import GRB\n",
    "from matplotlib import cm\n",
    "from matplotlib import pyplot as plt\n",
    "from sklearn import metrics\n",
    "from sklearn.pipeline import make_pipeline\n",
    "from sklearn.preprocessing import PolynomialFeatures\n",
    "\n",
    "from gurobi_ml import add_predictor_constr, register_predictor_constr\n",
    "\n",
    "from gurobi_ml.sklearn import add_polynomial_features_constr\n",
    "from gurobi_ml.torch import add_sequential_constr"
   ]
  },
  {
   "cell_type": "code",
   "execution_count": null,
   "id": "2",
   "metadata": {},
   "outputs": [],
   "source": [
    "def peak2d(xx, yy):\n",
    "    return (\n",
    "        3 * (1 - xx) ** 2.0 * np.exp(-(xx**2) - (yy + 1) ** 2)\n",
    "        - 10 * (xx / 5 - xx**4 - yy**5) * np.exp(-(xx**2) - yy**2)\n",
    "        - 1 / 3 * np.exp(-((xx + 1) ** 2) - yy**2)\n",
    "    )"
   ]
  },
  {
   "cell_type": "code",
   "execution_count": null,
   "id": "3",
   "metadata": {},
   "outputs": [],
   "source": [
    "x = torch.arange(-2, 2, 0.01)\n",
    "y = torch.arange(-2, 2, 0.01)\n",
    "x1, x2 = torch.meshgrid(x, y, indexing=\"ij\")\n",
    "z = peak2d(x1, x2)"
   ]
  },
  {
   "cell_type": "code",
   "execution_count": null,
   "id": "4",
   "metadata": {},
   "outputs": [],
   "source": [
    "fig, ax = plt.subplots(subplot_kw={\"projection\": \"3d\"})\n",
    "# Plot the surface.\n",
    "surf = ax.plot_surface(x1, x2, z, cmap=cm.coolwarm, linewidth=0.01, antialiased=False)\n",
    "# Add a color bar which maps values to colors.\n",
    "fig.colorbar(surf, shrink=0.5, aspect=5)\n",
    "\n",
    "plt.show()"
   ]
  },
  {
   "cell_type": "code",
   "execution_count": null,
   "id": "5",
   "metadata": {},
   "outputs": [],
   "source": [
    "X = torch.cat([x1.ravel().reshape(-1, 1), x2.ravel().reshape(-1, 1)], axis=1)\n",
    "y = z.ravel().reshape(-1, 1)"
   ]
  },
  {
   "cell_type": "code",
   "execution_count": null,
   "id": "6",
   "metadata": {},
   "outputs": [],
   "source": [
    "# Somehow polynomial features don't work out of the box because\n",
    "# the output needs to be converted to float32\n",
    "# Create a small class to apply polynomial features and convert\n",
    "\n",
    "from sklearn.base import BaseEstimator, TransformerMixin\n",
    "\n",
    "\n",
    "class MyPolynomialFeatures(BaseEstimator, TransformerMixin):\n",
    "    def __init__(self):\n",
    "        self.poly_feat = PolynomialFeatures()\n",
    "\n",
    "    def fit(self, X, y=None):\n",
    "        self.poly_feat.fit(X, y)\n",
    "        self.n_features_in_ = self.poly_feat.n_features_in_\n",
    "        self.n_output_features_ = self.poly_feat.n_output_features_\n",
    "        return self\n",
    "\n",
    "    def transform(self, x):\n",
    "        return self.poly_feat.transform(x).astype(np.float32)"
   ]
  },
  {
   "cell_type": "code",
   "execution_count": null,
   "id": "7",
   "metadata": {},
   "outputs": [],
   "source": [
    "hs = 16\n",
    "nn_regression = NeuralNetRegressor(\n",
    "    torch.nn.Sequential(\n",
    "        torch.nn.Linear(6, hs),\n",
    "        torch.nn.ReLU(),\n",
    "        torch.nn.Linear(hs, hs),\n",
    "        torch.nn.ReLU(),\n",
    "        torch.nn.Linear(hs, 1),\n",
    "    ),\n",
    "    max_epochs=20,\n",
    "    lr=0.1,\n",
    "    iterator_train__shuffle=True,\n",
    ")\n",
    "poly_feat = MyPolynomialFeatures()\n",
    "pipeline = make_pipeline(poly_feat, nn_regression)"
   ]
  },
  {
   "cell_type": "code",
   "execution_count": null,
   "id": "8",
   "metadata": {},
   "outputs": [],
   "source": [
    "pipeline.fit(X, y)"
   ]
  },
  {
   "cell_type": "code",
   "execution_count": null,
   "id": "9",
   "metadata": {},
   "outputs": [],
   "source": [
    "X_test = torch.rand((100, 2)) * 2 - 1"
   ]
  },
  {
   "cell_type": "code",
   "execution_count": null,
   "id": "10",
   "metadata": {},
   "outputs": [],
   "source": [
    "metrics.r2_score(peak2d(X_test[:, 0], X_test[:, 1]), pipeline.predict(X_test))"
   ]
  },
  {
   "cell_type": "code",
   "execution_count": null,
   "id": "11",
   "metadata": {},
   "outputs": [],
   "source": [
    "metrics.max_error(peak2d(X_test[:, 0], X_test[:, 1]), pipeline.predict(X_test))"
   ]
  },
  {
   "cell_type": "code",
   "execution_count": null,
   "id": "12",
   "metadata": {},
   "outputs": [],
   "source": [
    "pipeline.predict(X).min()"
   ]
  },
  {
   "cell_type": "code",
   "execution_count": null,
   "id": "13",
   "metadata": {},
   "outputs": [],
   "source": [
    "fig, ax = plt.subplots(subplot_kw={\"projection\": \"3d\"})\n",
    "# Plot the surface.\n",
    "surf = ax.plot_surface(\n",
    "    x1,\n",
    "    x2,\n",
    "    pipeline.predict(X).reshape(x1.shape),\n",
    "    cmap=cm.coolwarm,\n",
    "    linewidth=0.01,\n",
    "    antialiased=False,\n",
    ")\n",
    "# Add a color bar which maps values to colors.\n",
    "fig.colorbar(surf, shrink=0.5, aspect=5)\n",
    "\n",
    "plt.show()"
   ]
  },
  {
   "cell_type": "markdown",
   "id": "14",
   "metadata": {},
   "source": [
    "## Register our objects to gurobi_ml package\n",
    "\n",
    "Before building the model, we first need to register the two objects\n",
    "to gurobi machine learning so that add_predictor_constr work."
   ]
  },
  {
   "cell_type": "code",
   "execution_count": null,
   "id": "15",
   "metadata": {},
   "outputs": [],
   "source": [
    "# First register the skorch object. We need to:\n",
    "# - Add a function with appropriate signature this function just calls\n",
    "#   the function to add a pytorch model on the pytorch model\n",
    "# - Register that function by associating it to the NeuralNetRegressor class\n",
    "def add_skorch_constr(gp_model, skorch_model, input_vars, output_vars=None, **kwargs):\n",
    "    return add_sequential_constr(\n",
    "        gp_model, skorch_model.module, input_vars, output_vars, **kwargs\n",
    "    )\n",
    "\n",
    "\n",
    "register_predictor_constr(NeuralNetRegressor, add_skorch_constr)"
   ]
  },
  {
   "cell_type": "code",
   "execution_count": null,
   "id": "16",
   "metadata": {},
   "outputs": [],
   "source": [
    "# Now do the same for the polynomial features\n",
    "def add_my_polynomial_features_constr(gp_model, poly_feat, input_vars, **kwargs):\n",
    "    return add_polynomial_features_constr(\n",
    "        gp_model, poly_feat.poly_feat, input_vars, **kwargs\n",
    "    )\n",
    "\n",
    "\n",
    "register_predictor_constr(MyPolynomialFeatures, add_my_polynomial_features_constr)"
   ]
  },
  {
   "cell_type": "markdown",
   "id": "17",
   "metadata": {},
   "source": [
    "### Do the optimization model"
   ]
  },
  {
   "cell_type": "code",
   "execution_count": null,
   "id": "18",
   "metadata": {},
   "outputs": [],
   "source": [
    "# Start with classical part of the model\n",
    "m = gp.Model()\n",
    "\n",
    "x = m.addMVar((1, 2), lb=-2, ub=2, name=\"x\")\n",
    "y = m.addMVar(1, lb=-GRB.INFINITY, name=\"y\")\n",
    "\n",
    "m.setObjective(y.sum(), gp.GRB.MINIMIZE)\n",
    "\n",
    "# Add network trained by pytorch to Gurobi model to predict y from x\n",
    "nn2gurobi = add_predictor_constr(m, pipeline, x, y)\n",
    "\n",
    "nn2gurobi.print_stats()"
   ]
  },
  {
   "cell_type": "markdown",
   "id": "19",
   "metadata": {},
   "source": [
    "### Finally optimize it"
   ]
  },
  {
   "cell_type": "code",
   "execution_count": null,
   "id": "20",
   "metadata": {},
   "outputs": [],
   "source": [
    "m.Params.TimeLimit = 10\n",
    "m.Params.MIPGap = 0.1\n",
    "m.Params.NonConvex = 2"
   ]
  },
  {
   "cell_type": "code",
   "execution_count": null,
   "id": "21",
   "metadata": {},
   "outputs": [],
   "source": [
    "m.optimize()"
   ]
  },
  {
   "cell_type": "markdown",
   "id": "22",
   "metadata": {},
   "source": [
    "### Look at the solution"
   ]
  },
  {
   "cell_type": "code",
   "execution_count": null,
   "id": "23",
   "metadata": {},
   "outputs": [],
   "source": [
    "x.X"
   ]
  },
  {
   "cell_type": "code",
   "execution_count": null,
   "id": "24",
   "metadata": {},
   "outputs": [],
   "source": [
    "peak2d(x.X[0, 0], x.X[0, 1])"
   ]
  },
  {
   "cell_type": "code",
   "execution_count": null,
   "id": "25",
   "metadata": {},
   "outputs": [],
   "source": [
    "y.X"
   ]
  },
  {
   "cell_type": "markdown",
   "id": "26",
   "metadata": {},
   "source": [
    "Copyright © 2023 Gurobi Optimization, LLC"
   ]
  }
 ],
 "metadata": {
  "kernelspec": {
   "display_name": "Python 3.10",
   "language": "python",
   "name": "python310"
  },
  "language_info": {
   "codemirror_mode": {
    "name": "ipython",
    "version": 3
   },
   "file_extension": ".py",
   "mimetype": "text/x-python",
   "name": "python",
   "nbconvert_exporter": "python",
   "pygments_lexer": "ipython3",
   "version": "3.10.0"
  },
  "license": {
   "full_text": "# Copyright © 2023-2025 Gurobi Optimization, LLC\n#\n# Licensed under the Apache License, Version 2.0 (the \"License\");\n# you may not use this file except in compliance with the License.\n# You may obtain a copy of the License at\n#\n#     http://www.apache.org/licenses/LICENSE-2.0\n#\n# Unless required by applicable law or agreed to in writing, software\n# distributed under the License is distributed on an \"AS IS\" BASIS,\n# WITHOUT WARRANTIES OR CONDITIONS OF ANY KIND, either express or implied.\n# See the License for the specific language governing permissions and\n# limitations under the License.\n# =============================================================================="
  },
  "vscode": {
   "interpreter": {
    "hash": "949777d72b0d2535278d3dc13498b2535136f6dfe0678499012e853ee9abcab1"
   }
  }
 },
 "nbformat": 4,
 "nbformat_minor": 5
}
