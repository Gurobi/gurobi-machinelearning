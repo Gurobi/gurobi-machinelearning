{
 "cells": [
  {
   "cell_type": "markdown",
   "id": "e5b9447f",
   "metadata": {},
   "source": [
    "### Approximate the peak 2D function using pytorch and polynomial features\n",
    "\n",
    "This reproduce the example in the documentation with pytorch.\n",
    "We use a sklearn pipeline with polynomial features and a pytorch model through skorch.\n",
    "\n",
    "It needs a bit of work to make it work:\n",
    "\n",
    "Polynomial features don't work out of the box in skorch, we need to convert the output to float32. So we need a modified one.\n",
    "\n",
    "We need to register the skorch object and the modified polynomial feature to gurobi_ml.\n",
    "\n",
    "Extra required packages:\n",
    "- matplotlib\n",
    "- skorch\n"
   ]
  },
  {
   "cell_type": "code",
   "execution_count": null,
   "id": "9ce468a1-27be-4bdd-bc78-2204f74bb9ac",
   "metadata": {},
   "outputs": [],
   "source": [
    "import gurobipy as gp\n",
    "import numpy as np\n",
    "import torch\n",
    "from skorch import NeuralNetRegressor\n",
    "from gurobipy import GRB\n",
    "from matplotlib import cm\n",
    "from matplotlib import pyplot as plt\n",
    "from sklearn import metrics\n",
    "from sklearn.pipeline import make_pipeline\n",
    "from sklearn.preprocessing import PolynomialFeatures\n",
    "\n",
    "from gurobi_ml import add_predictor_constr, register_predictor_constr\n",
    "\n",
    "from gurobi_ml.sklearn import add_polynomial_features_constr\n",
    "from gurobi_ml.torch import add_sequential_constr"
   ]
  },
  {
   "cell_type": "code",
   "execution_count": null,
   "id": "5e666e03",
   "metadata": {},
   "outputs": [],
   "source": [
    "def peak2d(xx, yy):\n",
    "    return (\n",
    "        3 * (1 - xx) ** 2.0 * np.exp(-(xx**2) - (yy + 1) ** 2)\n",
    "        - 10 * (xx / 5 - xx**4 - yy**5) * np.exp(-(xx**2) - yy**2)\n",
    "        - 1 / 3 * np.exp(-((xx + 1) ** 2) - yy**2)\n",
    "    )"
   ]
  },
  {
   "cell_type": "code",
   "execution_count": null,
   "id": "75ae3632",
   "metadata": {},
   "outputs": [],
   "source": [
    "x = torch.arange(-2, 2, 0.01)\n",
    "y = torch.arange(-2, 2, 0.01)\n",
    "x1, x2 = torch.meshgrid(x, y, indexing=\"ij\")\n",
    "z = peak2d(x1, x2)"
   ]
  },
  {
   "cell_type": "code",
   "execution_count": null,
   "id": "0d93bcb5",
   "metadata": {},
   "outputs": [],
   "source": [
    "fig, ax = plt.subplots(subplot_kw={\"projection\": \"3d\"})\n",
    "# Plot the surface.\n",
    "surf = ax.plot_surface(x1, x2, z, cmap=cm.coolwarm, linewidth=0.01, antialiased=False)\n",
    "# Add a color bar which maps values to colors.\n",
    "fig.colorbar(surf, shrink=0.5, aspect=5)\n",
    "\n",
    "plt.show()"
   ]
  },
  {
   "cell_type": "code",
   "execution_count": null,
   "id": "3825632f",
   "metadata": {},
   "outputs": [],
   "source": [
    "X = torch.cat([x1.ravel().reshape(-1, 1), x2.ravel().reshape(-1, 1)], axis=1)\n",
    "y = z.ravel().reshape(-1, 1)"
   ]
  },
  {
   "cell_type": "code",
   "execution_count": null,
   "id": "1c2f5ba0-2093-4f0a-85ba-47400e51a9c5",
   "metadata": {},
   "outputs": [],
   "source": [
    "# Somehow polynomial features don't work out of the box because\n",
    "# the output needs to be converted to float32\n",
    "# Create a small class to apply polynomial features and convert\n",
    "\n",
    "from sklearn.base import BaseEstimator, TransformerMixin\n",
    "class MyPolynomialFeatures(BaseEstimator, TransformerMixin):\n",
    "    def __init__(self):\n",
    "        self.poly_feat = PolynomialFeatures()\n",
    "\n",
    "    def fit(self, X, y=None):\n",
    "        self.poly_feat.fit(X, y)\n",
    "        self.n_features_in_ = self.poly_feat.n_features_in_\n",
    "        self.n_output_features_ = self.poly_feat.n_output_features_\n",
    "        return self\n",
    "\n",
    "    def transform(self, x):\n",
    "        return self.poly_feat.transform(x).astype(np.float32)"
   ]
  },
  {
   "cell_type": "code",
   "execution_count": null,
   "id": "773f5339-af0b-45f3-a5a8-6ab27194e4ba",
   "metadata": {},
   "outputs": [],
   "source": [
    "hs = 16\n",
    "nn_regression = NeuralNetRegressor(\n",
    "    torch.nn.Sequential(\n",
    "    torch.nn.Linear(6, hs),\n",
    "    torch.nn.ReLU(),\n",
    "    torch.nn.Linear(hs, hs),\n",
    "    torch.nn.ReLU(),\n",
    "    torch.nn.Linear(hs, 1),\n",
    "),\n",
    "    max_epochs=20,\n",
    "    lr=0.1,\n",
    "    iterator_train__shuffle=True,\n",
    ")\n",
    "poly_feat = MyPolynomialFeatures()\n",
    "pipeline = make_pipeline(poly_feat, nn_regression)"
   ]
  },
  {
   "cell_type": "code",
   "execution_count": null,
   "id": "6b5253f6-3952-4a17-9581-1f66474c78b2",
   "metadata": {},
   "outputs": [],
   "source": [
    "pipeline.fit(X, y)"
   ]
  },
  {
   "cell_type": "code",
   "execution_count": null,
   "id": "d268090c",
   "metadata": {},
   "outputs": [],
   "source": [
    "X_test = torch.rand((100, 2)) * 2 - 1"
   ]
  },
  {
   "cell_type": "code",
   "execution_count": null,
   "id": "2dd2d500",
   "metadata": {},
   "outputs": [],
   "source": [
    "metrics.r2_score(peak2d(X_test[:, 0], X_test[:, 1]), pipeline.predict(X_test))"
   ]
  },
  {
   "cell_type": "code",
   "execution_count": null,
   "id": "0807c1bf",
   "metadata": {},
   "outputs": [],
   "source": [
    "metrics.max_error(peak2d(X_test[:, 0], X_test[:, 1]), pipeline.predict(X_test))"
   ]
  },
  {
   "cell_type": "code",
   "execution_count": null,
   "id": "05881fad",
   "metadata": {},
   "outputs": [],
   "source": [
    "pipeline.predict(X).min()"
   ]
  },
  {
   "cell_type": "code",
   "execution_count": null,
   "id": "b0bcdb96",
   "metadata": {},
   "outputs": [],
   "source": [
    "fig, ax = plt.subplots(subplot_kw={\"projection\": \"3d\"})\n",
    "# Plot the surface.\n",
    "surf = ax.plot_surface(\n",
    "    x1,\n",
    "    x2,\n",
    "    pipeline.predict(X).reshape(x1.shape),\n",
    "    cmap=cm.coolwarm,\n",
    "    linewidth=0.01,\n",
    "    antialiased=False,\n",
    ")\n",
    "# Add a color bar which maps values to colors.\n",
    "fig.colorbar(surf, shrink=0.5, aspect=5)\n",
    "\n",
    "plt.show()"
   ]
  },
  {
   "cell_type": "markdown",
   "id": "08983157-f63b-43ac-97ae-1d52f183044f",
   "metadata": {},
   "source": [
    "## Register our objects to gurobi_ml package\n",
    "\n",
    "Before building the model, we first need to register the two objects\n",
    "to gurobi machine learning so that add_predictor_constr work."
   ]
  },
  {
   "cell_type": "code",
   "execution_count": null,
   "id": "4c42bdd5-1b8f-483e-b1d7-45cb60d13b79",
   "metadata": {},
   "outputs": [],
   "source": [
    "# First register the skorch object. We need to:\n",
    "# - Add a function with appropriate signature this function just calls\n",
    "#   the function to add a pytorch model on the pytorch model\n",
    "# - Register that function by associating it to the NeuralNetRegressor class\n",
    "def add_skorch_constr(gp_model, skorch_model, input_vars, output_vars=None, **kwargs):\n",
    "    return add_sequential_constr(gp_model, skorch_model.module, input_vars, output_vars, **kwargs)\n",
    "\n",
    "register_predictor_constr(NeuralNetRegressor, add_skorch_constr)"
   ]
  },
  {
   "cell_type": "code",
   "execution_count": null,
   "id": "c8fd9054-6a31-45b4-884a-67fb9bfdcdff",
   "metadata": {},
   "outputs": [],
   "source": [
    "# Now do the same for the polynomial features\n",
    "def add_my_polynomial_features_constr(gp_model, poly_feat, input_vars, **kwargs):\n",
    "    return add_polynomial_features_constr(gp_model, poly_feat.poly_feat, input_vars, **kwargs)\n",
    "\n",
    "register_predictor_constr(MyPolynomialFeatures, add_my_polynomial_features_constr)"
   ]
  },
  {
   "cell_type": "markdown",
   "id": "b8f6556e-c77c-4142-aab6-102a2eca5110",
   "metadata": {},
   "source": [
    "### Do the optimization model"
   ]
  },
  {
   "cell_type": "code",
   "execution_count": null,
   "id": "ffab53b5",
   "metadata": {},
   "outputs": [],
   "source": [
    "# Start with classical part of the model\n",
    "m = gp.Model()\n",
    "\n",
    "x = m.addMVar((1, 2), lb=-2, ub=2, name=\"x\")\n",
    "y = m.addMVar(1, lb=-GRB.INFINITY, name=\"y\")\n",
    "\n",
    "m.setObjective(y.sum(), gp.GRB.MINIMIZE)\n",
    "\n",
    "# Add network trained by pytorch to Gurobi model to predict y from x\n",
    "nn2gurobi = add_predictor_constr(m, pipeline, x, y)\n",
    "\n",
    "nn2gurobi.print_stats()"
   ]
  },
  {
   "cell_type": "markdown",
   "id": "042b9d06",
   "metadata": {},
   "source": [
    "### Finally optimize it"
   ]
  },
  {
   "cell_type": "code",
   "execution_count": null,
   "id": "7fcbfb7e",
   "metadata": {},
   "outputs": [],
   "source": [
    "m.Params.TimeLimit = 10\n",
    "m.Params.MIPGap = 0.1\n",
    "m.Params.NonConvex = 2"
   ]
  },
  {
   "cell_type": "code",
   "execution_count": null,
   "id": "eaa1b1c2-5591-4de9-9553-e681dd999bc5",
   "metadata": {},
   "outputs": [],
   "source": [
    "m.optimize()"
   ]
  },
  {
   "cell_type": "markdown",
   "id": "3208ac31",
   "metadata": {},
   "source": [
    "### Look at the solution"
   ]
  },
  {
   "cell_type": "code",
   "execution_count": null,
   "id": "44808a02",
   "metadata": {},
   "outputs": [],
   "source": [
    "x.X"
   ]
  },
  {
   "cell_type": "code",
   "execution_count": null,
   "id": "e9d8ff12-6eb3-4c6d-9f63-73e02e9b8319",
   "metadata": {},
   "outputs": [],
   "source": [
    "peak2d(x.X[0, 0], x.X[0, 1])"
   ]
  },
  {
   "cell_type": "code",
   "execution_count": null,
   "id": "e9376458",
   "metadata": {},
   "outputs": [],
   "source": [
    "y.X"
   ]
  },
  {
   "cell_type": "markdown",
   "id": "7a50ca6b-c3b0-4abe-ba94-7751b93a0c1c",
   "metadata": {},
   "source": [
    "Copyright © 2022 Gurobi Optimization, LLC"
   ]
  }
 ],
 "metadata": {
  "kernelspec": {
   "display_name": "Python 3.10",
   "language": "python",
   "name": "python310"
  },
  "language_info": {
   "codemirror_mode": {
    "name": "ipython",
    "version": 3
   },
   "file_extension": ".py",
   "mimetype": "text/x-python",
   "name": "python",
   "nbconvert_exporter": "python",
   "pygments_lexer": "ipython3",
   "version": "3.10.0"
  },
  "license": {
   "full_text": "# Copyright © 2022 Gurobi Optimization, LLC\n#\n# Licensed under the Apache License, Version 2.0 (the \"License\");\n# you may not use this file except in compliance with the License.\n# You may obtain a copy of the License at\n#\n#     http://www.apache.org/licenses/LICENSE-2.0\n#\n# Unless required by applicable law or agreed to in writing, software\n# distributed under the License is distributed on an \"AS IS\" BASIS,\n# WITHOUT WARRANTIES OR CONDITIONS OF ANY KIND, either express or implied.\n# See the License for the specific language governing permissions and\n# limitations under the License.\n# =============================================================================="
  },
  "vscode": {
   "interpreter": {
    "hash": "949777d72b0d2535278d3dc13498b2535136f6dfe0678499012e853ee9abcab1"
   }
  }
 },
 "nbformat": 4,
 "nbformat_minor": 5
}
