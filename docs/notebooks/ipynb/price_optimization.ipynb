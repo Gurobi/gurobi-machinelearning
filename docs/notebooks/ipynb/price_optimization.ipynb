{
 "cells": [
  {
   "cell_type": "markdown",
   "id": "94a00ac5",
   "metadata": {},
   "source": [
    "# Price Optimization\n",
    "\n",
    "<div class=\"alert alert-info\">\n",
    "Note\n",
    "\n",
    "This example is adapted from the example in Gurobi's modeling examples [How Much\n",
    "Is Too Much? Avocado Pricing and Supply Using Mathematical\n",
    "Optimization](https://github.com/Gurobi/modeling-examples/tree/master/price_optimization).\n",
    "\n",
    "The main difference is that it uses `Scikit-learn` for the regression model and\n",
    "Gurobi Machine Learning to embed the regression in a Gurobi model.\n",
    "\n",
    "But it also differs in that it uses Matrix variables and that the interactive\n",
    "part of the notebook is skipped. Please refer to the original example for this.\n",
    "\n",
    "This example illustrates in particular how to use categorical variables in a\n",
    "regression.\n",
    "\n",
    "If you are already familiar with the example from the other notebook, you can\n",
    "jump directly to [building the regression model](#Part-II:-Predict-the-Sales)\n",
    "and then to [formulating the optimization\n",
    "problem](#Part-III:-Optimize-for-Price-and-Supply-of-Avocados).\n",
    "</div>\n",
    "\n",
    "A [Food Network\n",
    "article](https://www.foodnetwork.com/fn-dish/news/2018/3/avocado-unseats-banana-as-america-s-top-fruit-import-by-value)\n",
    "from March 2017 declared, \"Avocado unseats banana as America's top fruit\n",
    "import.\" This declaration is incomplete and debatable for reasons other than\n",
    "whether  avocado is a fruit. Avocados are expensive.\n",
    "\n",
    "As a supplier, setting an appropriate avocado price requires a delicate\n",
    "trade-off. Set it too high and you lose customers. Set it too low, and you won't\n",
    "make a profit. Equipped with good data, the avocado pricing and supply problem\n",
    "is *ripe* with opportunities for demonstrating the power of optimization and\n",
    "data science.\n",
    "\n",
    "They say when life gives you avocados, make guacamole. Just like the perfect\n",
    "guacamole needs the right blend of onion, lemon and spices, finding an optimal\n",
    "avocado price needs the right blend of descriptive, predictive and prescriptive\n",
    "analytics.\n",
    "\n",
    "|<img src=\"https://github.com/Gurobi/modeling-examples/blob/master/price_optimization/avocado_image_grocery.jpeg?raw=1\" width=\"500\" align=\"center\">|\n",
    "|:--:|\n",
    "| <b>Avocados: a quintessential corner of a grocery store. Image Credits: [New York Post](https://nypost.com/2022/02/15/us-will-halt-mexico-avocado-imports-as-long-as-necessary/) </b>|\n",
    "\n",
    "\n",
    "**Goal**: Develop a data science pipeline for pricing and distribution of\n",
    "avocados to maximize revenue.\n",
    "\n",
    "This notebook walks through a decision-making pipeline that culminates in a\n",
    "mathematical optimization model. There are three stages:\n",
    "\n",
    "- First, understand the dataset and infer the relationships between categories\n",
    "  such as the sales, price, region, and seasonal trends.\n",
    "- Second, build a prediction model that predicts the demand for avocados as a\n",
    "  function of price, region, year and the seasonality.\n",
    "- Third, design an optimization problem that sets the optimal price and supply\n",
    "  quantity to maximize the net revenue while incorporating costs for wastage and\n",
    "  transportation."
   ]
  },
  {
   "cell_type": "markdown",
   "id": "716ed7e0",
   "metadata": {},
   "source": [
    "## Load the Packages and the Datasets\n",
    "\n",
    "We use real sales data provided by the [Hass Avocado\n",
    "Board](https://hassavocadoboard.com/) (HAB), whose aim is to \"make avocados\n",
    "America’s most popular fruit\". This dataset contains consolidated information on\n",
    "several years' worth of market prices and sales of avocados.\n",
    "\n",
    "We will now load the following packages for analyzing and visualizing the data."
   ]
  },
  {
   "cell_type": "code",
   "execution_count": null,
   "id": "b1ff1bfa",
   "metadata": {},
   "outputs": [],
   "source": [
    "import pandas as pd\n",
    "import warnings\n",
    "\n",
    "import matplotlib.pyplot as plt\n",
    "from sklearn import tree\n",
    "import seaborn as sns\n",
    "import sklearn\n",
    "import numpy as np"
   ]
  },
  {
   "cell_type": "markdown",
   "id": "408e66ab",
   "metadata": {},
   "source": [
    "The dataset from HAB contains sales data for the years 2019-2022. This data is\n",
    "augmented by a previous download from HAB available on\n",
    "[Kaggle](https://www.kaggle.com/datasets/timmate/avocado-prices-2020) with sales\n",
    "for the years 2015-2018.\n",
    "\n",
    "Each row in the dataset is the weekly number of avocados sold and the weekly\n",
    "average price of an avocado categorized by region and type of avocado. There are\n",
    "two types of avocados: conventional and organic. In this notebook, we will only\n",
    "consider the conventional avocados. There are eight large regions, namely the\n",
    "Great Lakes, Midsouth, North East, Northern New England, South Central, South\n",
    "East, West and Plains.\n",
    "\n",
    "Now, load the data and store into a Pandas dataframe."
   ]
  },
  {
   "cell_type": "code",
   "execution_count": null,
   "id": "cef9fa69",
   "metadata": {},
   "outputs": [],
   "source": [
    "data_url = \"https://raw.githubusercontent.com/Gurobi/modeling-examples/master/price_optimization/\"\n",
    "avocado = pd.read_csv(\n",
    "    data_url + \"HABdata_2019_2022.csv\"\n",
    ")  # dataset downloaded directly from HAB\n",
    "avocado_old = pd.read_csv(\n",
    "    data_url + \"kaggledata_till2018.csv\"\n",
    ")  # dataset downloaded from Kaggle\n",
    "avocado = pd.concat([avocado, avocado_old])\n",
    "avocado"
   ]
  },
  {
   "cell_type": "markdown",
   "id": "3d5c596d",
   "metadata": {},
   "source": [
    "## Prepare the Dataset\n",
    "\n",
    "We will now prepare the data for making sales predictions. Add new columns to\n",
    "the dataframe for the year and seasonality. Let each year from 2015 through 2022\n",
    "be given an index from 0 through 7 in the increasing order of the year. We will\n",
    "define the peak season to be the months of February through July. These months\n",
    "are set based on visual inspection of the trends, but you can try setting other\n",
    "months."
   ]
  },
  {
   "cell_type": "code",
   "execution_count": null,
   "id": "2ffb54fa",
   "metadata": {},
   "outputs": [],
   "source": [
    "# Add the index for each year from 2015 through 2022\n",
    "avocado[\"date\"] = pd.to_datetime(avocado[\"date\"])\n",
    "avocado[\"year\"] = pd.DatetimeIndex(avocado[\"date\"]).year\n",
    "avocado = avocado.sort_values(by=\"date\")\n",
    "\n",
    "# Define the peak season\n",
    "avocado[\"month\"] = pd.DatetimeIndex(avocado[\"date\"]).month\n",
    "peak_months = range(2, 8)  # <--------- Set the months for the \"peak season\"\n",
    "\n",
    "\n",
    "def peak_season(row):\n",
    "    return 1 if int(row[\"month\"]) in peak_months else 0\n",
    "\n",
    "\n",
    "avocado[\"peak\"] = avocado.apply(lambda row: peak_season(row), axis=1)\n",
    "\n",
    "# Scale the number of avocados to millions\n",
    "avocado[\"units_sold\"] = avocado[\"units_sold\"] / 1000000\n",
    "\n",
    "# Select only conventional avocados\n",
    "avocado = avocado[avocado[\"type\"] == \"Conventional\"]\n",
    "\n",
    "avocado = avocado[\n",
    "    [\"date\", \"units_sold\", \"price\", \"region\", \"year\", \"month\", \"peak\"]\n",
    "].reset_index(drop=True)\n",
    "\n",
    "avocado"
   ]
  },
  {
   "cell_type": "markdown",
   "id": "dfb1aefc",
   "metadata": {},
   "source": [
    "## Part 1: Observe Trends in the Data\n",
    "\n",
    "Now, we will infer sales trends in time and seasonality. For simplicity, let's\n",
    "proceed with data from the United States as a whole."
   ]
  },
  {
   "cell_type": "code",
   "execution_count": null,
   "id": "37ec2ad0",
   "metadata": {},
   "outputs": [],
   "source": [
    "df_Total_US = avocado[avocado[\"region\"] == \"Total_US\"]"
   ]
  },
  {
   "cell_type": "markdown",
   "id": "eb3c0ac5",
   "metadata": {},
   "source": [
    "### Sales Over the Years"
   ]
  },
  {
   "cell_type": "code",
   "execution_count": null,
   "id": "d2f7336b",
   "metadata": {},
   "outputs": [],
   "source": [
    "fig, axes = plt.subplots(nrows=1, ncols=1, figsize=(10, 5))\n",
    "\n",
    "mean = df_Total_US.groupby(\"year\")[\"units_sold\"].mean()\n",
    "std = df_Total_US.groupby(\"year\")[\"units_sold\"].std()\n",
    "axes.errorbar(mean.index, mean, xerr=0.5, yerr=2 * std, linestyle=\"\")\n",
    "axes.set_ylabel(\"Units Sold (millions)\")\n",
    "axes.set_xlabel(\"Year\")\n",
    "\n",
    "fig.tight_layout()"
   ]
  },
  {
   "cell_type": "markdown",
   "id": "f9a9a13d",
   "metadata": {},
   "source": [
    "We can see that the sales generally increased over the years, albeit marginally.\n",
    "The dip in 2019 is the effect of the well-documented [2019 avocado\n",
    "shortage](https://abc7news.com/avocado-shortage-season-prices/5389855/) that led\n",
    "to avocados [nearly doubling in\n",
    "price.](https://abc7news.com/avocado-shortage-season-prices/5389855/)"
   ]
  },
  {
   "cell_type": "markdown",
   "id": "2fa3122e",
   "metadata": {},
   "source": [
    "### Seasonality\n",
    "\n",
    "We will now see the sales trends within a year."
   ]
  },
  {
   "cell_type": "code",
   "execution_count": null,
   "id": "9854f1ed",
   "metadata": {},
   "outputs": [],
   "source": [
    "fig, axes = plt.subplots(nrows=1, ncols=1, figsize=(10, 5))\n",
    "\n",
    "mean = df_Total_US.groupby(\"month\")[\"units_sold\"].mean()\n",
    "std = df_Total_US.groupby(\"month\")[\"units_sold\"].std()\n",
    "\n",
    "axes.errorbar(mean.index, mean, xerr=0.5, yerr=2 * std, linestyle=\"\")\n",
    "axes.set_ylabel(\"Units Sold (millions)\")\n",
    "axes.set_xlabel(\"Month\")\n",
    "\n",
    "fig.tight_layout()\n",
    "\n",
    "plt.xlabel(\"Month\")\n",
    "axes.set_xticks(range(1, 13))\n",
    "plt.ylabel(\"Units sold (millions)\")\n",
    "plt.show()"
   ]
  },
  {
   "cell_type": "markdown",
   "id": "1d9ab2c0",
   "metadata": {},
   "source": [
    "We see a Super Bowl peak in February and a Cinco de Mayo peak in May."
   ]
  },
  {
   "cell_type": "markdown",
   "id": "6ae0d4dd",
   "metadata": {},
   "source": [
    "### Correlations\n",
    "\n",
    "Now, we will see how the variables are correlated with each other. The end goal\n",
    "is to predict sales given the price of an avocado, year and seasonality (peak or\n",
    "not)."
   ]
  },
  {
   "cell_type": "code",
   "execution_count": null,
   "id": "1c7f9eb1",
   "metadata": {},
   "outputs": [],
   "source": [
    "fig, axes = plt.subplots(nrows=1, ncols=1, figsize=(15, 5))\n",
    "sns.heatmap(\n",
    "    df_Total_US[[\"units_sold\", \"price\", \"year\", \"peak\"]].corr(),\n",
    "    annot=True,\n",
    "    center=0,\n",
    "    ax=axes,\n",
    ")\n",
    "\n",
    "axes.set_title(\"Correlations for conventional avocados\")\n",
    "plt.show()"
   ]
  },
  {
   "cell_type": "markdown",
   "id": "b6451ab3",
   "metadata": {},
   "source": [
    "As expected, the sales quantity has a negative correlation with the price per\n",
    "avocado. The sales quantity has a positive correlation with the year and season\n",
    "being a peak season."
   ]
  },
  {
   "cell_type": "markdown",
   "id": "3a91caa2",
   "metadata": {},
   "source": [
    "### Regions\n",
    "\n",
    "Finally, we will see how the sales differ among the different regions. This will\n",
    "determine the number of avocados that we want to supply to each region."
   ]
  },
  {
   "cell_type": "code",
   "execution_count": null,
   "id": "c2f6cc22",
   "metadata": {},
   "outputs": [],
   "source": [
    "fig, axes = plt.subplots(nrows=1, ncols=1, figsize=(10, 5))\n",
    "\n",
    "regions = [\n",
    "    \"Great_Lakes\",\n",
    "    \"Midsouth\",\n",
    "    \"Northeast\",\n",
    "    \"Northern_New_England\",\n",
    "    \"SouthCentral\",\n",
    "    \"Southeast\",\n",
    "    \"West\",\n",
    "    \"Plains\",\n",
    "]\n",
    "df = avocado[avocado.region.isin(regions)]\n",
    "\n",
    "mean = df.groupby(\"region\")[\"units_sold\"].mean()\n",
    "std = df.groupby(\"region\")[\"units_sold\"].std()\n",
    "\n",
    "axes.errorbar(range(len(mean)), mean, xerr=0.5, yerr=2 * std, linestyle=\"\")\n",
    "\n",
    "fig.tight_layout()\n",
    "\n",
    "plt.xlabel(\"Region\")\n",
    "plt.xticks(range(len(mean)), pd.DataFrame(mean)[\"units_sold\"].index, rotation=20)\n",
    "plt.ylabel(\"Units sold (millions)\")\n",
    "plt.show()"
   ]
  },
  {
   "cell_type": "markdown",
   "id": "0ce2e58e",
   "metadata": {},
   "source": [
    "Clearly, west-coasters love avocados."
   ]
  },
  {
   "cell_type": "markdown",
   "id": "5186fd3e",
   "metadata": {},
   "source": [
    "## Part II: Predict the Sales\n",
    "\n",
    "The trends observed in Part I motivate us to construct a prediction model for\n",
    "sales using the independent variables- price, year, region and seasonality.\n",
    "Henceforth, the sales quantity will be referred to as the *predicted demand*."
   ]
  },
  {
   "cell_type": "markdown",
   "id": "48cb9ee7",
   "metadata": {},
   "source": [
    "To validate the regression model, we will randomly split the dataset into $80\\%$\n",
    "training and $20\\%$ testing data and learn the weights using `Scikit-learn`."
   ]
  },
  {
   "cell_type": "code",
   "execution_count": null,
   "id": "866c540b",
   "metadata": {},
   "outputs": [],
   "source": [
    "from sklearn.model_selection import train_test_split\n",
    "\n",
    "X = df[[\"region\", \"price\", \"year\", \"peak\"]]\n",
    "y = df[\"units_sold\"]\n",
    "# Split the data for training and testing\n",
    "X_train, X_test, y_train, y_test = train_test_split(\n",
    "    X, y, train_size=0.8, random_state=1\n",
    ")"
   ]
  },
  {
   "cell_type": "markdown",
   "id": "071154e3",
   "metadata": {},
   "source": [
    "Note that the region is a categorical variable.\n",
    "\n",
    "To apply a linear regression, we need to transform those variable using an encoding. Here we use Scikit Learn `OneHotEncoder`. We also use a standard scaler for prices and year index. All those transformations are combined with a `Column Transformer` built using `make_column_transformer`."
   ]
  },
  {
   "cell_type": "code",
   "execution_count": null,
   "id": "71c7c565",
   "metadata": {},
   "outputs": [],
   "source": [
    "from sklearn.preprocessing import OneHotEncoder\n",
    "from sklearn.preprocessing import StandardScaler\n",
    "from sklearn.compose import make_column_transformer\n",
    "\n",
    "feat_transform = make_column_transformer(\n",
    "    (OneHotEncoder(drop=\"first\"), [\"region\"]),\n",
    "    (StandardScaler(), [\"price\", \"year\"]),\n",
    "    (\"passthrough\", [\"peak\"]),\n",
    "    verbose_feature_names_out=False,\n",
    "    remainder='drop'\n",
    ")"
   ]
  },
  {
   "cell_type": "markdown",
   "id": "65b6bcaa",
   "metadata": {},
   "source": [
    "The regression model is a pipeline consisting of the `Column Transformer` we just defined and a Linear Regression.\n",
    "\n",
    "Define it and train it."
   ]
  },
  {
   "cell_type": "code",
   "execution_count": null,
   "id": "16294bfb",
   "metadata": {},
   "outputs": [],
   "source": [
    "from sklearn.linear_model import LinearRegression\n",
    "from sklearn.pipeline import make_pipeline\n",
    "from sklearn.metrics import r2_score\n",
    "\n",
    "lin_reg = make_pipeline(feat_transform, LinearRegression())\n",
    "lin_reg.fit(X_train, y_train)\n",
    "\n",
    "# Get R^2 from test data\n",
    "y_pred = lin_reg.predict(X_test)\n",
    "print(f\"The R^2 value in the test set is {r2_score(y_test, y_pred)}\")"
   ]
  },
  {
   "cell_type": "markdown",
   "id": "3291d28d",
   "metadata": {},
   "source": [
    "We can observe a good $R^2$ value in the test set. We will now train the fit the\n",
    "weights to the full dataset."
   ]
  },
  {
   "cell_type": "code",
   "execution_count": null,
   "id": "1b956503",
   "metadata": {},
   "outputs": [],
   "source": [
    "lin_reg.fit(X, y)\n",
    "\n",
    "y_pred_full = lin_reg.predict(X)\n",
    "print(f\"The R^2 value in the full dataset is {r2_score(y, y_pred_full)}\")"
   ]
  },
  {
   "cell_type": "markdown",
   "id": "08f48f80",
   "metadata": {},
   "source": [
    "## Part III: Optimize for Price and Supply of Avocados"
   ]
  },
  {
   "cell_type": "markdown",
   "id": "93868dba",
   "metadata": {},
   "source": [
    "Knowing how the price of an avocado affects the demand, how can we set the\n",
    "optimal avocado price? We don't want to set the price too high, since that could\n",
    "drive demand and sales down. At the same time, setting the price too low could\n",
    "be suboptimal when maximizing revenue. So what is the sweet spot?\n",
    "\n",
    "On the distribution logistics, we want to make sure that there are enough\n",
    "avocados across the regions. We can address these considerations in a\n",
    "mathematical optimization model. An optimization model finds the **best\n",
    "solution** according to an **objective function** such that the solution\n",
    "satisfies a set of **constraints**. Here, a solution is expressed as a vector of\n",
    "real values or integer values called **decision variables**. Constraints are a\n",
    "set of equations or inequalities written as a function of the decision\n",
    "variables.\n",
    "\n",
    "At the start of each week, assume that the total number of available products is\n",
    "finite. This quantity needs to be distributed to the various regions while\n",
    "maximizing net revenue. So there are two key decisions - the price of an avocado\n",
    "in each region, and the number of avocados allocated to each region.\n",
    "\n",
    "Let us now define some input parameters and notations used for creating the\n",
    "model. The subscript $r$ will be used to denote each region.\n",
    "\n",
    "### Input Parameters\n",
    "- $R$: set of regions,\n",
    "- $d(p,r)$: predicted demand in region $r\\in R$ when the avocado per product is\n",
    "  $p$,\n",
    "- $B$: available avocados to be distributed across the regions,\n",
    "- $c_{waste}$: cost ($\\$$) per wasted avocado,\n",
    "- $c^r_{transport}$: cost ($\\$$) of transporting a avocado to region $r \\in R$,\n",
    "- $a^r_{min},a^r_{max}$: minimum and maximum price ($\\$$) per avocado for reigon\n",
    "  $r \\in R$,\n",
    "- $b^r_{min},b^r_{max}$: minimum and maximum number of avocados allocated to\n",
    "  region $r \\in R$,\n",
    "\n",
    "The following code loads the Gurobi python package and initiates the\n",
    "optimization model. The value of $B$ is set to $30$ million avocados, which is\n",
    "close to the average weekly supply value from the data. For illustration, let us\n",
    "consider the peak season of 2021. The cost of wasting an avocado is set to\n",
    "$\\$0.10$. The cost of transporting an avocado ranges between $\\$0.10$ to\n",
    "$\\$0.50$ based on each region's distance from the southern border, where the\n",
    "[majority of avocado supply comes\n",
    "from](https://www.britannica.com/plant/avocado). Further, we can set the price\n",
    "of an avocado to not exceed $\\$ 2$ apiece.\n",
    "\n",
    "<div class=\"alert alert-info\">\n",
    "Note\n",
    "\n",
    "There are subtle but significant differences in the model with respect to the original notebook.\n",
    "\n",
    "Here, we use Gurobi matrix variables API instead of variables indexed by the\n",
    "regions. Our variables are then vectors and matrices and are not indexed by\n",
    "regions (they are just indexed by their row and column numbers).\n",
    "\n",
    "Because of this, we have to make certain that the data is always presented with\n",
    "the regions in the exact same order. We repeatedly use `.loc[regions]` on the\n",
    "data stored in pandas to make sure of that.\n",
    "\n",
    "</div>"
   ]
  },
  {
   "cell_type": "code",
   "execution_count": null,
   "id": "1f293b80",
   "metadata": {},
   "outputs": [],
   "source": [
    "# Sets and parameters\n",
    "B = 30  # total amount ot avocado supply\n",
    "\n",
    "peak_or_not = 1  # 1 if it is the peak season; 1 if isn't\n",
    "year = 2022\n",
    "\n",
    "c_waste = 0.1  # the cost ($) of wasting an avocado\n",
    "\n",
    "# the cost of transporting an avocado\n",
    "c_transport = pd.Series(\n",
    "    {\n",
    "        \"Great_Lakes\": 0.3,\n",
    "        \"Midsouth\": 0.1,\n",
    "        \"Northeast\": 0.4,\n",
    "        \"Northern_New_England\": 0.5,\n",
    "        \"SouthCentral\": 0.3,\n",
    "        \"Southeast\": 0.2,\n",
    "        \"West\": 0.2,\n",
    "        \"Plains\": 0.2,\n",
    "    }, name='transport_cost'\n",
    ")\n",
    "\n",
    "c_transport = c_transport.loc[regions]\n",
    "# the cost of transporting an avocado\n",
    "\n",
    "# Get the lower and upper bounds from the dataset for the price and the number of products to be stocked\n",
    "a_min = 0  # minimum avocado price in each region\n",
    "a_max = 2  # maximum avocado price in each region\n",
    "\n",
    "data = pd.concat([c_transport,\n",
    "                  df.groupby(\"region\")[\"units_sold\"].min().rename('min_delivery'),\n",
    "                  df.groupby(\"region\")[\"units_sold\"].max().rename('max_delivery')], axis=1)"
   ]
  },
  {
   "cell_type": "code",
   "execution_count": null,
   "id": "397a61ee",
   "metadata": {},
   "outputs": [],
   "source": [
    "data"
   ]
  },
  {
   "cell_type": "markdown",
   "id": "5eaf9769",
   "metadata": {},
   "source": [
    "### Create dataframe for the fixed features of the regression\n",
    "\n",
    "We now start creating the input of the regression in the optimization models with the features that are fixed.\n",
    "\n",
    "We use gurobipy-pandas that help to more easily create gurobipy models using pandas data."
   ]
  },
  {
   "cell_type": "markdown",
   "id": "ebb83dc2",
   "metadata": {},
   "source": [
    "First, create a dataframe with the features that are fixed in our optimization problem.\n",
    "It is indexed by the regions (we want to use one regression to predict demand for each region) and has the 3\n",
    "columns corresponding to the fixed features:\n",
    "\n",
    "* `year`\n",
    "* `peak` with the value of `peak_or_not`\n",
    "* `region` that repeat the names of the regions.\n",
    "\n",
    "Display the dataframe to make sure it is correct"
   ]
  },
  {
   "cell_type": "code",
   "execution_count": null,
   "id": "e879833f",
   "metadata": {},
   "outputs": [],
   "source": [
    "import gurobipy_pandas as gppd\n",
    "feats = pd.DataFrame(\n",
    "    data={\n",
    "        \"year\": year,\n",
    "        \"peak\": peak_or_not,\n",
    "        \"region\": regions,\n",
    "    },\n",
    "    index=regions\n",
    ")\n",
    "feats"
   ]
  },
  {
   "cell_type": "markdown",
   "id": "5103dcd2",
   "metadata": {},
   "source": [
    "### Decision Variables\n",
    "\n",
    "Let us now define the decision variables. In our model, we want to store the\n",
    "price and number of avocados allocated to each region. We also want variables\n",
    "that track how many avocados are predicted to be sold and how many are predicted\n",
    "to be wasted. The following notation is used to model these decision variables.\n",
    "\n",
    "$p$ the price of an avocado ($\\$$) in each region,\n",
    "\n",
    "$x$ the number of avocados supplied to each region,\n",
    "\n",
    "$s$ the predicted number of avocados sold in each region,\n",
    "\n",
    "$w$ the predicted number of avocados wasted in each region.\n",
    "\n",
    "$d$ the predicted demand in each region.\n",
    "\n",
    "All those variables are created using gurobipy-pandas, with the function `gppd.add_vars` they are given the same index as the `data` dataframe."
   ]
  },
  {
   "cell_type": "code",
   "execution_count": null,
   "id": "5da3e84b",
   "metadata": {},
   "outputs": [],
   "source": [
    "import gurobipy as gp\n",
    "\n",
    "m = gp.Model(\"Avocado_Price_Allocation\")\n",
    "\n",
    "p = gppd.add_vars(m, data, name=\"price\", lb=a_min, ub=a_max)\n",
    "x = gppd.add_vars(m, data, name=\"x\", lb='min_delivery', ub='max_delivery')\n",
    "s = gppd.add_vars(m, data, name=\"s\") # predicted amount of sales in each region for the given price).\n",
    "w = gppd.add_vars(m, data, name=\"w\") # excess wasteage in each region).\n",
    "d = gppd.add_vars(m, data, lb=-gp.GRB.INFINITY, name=\"demand\") # Add variables for the regression\n",
    "\n",
    "m.update()\n",
    "\n",
    "# Display one of the variables\n",
    "p"
   ]
  },
  {
   "cell_type": "markdown",
   "id": "5e15e4ae",
   "metadata": {},
   "source": [
    "### Set the Objective\n",
    "\n",
    "Next, we will define the objective function: we want to maximize the **net\n",
    "revenue**. The revenue from sales in each region is calculated by the price of\n",
    "an avocado in that region multiplied by the quantity sold there. There are two\n",
    "types of costs incurred: the wastage costs for excess unsold avocados and the\n",
    "cost of transporting the avocados to the different regions.\n",
    "\n",
    "The net revenue is the sales revenue subtracted by the total costs incurred. We\n",
    "assume that the purchase costs are fixed and are not incorporated in this model.\n",
    "\n",
    "Using the defined decision variables, the objective can be written as follows.\n",
    "\n",
    "\\begin{align} \\textrm{maximize} &  \\sum_{r}  (p_r * s_r - c_{waste} * w_r -\n",
    "c^r_{transport} * x_r)& \\end{align}\n",
    "\n",
    "Let us now add the objective function to the model."
   ]
  },
  {
   "cell_type": "code",
   "execution_count": null,
   "id": "703ff1b2",
   "metadata": {},
   "outputs": [],
   "source": [
    "m.setObjective((p * s).sum() - c_waste * w.sum() - (c_transport * x).sum(),\n",
    "               gp.GRB.MAXIMIZE)"
   ]
  },
  {
   "cell_type": "markdown",
   "id": "5a3bf602",
   "metadata": {},
   "source": [
    "### Add the Supply Constraint\n",
    "\n",
    "We now introduce the constraints. The first constraint is to make sure that the\n",
    "total number of avocados supplied is equal to $B$, which can be mathematically\n",
    "expressed as follows.\n",
    "\n",
    "\\begin{align*} \\sum_{r} x_r &= B \\end{align*}\n",
    "\n",
    "The following code adds this constraint to the model."
   ]
  },
  {
   "cell_type": "code",
   "execution_count": null,
   "id": "071c45f9",
   "metadata": {},
   "outputs": [],
   "source": [
    "m.addConstr(x.sum() == B)\n",
    "m.update()"
   ]
  },
  {
   "cell_type": "markdown",
   "id": "59009e4d",
   "metadata": {},
   "source": [
    "### Add Constraints That Define Sales Quantity\n",
    "\n",
    "Next, we should define the predicted sales quantity in each region. We can\n",
    "assume that if we supply more than the predicted demand, we sell exactly the\n",
    "predicted demand. Otherwise, we sell exactly the allocated amount. Hence, the\n",
    "predicted sales quantity is the minimum of the allocated quantity and the\n",
    "predicted demand, i.e., $s_r = \\min \\{x_r,d_r(p_r)\\}$. This relationship can be\n",
    "modeled by the following two constraints for each region $r$.\n",
    "\n",
    "\\begin{align*} s_r &\\leq x_r  \\\\\n",
    "s_r &\\leq d(p_r,r) \\end{align*}\n",
    "\n",
    "These constraints will ensure that the sales quantity $s_r$ in region $r$ is\n",
    "greater than neither the allocated quantity nor the predicted demand. Note that\n",
    "the maximization objective function tries to maximize the revenue from sales,\n",
    "and therefore the optimizer will maximize the predicted sales quantity. This is\n",
    "assuming that the surplus and transportation costs are less than the sales price\n",
    "per avocado. Hence, these constraints along with the objective will ensure that\n",
    "the sales are equal to the minimum of supply and predicted demand.\n",
    "\n",
    "Let us now add these constraints to the model.\n",
    "\n",
    "In this case, we use gurobipy-pandas, add_constrs function"
   ]
  },
  {
   "cell_type": "code",
   "execution_count": null,
   "id": "c5323898",
   "metadata": {},
   "outputs": [],
   "source": [
    "gppd.add_constrs(m, s, gp.GRB.LESS_EQUAL, x)\n",
    "gppd.add_constrs(m, s, gp.GRB.LESS_EQUAL, d)\n",
    "m.update()"
   ]
  },
  {
   "cell_type": "markdown",
   "id": "bf71c2f4",
   "metadata": {},
   "source": [
    "### Add the Wastage Constraints\n",
    "\n",
    "Finally, we should define the predicted wastage in each region, given by the\n",
    "supplied quantity that is not predicted to be sold. We can express this\n",
    "mathematically for each region $r$.\n",
    "\n",
    "\\begin{align*} w_r &= x_r - s_r \\end{align*}\n",
    "\n",
    "We can add these constraints to the model."
   ]
  },
  {
   "cell_type": "code",
   "execution_count": null,
   "id": "e3a28ede",
   "metadata": {},
   "outputs": [],
   "source": [
    "gppd.add_constrs(m, w, gp.GRB.EQUAL, x - s)\n",
    "m.update()"
   ]
  },
  {
   "cell_type": "markdown",
   "id": "f51173aa",
   "metadata": {},
   "source": [
    "### Add the constraints to predict demand"
   ]
  },
  {
   "cell_type": "markdown",
   "id": "0614c0c1",
   "metadata": {},
   "source": [
    "First, we create our full input for the predictor constraint. We concated the `p` variables and the fixed features"
   ]
  },
  {
   "cell_type": "code",
   "execution_count": null,
   "id": "efaf9cea",
   "metadata": {},
   "outputs": [],
   "source": [
    "feats = pd.concat([feats, p], axis=1)[[\"region\", \"price\", \"year\", \"peak\"]]\n",
    "\n",
    "\n",
    "feats"
   ]
  },
  {
   "cell_type": "markdown",
   "id": "8f2dc88f",
   "metadata": {},
   "source": [
    "Now, we just need to call\n",
    "[add_predictor_constr](../api/AbstractPredictorConstr.rst#gurobi_ml.add_predictor_constr)\n",
    "to insert the constraints linking the features and the demand."
   ]
  },
  {
   "cell_type": "code",
   "execution_count": null,
   "id": "76dfe7ee",
   "metadata": {},
   "outputs": [],
   "source": [
    "from gurobi_ml import add_predictor_constr"
   ]
  },
  {
   "cell_type": "code",
   "execution_count": null,
   "id": "200c4cb9",
   "metadata": {},
   "outputs": [],
   "source": [
    "pred_constr = add_predictor_constr(m, lin_reg, feats, d)\n",
    "\n",
    "pred_constr.print_stats()"
   ]
  },
  {
   "cell_type": "markdown",
   "id": "cadd1721",
   "metadata": {},
   "source": [
    "### Fire Up the Solver\n",
    "\n",
    "We have added the decision variables, objective function, and the constraints to\n",
    "the model. The model is ready to be solved. Before we do so, we should let the\n",
    "solver know what type of model this is. The default setting assumes that the\n",
    "objective and the constraints are linear functions of the variables.\n",
    "\n",
    "In our model, the objective is **quadratic** since we take the product of price\n",
    "and the predicted sales, both of which are variables. Maximizing a quadratic\n",
    "term is said to be **non-convex**, and we specify this by setting the value of\n",
    "the [Gurobi NonConvex\n",
    "parameter](https://www.gurobi.com/documentation/9.5/refman/nonconvex.html) to be\n",
    "$2$."
   ]
  },
  {
   "cell_type": "code",
   "execution_count": null,
   "id": "06a42223",
   "metadata": {},
   "outputs": [],
   "source": [
    "m.Params.NonConvex = 2\n",
    "m.optimize()"
   ]
  },
  {
   "cell_type": "markdown",
   "id": "b3474030",
   "metadata": {},
   "source": [
    "The solver solved the optimization problem in less than a second. Let us now\n",
    "analyze the optimal solution by storing it in a Pandas dataframe."
   ]
  },
  {
   "cell_type": "code",
   "execution_count": null,
   "id": "ec0d106b",
   "metadata": {},
   "outputs": [],
   "source": [
    "solution = pd.DataFrame(index=regions)\n",
    "\n",
    "solution[\"Price\"] = p.gppd.X\n",
    "solution[\"Allocated\"] = x.gppd.X\n",
    "solution[\"Sold\"] = s.gppd.X\n",
    "solution[\"Wasted\"] = w.gppd.X\n",
    "solution[\"Pred_demand\"] = d.gppd.X\n",
    "\n",
    "opt_revenue = m.ObjVal\n",
    "print(\"\\n The optimal net revenue: $%f million\" % opt_revenue)\n",
    "solution.round(4)"
   ]
  },
  {
   "cell_type": "markdown",
   "id": "34279917",
   "metadata": {},
   "source": [
    "We can also check the error in the estimate of the Gurobi solution for the regression model."
   ]
  },
  {
   "cell_type": "code",
   "execution_count": null,
   "id": "353149d2",
   "metadata": {},
   "outputs": [],
   "source": [
    "print(\n",
    "    \"Maximum error in approximating the regression {:.6}\".format(\n",
    "        np.max(pred_constr.get_error())\n",
    "    )\n",
    ")"
   ]
  },
  {
   "cell_type": "markdown",
   "id": "f2e7114c",
   "metadata": {},
   "source": [
    "And the computed features of the regression model in a pandas dataframe."
   ]
  },
  {
   "cell_type": "code",
   "execution_count": null,
   "id": "fe5d3599",
   "metadata": {},
   "outputs": [],
   "source": [
    "pred_constr.input_values.drop('region', axis=1)"
   ]
  },
  {
   "cell_type": "markdown",
   "id": "93bb9dfb",
   "metadata": {},
   "source": [
    "Let us now visualize a scatter plot between the price and the number of avocados\n",
    "sold (in millions) for the eight regions."
   ]
  },
  {
   "cell_type": "code",
   "execution_count": null,
   "id": "d1590957",
   "metadata": {},
   "outputs": [],
   "source": [
    "fig, ax = plt.subplots(1, 1)\n",
    "\n",
    "plot_sol = sns.scatterplot(data=solution, x=\"Price\", y=\"Sold\", hue=solution.index, s=100)\n",
    "plot_waste = sns.scatterplot(\n",
    "    data=solution, x=\"Price\", y=\"Wasted\", marker=\"x\", hue=solution.index, s=100, legend=False\n",
    ")\n",
    "\n",
    "plot_sol.legend(loc=\"center left\", bbox_to_anchor=(1.25, 0.5), ncol=1)\n",
    "plot_waste.legend(loc=\"center left\", bbox_to_anchor=(1.25, 0.5), ncol=1)\n",
    "plt.ylim(0, 5)\n",
    "plt.xlim(1, 2.2)\n",
    "ax.set_xlabel(\"Price per avocado ($)\")\n",
    "ax.set_ylabel(\"Number of avocados sold (millions)\")\n",
    "plt.show()\n",
    "print(\n",
    "    \"The circles represent sales quantity and the cross markers represent the wasted quantity.\"\n",
    ")"
   ]
  },
  {
   "cell_type": "markdown",
   "id": "c3b4a665",
   "metadata": {},
   "source": [
    "We have shown how to model the price and supply optimization problem with Gurobi\n",
    "Machine Learning. In the [Gurobi modeling examples\n",
    "notebook](https://github.com/Gurobi/modeling-examples/tree/master/price_optimization)\n",
    "more analysis of the solutions this model can give is done interactively. Be\n",
    "sure to take look at it."
   ]
  },
  {
   "cell_type": "markdown",
   "id": "bc9fbba6",
   "metadata": {
    "nbsphinx": "hidden"
   },
   "source": [
    "Copyright © 2022 Gurobi Optimization, LLC"
   ]
  }
 ],
 "metadata": {
  "jupytext": {
   "formats": "ipynb///ipynb,myst///md:myst"
  },
  "kernelspec": {
   "display_name": "Python 3 (ipykernel)",
   "language": "python",
   "name": "python3"
  },
  "language_info": {
   "codemirror_mode": {
    "name": "ipython",
    "version": 3
   },
   "file_extension": ".py",
   "mimetype": "text/x-python",
   "name": "python",
   "nbconvert_exporter": "python",
   "pygments_lexer": "ipython3",
   "version": "3.11.1"
  },
  "license": {
   "full_text": "# Copyright © 2022 Gurobi Optimization, LLC\n#\n# Licensed under the Apache License, Version 2.0 (the \"License\");\n# you may not use this file except in compliance with the License.\n# You may obtain a copy of the License at\n#\n#     http://www.apache.org/licenses/LICENSE-2.0\n#\n# Unless required by applicable law or agreed to in writing, software\n# distributed under the License is distributed on an \"AS IS\" BASIS,\n# WITHOUT WARRANTIES OR CONDITIONS OF ANY KIND, either express or implied.\n# See the License for the specific language governing permissions and\n# limitations under the License.\n# =============================================================================="
  }
 },
 "nbformat": 4,
 "nbformat_minor": 5
}
