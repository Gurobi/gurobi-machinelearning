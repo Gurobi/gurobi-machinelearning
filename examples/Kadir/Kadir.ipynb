{
 "cells": [
  {
   "cell_type": "code",
   "execution_count": null,
   "id": "87cbee73",
   "metadata": {
    "tags": []
   },
   "outputs": [],
   "source": [
    "\"\"\"\n",
    "Created on Mon Jul 19 17:26:18 2021\n",
    "\n",
    "@author: 4ka\n",
    "\"\"\"\n",
    "import sys\n",
    "\n",
    "import gurobipy as gp\n",
    "import numpy as np\n",
    "import torch\n",
    "import torch.nn.functional as F\n",
    "from gurobipy import GRB"
   ]
  },
  {
   "cell_type": "code",
   "execution_count": null,
   "id": "902a8734",
   "metadata": {
    "tags": []
   },
   "outputs": [],
   "source": [
    "# import my functions\n",
    "from gurobi_ml.pytorch import Sequential"
   ]
  },
  {
   "cell_type": "code",
   "execution_count": null,
   "id": "1cdf5fa0",
   "metadata": {
    "tags": []
   },
   "outputs": [],
   "source": [
    "# Load data\n",
    "X = torch.from_numpy(np.genfromtxt(\"X.csv\")).float()\n",
    "Y = torch.from_numpy(np.genfromtxt(\"Y.csv\")).float()"
   ]
  },
  {
   "cell_type": "code",
   "execution_count": null,
   "id": "0aa8fe71",
   "metadata": {},
   "outputs": [],
   "source": [
    "class MyData(torch.utils.data.Dataset):\n",
    "    def __init__(self, X, y):\n",
    "        self.X = X\n",
    "        self.y = y\n",
    "\n",
    "    def __len__(self):\n",
    "        return X.shape[0]\n",
    "\n",
    "    def __getitem__(self, i):\n",
    "        return self.X[i, :], self.y[i]"
   ]
  },
  {
   "cell_type": "code",
   "execution_count": null,
   "id": "f0960668",
   "metadata": {},
   "outputs": [],
   "source": [
    "hs = 128\n",
    "torch.manual_seed(10)\n",
    "# Define a simple sequential network\n",
    "model = torch.nn.Sequential(\n",
    "    torch.nn.Linear(X.shape[1], hs),\n",
    "    torch.nn.ReLU(),\n",
    "    torch.nn.Linear(hs, hs),\n",
    "    torch.nn.ReLU(),\n",
    "    torch.nn.Linear(hs, hs),\n",
    "    torch.nn.ReLU(),\n",
    "    torch.nn.Linear(hs, Y.shape[1]),\n",
    ")"
   ]
  },
  {
   "cell_type": "code",
   "execution_count": null,
   "id": "b3765a65",
   "metadata": {
    "tags": []
   },
   "outputs": [],
   "source": [
    "# Construct our loss function and an Optimizer.\n",
    "criterion = torch.nn.MSELoss()\n",
    "dataloader = torch.utils.data.DataLoader(MyData(X, Y), batch_size=100, shuffle=True)\n",
    "optimizer = torch.optim.Adam(model.parameters(), lr=1e-2)\n",
    "for t in range(100):\n",
    "    size = len(dataloader.dataset)\n",
    "    for batch, (feat, target) in enumerate(dataloader):\n",
    "        # Zero gradients\n",
    "        optimizer.zero_grad()\n",
    "        # Forward pass: Compute predicted y by passing x to the model\n",
    "        pred = model(feat)\n",
    "        # Compute and print loss\n",
    "        loss = criterion(pred, target)\n",
    "        loss.backward()\n",
    "        optimizer.step()\n",
    "    with torch.no_grad():\n",
    "        target = model(X)\n",
    "        # Compute and print loss\n",
    "        loss = criterion(target, Y)\n",
    "        print(f\"Epoch {t} loss: {loss.item():>7f}\")"
   ]
  },
  {
   "cell_type": "code",
   "execution_count": null,
   "id": "a3334445",
   "metadata": {
    "tags": []
   },
   "outputs": [],
   "source": [
    "p = np.random.randint(30, size=24)"
   ]
  },
  {
   "cell_type": "code",
   "execution_count": null,
   "id": "42c2b149",
   "metadata": {
    "tags": []
   },
   "outputs": [],
   "source": [
    "m = gp.Model()\n",
    "x = m.addMVar((1, 48), vtype=GRB.CONTINUOUS, name=\"x\", lb=0, ub=410)\n",
    "y = m.addMVar((1, 24), lb=20, ub=30, vtype=GRB.CONTINUOUS, name=\"y\")\n",
    "m.setObjective(p @ x[0, 24:], GRB.MINIMIZE)\n",
    "# Add constraint to predict value of y using x\n",
    "nn2gurobi = Sequential(m, model, x, y)"
   ]
  },
  {
   "cell_type": "code",
   "execution_count": null,
   "id": "3cfc4ea6",
   "metadata": {},
   "outputs": [],
   "source": [
    "m.optimize()"
   ]
  },
  {
   "cell_type": "code",
   "execution_count": null,
   "id": "3ba2106a",
   "metadata": {},
   "outputs": [],
   "source": [
    "print(f\"Maximal error in predicted values in solution {np.max(np.abs(nn2gurobi.get_error()))}\")"
   ]
  },
  {
   "cell_type": "code",
   "execution_count": null,
   "id": "47a68fda",
   "metadata": {},
   "outputs": [],
   "source": [
    "y.X"
   ]
  }
 ],
 "metadata": {
  "interpreter": {
   "hash": "3cf3099f0bba5fe511140d8ef714d70e8518d2fd25c78432792b15e61fc6ddb1"
  },
  "kernelspec": {
   "display_name": "Python 3 (ipykernel)",
   "language": "python",
   "name": "python3"
  },
  "language_info": {
   "codemirror_mode": {
    "name": "ipython",
    "version": 3
   },
   "file_extension": ".py",
   "mimetype": "text/x-python",
   "name": "python",
   "nbconvert_exporter": "python",
   "pygments_lexer": "ipython3",
   "version": "3.9.12"
  }
 },
 "nbformat": 4,
 "nbformat_minor": 5
}
