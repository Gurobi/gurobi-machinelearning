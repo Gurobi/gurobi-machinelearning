{
 "cells": [
  {
   "cell_type": "markdown",
   "id": "7057f8e4",
   "metadata": {},
   "source": [
    "# Integrate a logistic regression in a Gurobi model\n",
    "\n",
    "We take the model from JANOS example:\n",
    "\n",
    "$\n",
    "\\begin{align}\n",
    "&\\max \\sum y_i \\\\\n",
    "&\\text{subject to:}\\\\\n",
    "&\\sum x_i \\le 100,\\\\\n",
    "&y_i = g(x_i, \\psi),\\\\\n",
    "& 0 \\le x \\le 2.5.\n",
    "\\end{align}\n",
    "$\n",
    "\n",
    "Where, $\\psi$ is a matrix of known features. And $g$ is a logistic function computed using the  logistic regression of scikit-learn.\n",
    "\n",
    "Note that differently to JANOS, we scale the feature corresponding to $x$ for the regression."
   ]
  },
  {
   "cell_type": "code",
   "execution_count": null,
   "id": "9ce468a1-27be-4bdd-bc78-2204f74bb9ac",
   "metadata": {},
   "outputs": [],
   "source": [
    "import sys\n",
    "\n",
    "import gurobipy as gp\n",
    "import numpy as np\n",
    "import pandas as pd\n",
    "from matplotlib import pyplot as plt\n",
    "from sklearn.linear_model import LogisticRegression\n",
    "from sklearn.pipeline import make_pipeline\n",
    "from sklearn.preprocessing import StandardScaler"
   ]
  },
  {
   "cell_type": "code",
   "execution_count": null,
   "id": "a5fdd902",
   "metadata": {},
   "outputs": [],
   "source": [
    "# import my functions\n",
    "%load_ext autoreload\n",
    "%autoreload 2\n",
    "sys.path.append(\"../../src/\")\n",
    "from gurobi.machinelearning import add_predictor_constr"
   ]
  },
  {
   "cell_type": "code",
   "execution_count": null,
   "id": "32d8731d",
   "metadata": {},
   "outputs": [],
   "source": [
    "# Retrieve historical data used to do the regression\n",
    "historical_data = pd.read_csv(\"data/college_student_enroll-s1-1.csv\", index_col=0)\n",
    "\n",
    "\n",
    "# classify our features between the ones that are fixed and the ones that will be\n",
    "# part of the optimization problem\n",
    "\n",
    "known_features = [\"SAT\", \"GPA\"]\n",
    "dec_features = [\"scholarship\"]\n",
    "target = \"enroll\"\n",
    "features = known_features + dec_features\n",
    "\n",
    "historical_data = historical_data[features + [target]]"
   ]
  },
  {
   "cell_type": "markdown",
   "id": "ddb72e1c",
   "metadata": {},
   "source": [
    "### Do our logistic regression"
   ]
  },
  {
   "cell_type": "code",
   "execution_count": null,
   "id": "37b554b9",
   "metadata": {},
   "outputs": [],
   "source": [
    "# Run our regression\n",
    "X = historical_data.loc[:, features]\n",
    "Y = historical_data.loc[:, \"enroll\"]\n",
    "scaler = StandardScaler()\n",
    "regression = LogisticRegression(random_state=1, penalty='l1', C=10, solver='saga')\n",
    "pipe = make_pipeline(scaler, regression)\n",
    "pipe.fit(X=X, y=Y)"
   ]
  },
  {
   "cell_type": "markdown",
   "id": "a7293c95",
   "metadata": {},
   "source": [
    "### Now start with the optimization model\n",
    "\n",
    "- Read in our data\n",
    "- add the x and y variables and the regular matrix constraints"
   ]
  },
  {
   "cell_type": "code",
   "execution_count": null,
   "id": "ffab53b5",
   "metadata": {},
   "outputs": [],
   "source": [
    "# Retrieve new data used to build the optimization problem\n",
    "studentsdata = pd.read_csv(\"data/admissions500.csv\", index_col=0)\n",
    "studentsdata = studentsdata[known_features]\n",
    "nstudents = studentsdata.shape[0]\n",
    "\n",
    "# Start with classical part of the model\n",
    "m = gp.Model()\n",
    "\n",
    "knownidx = historical_data.columns.get_indexer(known_features)\n",
    "scholarshipidx = historical_data.columns.get_indexer(dec_features)\n",
    "\n",
    "lb = np.zeros((nstudents, len(features)))\n",
    "ub = np.ones((nstudents, len(features))) * gp.GRB.INFINITY\n",
    "lb[:, knownidx] = studentsdata.loc[:, known_features]\n",
    "ub[:, knownidx] = studentsdata.loc[:, known_features]\n",
    "\n",
    "x = m.addMVar(lb.shape, lb=lb, ub=ub, name=\"x\")\n",
    "scholarship = x[:, scholarshipidx][:, 0]\n",
    "y = m.addMVar(nstudents, ub=1, name=\"y\")\n",
    "z = m.addMVar(nstudents, vtype=gp.GRB.BINARY)\n",
    "\n",
    "scholarship.LB = 0.0\n",
    "scholarship.UB = 2.5\n",
    "\n",
    "m.setObjective(y.sum(), gp.GRB.MAXIMIZE)\n",
    "m.addConstr(scholarship.sum() <= 0.2 * nstudents)\n",
    "m.addConstr(scholarship <= 2.5 * z[:])\n",
    "m.addConstr(scholarship >= 0.5 * z[:])\n",
    "\n",
    "add_predictor_constr(m, pipe, x, y)"
   ]
  },
  {
   "cell_type": "markdown",
   "id": "042b9d06",
   "metadata": {},
   "source": [
    "### Finally optimize it"
   ]
  },
  {
   "cell_type": "code",
   "execution_count": null,
   "id": "eaa1b1c2-5591-4de9-9553-e681dd999bc5",
   "metadata": {},
   "outputs": [],
   "source": [
    "m.optimize()"
   ]
  },
  {
   "cell_type": "markdown",
   "id": "dec78423",
   "metadata": {},
   "source": [
    "### Look at solution"
   ]
  },
  {
   "cell_type": "code",
   "execution_count": null,
   "id": "35d4ea51",
   "metadata": {},
   "outputs": [],
   "source": [
    "for i, (yX, xX) in enumerate(zip(y.X.round(2), scholarship.X.round(2))):\n",
    "    if yX > 0.0 or xX > 0.0:\n",
    "        print(\"Student {} y {} x {}\".format(i, yX, xX))"
   ]
  },
  {
   "cell_type": "code",
   "execution_count": null,
   "id": "1f868fe7",
   "metadata": {},
   "outputs": [],
   "source": [
    "# This is what we predicted\n",
    "plt.scatter(scholarship.X, y.X)"
   ]
  },
  {
   "cell_type": "code",
   "execution_count": null,
   "id": "fb54fc72",
   "metadata": {},
   "outputs": [],
   "source": [
    "# Proportion of students offered a scholarship\n",
    "print(\n",
    "    \"In historical data {:.4}% students offered a scholarship\".format(\n",
    "        100 * (sum(historical_data.loc[:, \"scholarship\"] > 0) / len(historical_data.loc[:, \"scholarship\"]))\n",
    "    )\n",
    ")\n",
    "print(\"In our solution {:.4}% students offered a scholarship\".format(100 * sum(scholarship.X > 0) / nstudents))"
   ]
  },
  {
   "cell_type": "markdown",
   "id": "e1ea4cdd-6f3a-4275-a4eb-b1c0667e45d8",
   "metadata": {},
   "source": [
    "Copyright © 2022 Gurobi Optimization, LLC"
   ]
  }
 ],
 "metadata": {
  "kernelspec": {
   "display_name": "Python 3 (ipykernel)",
   "language": "python",
   "name": "python3"
  },
  "language_info": {
   "codemirror_mode": {
    "name": "ipython",
    "version": 3
   },
   "file_extension": ".py",
   "mimetype": "text/x-python",
   "name": "python",
   "nbconvert_exporter": "python",
   "pygments_lexer": "ipython3",
   "version": "3.9.13"
  },
  "vscode": {
   "interpreter": {
    "hash": "949777d72b0d2535278d3dc13498b2535136f6dfe0678499012e853ee9abcab1"
   }
  }
 },
 "nbformat": 4,
 "nbformat_minor": 5
}
