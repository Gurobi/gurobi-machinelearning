{
 "cells": [
  {
   "cell_type": "markdown",
   "id": "7057f8e4",
   "metadata": {},
   "source": [
    "# Integrate a linear regression in a Gurobi model\n",
    "*Note: The resulting model in this example will be too large for a size-limited license; in order to solve it, please visit https://www.gurobi.com/free-trial for a full license*\n",
    "\n",
    "We take the model from Janos example:\n",
    "\n",
    "$\n",
    "\\begin{align}\n",
    "&\\max \\sum y_i \\\\\n",
    "&\\text{subject to:}\\\\\n",
    "&\\sum x_i \\le 100,\\\\\n",
    "&y_i = g(x_i, \\psi),\\\\\n",
    "& 0 \\le x \\le 2.5.\n",
    "\\end{align}\n",
    "$\n",
    "\n",
    "Where, $\\psi$ is a vector of fixed features. And $g$ is an affine function computed using the  linear regression of scikit-learn.\n",
    "\n",
    "Note that differently to Janos, we scale the feature corresponding to $x$ for the linear regression."
   ]
  },
  {
   "cell_type": "code",
   "execution_count": null,
   "id": "9ce468a1-27be-4bdd-bc78-2204f74bb9ac",
   "metadata": {},
   "outputs": [],
   "source": [
    "import gurobipy as gp\n",
    "import numpy as np\n",
    "import pandas as pd\n",
    "from sklearn.linear_model import LinearRegression\n",
    "from sklearn.pipeline import make_pipeline\n",
    "from sklearn.preprocessing import StandardScaler\n",
    "from gurobi_ml.sklearn import PipelineConstr\n",
    "\n",
    "# Base URL for retrieving data\n",
    "janos_data_url = 'https://raw.githubusercontent.com/INFORMSJoC/2020.1023/master/data/'\n"
   ]
  },
  {
   "cell_type": "code",
   "execution_count": null,
   "id": "cb1702aa",
   "metadata": {},
   "outputs": [],
   "source": [
    "# Retrieve historical data used to do the regression\n",
    "historical_data = pd.read_csv(janos_data_url + 'college_student_enroll-s1-1.csv', index_col=0)\n",
    "\n",
    "\n",
    "# classify our features between the ones that are fixed and the ones that will be\n",
    "# part of the optimization problem\n",
    "\n",
    "known_features = [\"SAT\", \"GPA\"]\n",
    "dec_features = [\"scholarship\"]\n",
    "target = \"enroll\"\n",
    "features = known_features + dec_features\n",
    "\n",
    "historical_data = historical_data[features + [target]]"
   ]
  },
  {
   "cell_type": "markdown",
   "id": "ddb72e1c",
   "metadata": {},
   "source": [
    "### Do our linear regression\n",
    "\n",
    "Note that we scale the features that are fixed and the ones that will be controled\n",
    "by variables in the optimization problem separately.\n",
    "This is to make the formulation simpler afterwards."
   ]
  },
  {
   "cell_type": "code",
   "execution_count": null,
   "id": "37b554b9",
   "metadata": {},
   "outputs": [],
   "source": [
    "# Run our regression\n",
    "X = historical_data.loc[:, features]\n",
    "Y = historical_data.loc[:, \"enroll\"]\n",
    "scaler = StandardScaler()\n",
    "regression = LinearRegression()\n",
    "pipe = make_pipeline(scaler, regression)\n",
    "pipe.fit(X=X, y=Y)"
   ]
  },
  {
   "cell_type": "markdown",
   "id": "a7293c95",
   "metadata": {},
   "source": [
    "### Now start with the optimization model\n",
    "\n",
    "- Read in our data\n",
    "- add the x and y variables and the regular matrix constraints"
   ]
  },
  {
   "cell_type": "code",
   "execution_count": null,
   "id": "a7095210",
   "metadata": {},
   "outputs": [],
   "source": [
    "# Retrieve new data used to build the optimization problem\n",
    "studentsdata = pd.read_csv(janos_data_url + 'college_applications6000.csv', index_col=0)\n",
    "studentsdata = studentsdata[known_features]\n",
    "\n",
    "nstudents = 500\n",
    "\n",
    "# Select randomly nstudents in the data\n",
    "studentsdata = studentsdata.sample(nstudents)\n",
    "\n",
    "m = gp.Model()\n",
    "\n",
    "knownidx = historical_data.columns.get_indexer(known_features)\n",
    "scholarshipidx = historical_data.columns.get_indexer(dec_features)\n",
    "\n",
    "lb = np.zeros((nstudents, len(features)))\n",
    "ub = np.ones((nstudents, len(features))) * gp.GRB.INFINITY\n",
    "lb[:, knownidx] = studentsdata.loc[:, known_features]\n",
    "ub[:, knownidx] = studentsdata.loc[:, known_features]\n",
    "\n",
    "x = m.addMVar(lb.shape, lb=lb, ub=ub, name=\"x\")\n",
    "scholarship = x[:, scholarshipidx][:, 0]\n",
    "scholarship.LB = 0.0\n",
    "scholarship.UB = 2.5\n",
    "y = m.addMVar(nstudents, lb=-gp.GRB.INFINITY, name=\"y\")"
   ]
  },
  {
   "cell_type": "code",
   "execution_count": null,
   "id": "d92ac32d-801b-4964-978e-45f14b3c0262",
   "metadata": {},
   "outputs": [],
   "source": [
    "m.setObjective(y.sum(), gp.GRB.MAXIMIZE)\n",
    "m.addConstr(scholarship.sum() <= 0.2 * nstudents)"
   ]
  },
  {
   "cell_type": "markdown",
   "id": "118f2fd6",
   "metadata": {},
   "source": [
    "### Add the constraint corresponding to the linear regression"
   ]
  },
  {
   "cell_type": "code",
   "execution_count": null,
   "id": "47e0e3d6",
   "metadata": {},
   "outputs": [],
   "source": [
    "pipe2gurobi = PipelineConstr(m, pipe, x, y)"
   ]
  },
  {
   "cell_type": "markdown",
   "id": "042b9d06",
   "metadata": {},
   "source": [
    "### Finally optimize it"
   ]
  },
  {
   "cell_type": "code",
   "execution_count": null,
   "id": "eaa1b1c2-5591-4de9-9553-e681dd999bc5",
   "metadata": {},
   "outputs": [],
   "source": [
    "m.optimize()"
   ]
  },
  {
   "cell_type": "markdown",
   "id": "89ee724c-b0e0-4c7d-8a17-8ce5668293e1",
   "metadata": {},
   "source": [
    "Copyright © 2022 Gurobi Optimization, LLC"
   ]
  }
 ],
 "metadata": {
  "kernelspec": {
   "display_name": "Python 3 (ipykernel)",
   "language": "python",
   "name": "python3"
  },
  "language_info": {
   "codemirror_mode": {
    "name": "ipython",
    "version": 3
   },
   "file_extension": ".py",
   "mimetype": "text/x-python",
   "name": "python",
   "nbconvert_exporter": "python",
   "pygments_lexer": "ipython3",
   "version": "3.9.12"
  },
  "vscode": {
   "interpreter": {
    "hash": "949777d72b0d2535278d3dc13498b2535136f6dfe0678499012e853ee9abcab1"
   }
  }
 },
 "nbformat": 4,
 "nbformat_minor": 5
}
