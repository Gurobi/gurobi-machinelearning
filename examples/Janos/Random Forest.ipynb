{
 "cells": [
  {
   "cell_type": "markdown",
   "id": "6f266b60",
   "metadata": {},
   "source": [
    "# Integrate a random forest in a Gurobi model\n",
    "*Note: The resulting model in this example will be too large for a size-limited license; in order to solve it, please visit https://www.gurobi.com/free-trial for a full license*\n",
    "\n",
    "We take the model from JANOS example:\n",
    "\n",
    "$\n",
    "\\begin{align}\n",
    "&\\max \\sum y_i \\\\\n",
    "&\\text{subject to:}\\\\\n",
    "&\\sum x_i \\le 100,\\\\\n",
    "&y_i = g(x_i, Xfix),\\\\\n",
    "& 0 \\le x \\le 2.5.\n",
    "\\end{align}\n",
    "$\n",
    "\n",
    "Where, $Xknown$ is a vector of fixed features. And $g$ is a random forum computed using scikit-learn that predicts the probabilty that a student will join."
   ]
  },
  {
   "cell_type": "code",
   "execution_count": null,
   "id": "9ce468a1-27be-4bdd-bc78-2204f74bb9ac",
   "metadata": {},
   "outputs": [],
   "source": [
    "import gurobipy as gp\n",
    "import numpy as np\n",
    "import pandas as pd\n",
    "from matplotlib import pyplot as plt\n",
    "from sklearn.ensemble import RandomForestRegressor\n",
    "from sklearn.pipeline import make_pipeline\n",
    "from sklearn.preprocessing import StandardScaler\n",
    "from gurobi_ml import add_predictor_constr\n",
    "\n",
    "# Base URL for retrieving data\n",
    "janos_data_url = 'https://raw.githubusercontent.com/INFORMSJoC/2020.1023/master/data/'"
   ]
  },
  {
   "cell_type": "markdown",
   "id": "ddb72e1c",
   "metadata": {},
   "source": [
    "### Do our Tree regression"
   ]
  },
  {
   "cell_type": "code",
   "execution_count": null,
   "id": "3189db68",
   "metadata": {},
   "outputs": [],
   "source": [
    "# Retrieve historical data used to do the regression\n",
    "historical_data = pd.read_csv(janos_data_url + 'college_student_enroll-s1-1.csv', index_col=0)\n",
    "\n",
    "# Classify our features between the ones that are fixed and the ones\n",
    "# that will be part of the optimization problem\n",
    "known_features = [\"SAT\", \"GPA\"]\n",
    "dec_features = [\"merit\"]\n",
    "features = known_features + dec_features\n",
    "\n",
    "# The target for training\n",
    "target = \"enroll\"\n",
    "\n",
    "historical_data = historical_data[features + [target]]"
   ]
  },
  {
   "cell_type": "code",
   "execution_count": null,
   "id": "37b554b9",
   "metadata": {},
   "outputs": [],
   "source": [
    "# Run our regression\n",
    "\n",
    "X = historical_data.loc[:, features]\n",
    "Y = historical_data.loc[:, \"enroll\"]\n",
    "scaler = StandardScaler()\n",
    "\n",
    "layers = [10] * 2\n",
    "regression = RandomForestRegressor(n_estimators=20, max_depth=5, random_state=10)\n",
    "pipe = make_pipeline(regression)\n",
    "pipe.fit(X=X, y=Y)"
   ]
  },
  {
   "cell_type": "markdown",
   "id": "a7293c95",
   "metadata": {},
   "source": [
    "## Do the optimization model"
   ]
  },
  {
   "cell_type": "code",
   "execution_count": null,
   "id": "de9cfc5e",
   "metadata": {},
   "outputs": [],
   "source": [
    "# Retrieve new data used for the optimization\n",
    "studentsdata = pd.read_csv(janos_data_url + 'college_applications6000.csv', index_col=0)\n",
    "studentsdata = studentsdata[known_features]\n",
    "# Check that features are in identical order\n",
    "\n",
    "assert (studentsdata.columns.get_indexer(known_features) == historical_data.columns.get_indexer(known_features)).all()\n",
    "\n",
    "nstudents = 100\n",
    "\n",
    "# Select randomly nstudents in the data\n",
    "studentsdata = studentsdata.sample(nstudents)"
   ]
  },
  {
   "cell_type": "code",
   "execution_count": null,
   "id": "ffab53b5",
   "metadata": {},
   "outputs": [],
   "source": [
    "# Start with classical part of the model\n",
    "m = gp.Model()\n",
    "\n",
    "knownidx = historical_data.columns.get_indexer(known_features)\n",
    "decidx = historical_data.columns.get_indexer(dec_features)\n",
    "\n",
    "lb = np.zeros((nstudents, len(features)))\n",
    "ub = np.ones((nstudents, len(features))) * 2.5\n",
    "lb[:, knownidx] = studentsdata.loc[:, known_features]\n",
    "ub[:, knownidx] = studentsdata.loc[:, known_features]\n",
    "\n",
    "x = m.addMVar(lb.shape, lb=lb, ub=ub, name=\"x\")\n",
    "y = m.addMVar(nstudents, lb=-gp.GRB.INFINITY, name=\"y\")\n",
    "\n",
    "m.setObjective(y.sum(), gp.GRB.MAXIMIZE)\n",
    "m.addConstr(x[:, decidx].sum() <= 0.2 * nstudents)\n",
    "\n",
    "# create transforms to turn scikit-learn pipeline into Gurobi constraints\n",
    "pipelineconstr = add_predictor_constr(m, pipe, x, y)"
   ]
  },
  {
   "cell_type": "markdown",
   "id": "042b9d06",
   "metadata": {},
   "source": [
    "### Finally optimize it"
   ]
  },
  {
   "cell_type": "code",
   "execution_count": null,
   "id": "7fcbfb7e",
   "metadata": {},
   "outputs": [],
   "source": [
    "m.Params.TimeLimit = 60\n",
    "m.Params.MIPGap = 0.01"
   ]
  },
  {
   "cell_type": "code",
   "execution_count": null,
   "id": "eaa1b1c2-5591-4de9-9553-e681dd999bc5",
   "metadata": {},
   "outputs": [],
   "source": [
    "m.optimize()"
   ]
  },
  {
   "cell_type": "markdown",
   "id": "3208ac31",
   "metadata": {},
   "source": [
    "### Look at the solution"
   ]
  },
  {
   "cell_type": "code",
   "execution_count": null,
   "id": "d95828b1",
   "metadata": {},
   "outputs": [],
   "source": [
    "# This is what we predicted\n",
    "plt.scatter(x.X[:, decidx], y.X)"
   ]
  },
  {
   "cell_type": "code",
   "execution_count": null,
   "id": "0bf73498",
   "metadata": {},
   "outputs": [],
   "source": [
    "# This is the historical data\n",
    "plt.scatter(X.iloc[:, decidx], pipe.predict(X))"
   ]
  },
  {
   "cell_type": "code",
   "execution_count": null,
   "id": "b353ace7",
   "metadata": {},
   "outputs": [],
   "source": [
    "# Proportion of students offered a scholarship\n",
    "print(\n",
    "    \"In historical data {:.4}% students offered a scholarship\".format(\n",
    "        100 * ((X.iloc[:, decidx] > 0).sum()[0] / len(X.iloc[:, decidx]))\n",
    "    )\n",
    ")\n",
    "print(\"In our solution {:.4}% students offered a scholarship\".format(100 * sum(x.X[:, decidx] > 0)[0] / nstudents))"
   ]
  },
  {
   "cell_type": "code",
   "execution_count": null,
   "id": "b122f493",
   "metadata": {},
   "outputs": [],
   "source": [
    "bottom10 = historical_data.sort_values(by=[\"GPA\"])[:2000]\n",
    "\n",
    "top10 = historical_data.sort_values(by=[\"GPA\"])[-2000:]\n",
    "\n",
    "top10.enroll.sum()\n",
    "\n",
    "print(\"In historical data\")\n",
    "print(\n",
    "    \"Among top 10% students: {}% were offered a scholarship and {}% joined\".format(\n",
    "        100 * (top10.merit > 0).sum() / top10.shape[0],\n",
    "        100 * (top10.enroll.sum() / top10.shape[0]),\n",
    "    )\n",
    ")\n",
    "print(\n",
    "    \"Among bottom 10% students: {}% were offered a scholarship and {}% joined\".format(\n",
    "        100 * (bottom10.merit > 0).sum() / bottom10.shape[0],\n",
    "        100 * (bottom10.enroll.sum() / bottom10.shape[0]),\n",
    "    )\n",
    ")\n",
    "\n",
    "Xpredicted = pd.concat(\n",
    "    [\n",
    "        studentsdata,\n",
    "        pd.DataFrame(x.X[:, decidx], columns=[\"merit\"], index=studentsdata.index),\n",
    "        pd.DataFrame(y.X, columns=[\"enroll\"], index=studentsdata.index),\n",
    "    ],\n",
    "    axis=1,\n",
    ")\n",
    "top10 = Xpredicted.sort_values(by=\"GPA\")[-50:]\n",
    "bottom10 = Xpredicted.sort_values(by=\"GPA\")[:50]\n",
    "\n",
    "print(\"In predicted data\")\n",
    "print(\n",
    "    \"Among top 10% students: {:.4}% were offered a scholarship and {:.4}% joined\".format(\n",
    "        100 * (top10.merit > 0).sum() / top10.shape[0],\n",
    "        100 * (top10.enroll.sum() / top10.shape[0]),\n",
    "    )\n",
    ")\n",
    "print(\n",
    "    \"Among bottom 10% students: {:.4}% were offered a scholarship and {:.4}% joined\".format(\n",
    "        100 * (bottom10.merit > 0).sum() / bottom10.shape[0],\n",
    "        100 * (bottom10.enroll.sum() / bottom10.shape[0]),\n",
    "    )\n",
    ")"
   ]
  },
  {
   "cell_type": "markdown",
   "id": "c0f8825d-8e26-4e60-a9d3-dd3301b2b3d3",
   "metadata": {},
   "source": [
    "Copyright © 2022 Gurobi Optimization, LLC"
   ]
  }
 ],
 "metadata": {
  "kernelspec": {
   "display_name": "Python 3 (ipykernel)",
   "language": "python",
   "name": "python3"
  },
  "language_info": {
   "codemirror_mode": {
    "name": "ipython",
    "version": 3
   },
   "file_extension": ".py",
   "mimetype": "text/x-python",
   "name": "python",
   "nbconvert_exporter": "python",
   "pygments_lexer": "ipython3",
   "version": "3.9.12"
  },
  "vscode": {
   "interpreter": {
    "hash": "949777d72b0d2535278d3dc13498b2535136f6dfe0678499012e853ee9abcab1"
   }
  }
 },
 "nbformat": 4,
 "nbformat_minor": 5
}
