{
 "cells": [
  {
   "cell_type": "markdown",
   "id": "7057f8e4",
   "metadata": {},
   "source": [
    "# Integrate a linear regression in a Gurobi model\n",
    "\n",
    "We take the model from Janos example:\n",
    "\n",
    "$\n",
    "\\begin{align}\n",
    "&\\max \\sum y_i \\\\\n",
    "&\\text{subject to:}\\\\\n",
    "&\\sum x_i \\le 100,\\\\\n",
    "&y_i = g(x_i, \\psi),\\\\\n",
    "& 0 \\le x \\le 2.5.\n",
    "\\end{align}\n",
    "$\n",
    "\n",
    "Where, $\\psi$ is a vector of fixed features. And $g$ is an affine function computed using the  linear regression of scikit-learn.\n",
    "\n",
    "Note that differently to Janos, we scale the feature corresponding to $x$ for the linear regression."
   ]
  },
  {
   "cell_type": "code",
   "execution_count": 1,
   "id": "9ce468a1-27be-4bdd-bc78-2204f74bb9ac",
   "metadata": {},
   "outputs": [],
   "source": [
    "import gurobipy as gp\n",
    "import pandas as pd\n",
    "import numpy as np\n",
    "from sklearn.preprocessing import StandardScaler\n",
    "from sklearn.linear_model import LinearRegression"
   ]
  },
  {
   "cell_type": "code",
   "execution_count": 2,
   "id": "974a7a4d",
   "metadata": {},
   "outputs": [],
   "source": [
    "# classify our features between the ones that are fixed and the ones that will be\n",
    "# part of the optimization problem\n",
    "\n",
    "fixed_features = ['SAT', 'GPA']\n",
    "opt_features = ['scholarship']\n",
    "features = fixed_features + opt_features"
   ]
  },
  {
   "cell_type": "markdown",
   "id": "ddb72e1c",
   "metadata": {},
   "source": [
    "### Do our linear regression\n",
    "\n",
    "Note that we scale the features that are fixed and the ones that will be controled\n",
    "by variables in the optimization problem separately.\n",
    "This is to make the formulation simpler afterwards."
   ]
  },
  {
   "cell_type": "code",
   "execution_count": 3,
   "id": "37b554b9",
   "metadata": {},
   "outputs": [
    {
     "data": {
      "text/plain": [
       "LinearRegression()"
      ]
     },
     "execution_count": 3,
     "metadata": {},
     "output_type": "execute_result"
    }
   ],
   "source": [
    "historical_data = pd.read_csv(\n",
    "    'data/college_student_enroll-s1-1.csv', index_col=0)\n",
    "X = historical_data.loc[:, features]\n",
    "Y = historical_data.loc[:, 'enroll']\n",
    "scale_fixfeat = StandardScaler()\n",
    "scale_optfeat = StandardScaler()\n",
    "X.loc[:, fixed_features] = scale_fixfeat.fit_transform(\n",
    "    historical_data.loc[:, fixed_features])\n",
    "X.loc[:, opt_features] = scale_optfeat.fit_transform(\n",
    "    historical_data.loc[:, opt_features])\n",
    "\n",
    "regression = LinearRegression()\n",
    "regression.fit(X=X, y=Y)"
   ]
  },
  {
   "cell_type": "code",
   "execution_count": 4,
   "id": "311925d8",
   "metadata": {},
   "outputs": [],
   "source": [
    "# Get the indices of the fixed features and optimal features\n",
    "fixed_idx = X.columns.get_indexer(fixed_features)\n",
    "opt_idx = X.columns.get_indexer(opt_features)"
   ]
  },
  {
   "cell_type": "markdown",
   "id": "a7293c95",
   "metadata": {},
   "source": [
    "### Now start with the optimization model\n",
    "\n",
    "- Read in our data\n",
    "- add the x and y variables and the regular matrix constraints"
   ]
  },
  {
   "cell_type": "code",
   "execution_count": 5,
   "id": "d92ac32d-801b-4964-978e-45f14b3c0262",
   "metadata": {},
   "outputs": [
    {
     "name": "stdout",
     "output_type": "stream",
     "text": [
      "Using license file /Users/bonami/gurobi.lic\n"
     ]
    },
    {
     "data": {
      "text/plain": [
       "<(1,) matrix constraint>"
      ]
     },
     "execution_count": 5,
     "metadata": {},
     "output_type": "execute_result"
    }
   ],
   "source": [
    "studentsdata = pd.read_csv('data/admissions500.csv', index_col=0)\n",
    "assert (studentsdata.columns.get_indexer(fixed_features) == fixed_idx).all()\n",
    "\n",
    "nstudents = studentsdata.shape[0]\n",
    "\n",
    "m = gp.Model()\n",
    "\n",
    "x = m.addMVar(nstudents, lb=0, ub=2.5, name=[\n",
    "              'x[{}]'.format(n) for n in studentsdata.index])\n",
    "y = m.addMVar(nstudents, lb=-1e50,\n",
    "              name=['y[{}]'.format(n) for n in studentsdata.index])\n",
    "\n",
    "m.setObjective(y.sum(), gp.GRB.MAXIMIZE)\n",
    "m.addConstr(x.sum() <= 100)"
   ]
  },
  {
   "cell_type": "markdown",
   "id": "118f2fd6",
   "metadata": {},
   "source": [
    "### Add the constraint corresponding to the linear regression\n",
    "\n",
    "- retrieve coefficients of the linear regression\n",
    "- Add the scaled x variables\n",
    "- Scale the remainder of the feature\n",
    "- Add the constraint"
   ]
  },
  {
   "cell_type": "code",
   "execution_count": 6,
   "id": "f01d0981",
   "metadata": {},
   "outputs": [
    {
     "data": {
      "text/plain": [
       "<(500,) matrix constraint *awaiting model update*>"
      ]
     },
     "execution_count": 6,
     "metadata": {},
     "output_type": "execute_result"
    }
   ],
   "source": [
    "# coefficients of the regression\n",
    "w = regression.coef_\n",
    "w0 = regression.intercept_\n",
    "\n",
    "# Add scaled variables corresponding to x\n",
    "bounds = scale_optfeat.transform(np.array([[0], [2.5]]))[:, -1]\n",
    "xscale = m.addMVar(nstudents, lb=bounds[0], ub=bounds[1], name=[\n",
    "                   'x_scale[{}]'.format(n) for n in studentsdata.index])\n",
    "m.addConstr(x - xscale*scale_optfeat.scale_ == scale_optfeat.mean_)\n",
    "\n",
    "# Scale remainder of features\n",
    "A = scale_fixfeat.transform(studentsdata.loc[:, fixed_features].to_numpy())\n",
    "\n",
    "# Constraints defining y in terms of the linear regression\n",
    "m.addConstr(y == A@w[fixed_idx] + w[opt_idx]*xscale + w0)"
   ]
  },
  {
   "cell_type": "markdown",
   "id": "042b9d06",
   "metadata": {},
   "source": [
    "### Finally optimize it"
   ]
  },
  {
   "cell_type": "code",
   "execution_count": 7,
   "id": "eaa1b1c2-5591-4de9-9553-e681dd999bc5",
   "metadata": {},
   "outputs": [
    {
     "name": "stdout",
     "output_type": "stream",
     "text": [
      "Gurobi Optimizer version 9.1.2 build v9.1.2rc0 (mac64)\n",
      "Thread count: 4 physical cores, 8 logical processors, using up to 8 threads\n",
      "Optimize a model with 1001 rows, 1500 columns and 2500 nonzeros\n",
      "Model fingerprint: 0x5c187418\n",
      "Coefficient statistics:\n",
      "  Matrix range     [1e-01, 1e+00]\n",
      "  Objective range  [1e+00, 1e+00]\n",
      "  Bounds range     [1e+00, 2e+00]\n",
      "  RHS range        [1e-03, 1e+02]\n",
      "Presolve removed 1001 rows and 1500 columns\n",
      "Presolve time: 0.01s\n",
      "Presolve: All rows and columns removed\n",
      "Iteration    Objective       Primal Inf.    Dual Inf.      Time\n",
      "       0    2.0494642e+02   0.000000e+00   0.000000e+00      0s\n",
      "\n",
      "Solved in 0 iterations and 0.01 seconds\n",
      "Optimal objective  2.049464200e+02\n"
     ]
    }
   ],
   "source": [
    "m.optimize()"
   ]
  },
  {
   "cell_type": "code",
   "execution_count": null,
   "id": "0252afb0-8095-4e52-8919-2ac31426fafe",
   "metadata": {},
   "outputs": [],
   "source": []
  },
  {
   "cell_type": "markdown",
   "id": "7bb4618a-af18-47d0-b869-4e31aec4f3fd",
   "metadata": {},
   "source": [
    "Copyright © 2020 Gurobi Optimization, LLC"
   ]
  }
 ],
 "metadata": {
  "kernelspec": {
   "display_name": "Python 3 (ipykernel)",
   "language": "python",
   "name": "python3"
  },
  "language_info": {
   "codemirror_mode": {
    "name": "ipython",
    "version": 3
   },
   "file_extension": ".py",
   "mimetype": "text/x-python",
   "name": "python",
   "nbconvert_exporter": "python",
   "pygments_lexer": "ipython3",
   "version": "3.9.10"
  }
 },
 "nbformat": 4,
 "nbformat_minor": 5
}
