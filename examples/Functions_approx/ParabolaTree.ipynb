{
 "cells": [
  {
   "cell_type": "markdown",
   "id": "836052a3",
   "metadata": {},
   "source": [
    "# ParabolaTree\n",
    "*Note: The resulting model in this example will be too large for a size-limited license; in order to solve it, please visit https://www.gurobi.com/free-trial for a full license*\n",
    "\n",
    "Extra required packages:\n",
    "- matplotlib"
   ]
  },
  {
   "cell_type": "code",
   "execution_count": null,
   "id": "9ce468a1-27be-4bdd-bc78-2204f74bb9ac",
   "metadata": {},
   "outputs": [],
   "source": [
    "import gurobipy as gp\n",
    "import numpy as np\n",
    "from gurobipy import GRB\n",
    "from matplotlib import pyplot as plt\n",
    "from sklearn import model_selection\n",
    "from sklearn.tree import DecisionTreeRegressor\n",
    "\n",
    "from gurobi_ml.sklearn import DecisionTreeRegressorConstr"
   ]
  },
  {
   "cell_type": "code",
   "execution_count": null,
   "id": "75ae3632",
   "metadata": {},
   "outputs": [],
   "source": [
    "x = np.arange(-1, 1, 0.005)\n",
    "\n",
    "z = (x) ** 2"
   ]
  },
  {
   "cell_type": "code",
   "execution_count": null,
   "id": "cafa0ba6",
   "metadata": {},
   "outputs": [],
   "source": [
    "plt.plot(x, z)\n",
    "\n",
    "plt.show()"
   ]
  },
  {
   "cell_type": "code",
   "execution_count": null,
   "id": "3825632f",
   "metadata": {},
   "outputs": [],
   "source": [
    "X = np.concatenate([x.ravel().reshape(-1, 1)], axis=1)\n",
    "Y = z.ravel()"
   ]
  },
  {
   "cell_type": "code",
   "execution_count": null,
   "id": "05a0af3b",
   "metadata": {},
   "outputs": [],
   "source": [
    "X_train, X_test, y_train, y_test = model_selection.train_test_split(X, Y)"
   ]
  },
  {
   "cell_type": "code",
   "execution_count": null,
   "id": "37b554b9",
   "metadata": {},
   "outputs": [],
   "source": [
    "# Run our regression\n",
    "regression = DecisionTreeRegressor(max_depth=10)\n",
    "regression.fit(X=X_train, y=y_train)"
   ]
  },
  {
   "cell_type": "code",
   "execution_count": null,
   "id": "c883d0b8",
   "metadata": {},
   "outputs": [],
   "source": [
    "plt.plot(X, regression.predict(X))\n",
    "\n",
    "plt.show()"
   ]
  },
  {
   "cell_type": "code",
   "execution_count": null,
   "id": "b9bd6e3b-7819-43a2-ab84-6be09ac77d5f",
   "metadata": {},
   "outputs": [],
   "source": [
    "node = 0\n",
    "tree = regression.tree_\n",
    "x = X[200, :]\n",
    "while tree.children_left[node] > 0:\n",
    "    if x[tree.feature[node]] <= tree.threshold[node]:\n",
    "        node = tree.children_left[node]\n",
    "    else:\n",
    "        node = tree.children_right[node]"
   ]
  },
  {
   "cell_type": "markdown",
   "id": "a7293c95",
   "metadata": {},
   "source": [
    "### Do the optimization model"
   ]
  },
  {
   "cell_type": "code",
   "execution_count": null,
   "id": "ccb78e0c",
   "metadata": {},
   "outputs": [],
   "source": [
    "npoints = 10\n",
    "optfeat = [0]"
   ]
  },
  {
   "cell_type": "code",
   "execution_count": null,
   "id": "e32cf79c-7892-4b7e-acd3-c0b3f6550b87",
   "metadata": {},
   "outputs": [],
   "source": [
    "# Start with classical part of the model\n",
    "m = gp.Model()\n",
    "\n",
    "x = m.addMVar((npoints, len(optfeat)), lb=-1, ub=1, name=\"x\")\n",
    "y = m.addMVar((npoints, 1), lb=-GRB.INFINITY, name=\"y\")\n",
    "\n",
    "m.setObjective(y.sum(), gp.GRB.MINIMIZE)"
   ]
  },
  {
   "cell_type": "code",
   "execution_count": null,
   "id": "3e16769e-5ec6-42cb-909f-5a2f38b0481d",
   "metadata": {},
   "outputs": [],
   "source": [
    "dt2gurobi = DecisionTreeRegressorConstr(m, regression, x, y)"
   ]
  },
  {
   "cell_type": "markdown",
   "id": "042b9d06",
   "metadata": {},
   "source": [
    "### Finally optimize it"
   ]
  },
  {
   "cell_type": "code",
   "execution_count": null,
   "id": "7fcbfb7e",
   "metadata": {},
   "outputs": [],
   "source": [
    "m.Params.TimeLimit = 10\n",
    "m.Params.MIPGap = 0.01"
   ]
  },
  {
   "cell_type": "code",
   "execution_count": null,
   "id": "eaa1b1c2-5591-4de9-9553-e681dd999bc5",
   "metadata": {},
   "outputs": [],
   "source": [
    "m.optimize()"
   ]
  },
  {
   "cell_type": "code",
   "execution_count": null,
   "id": "2f5c906e",
   "metadata": {},
   "outputs": [],
   "source": [
    "print(f\"Maximal error in predicted values in solution {np.max(np.abs(dt2gurobi.get_error()))}\")"
   ]
  },
  {
   "cell_type": "markdown",
   "id": "3208ac31",
   "metadata": {},
   "source": [
    "### Look at the solution"
   ]
  },
  {
   "cell_type": "code",
   "execution_count": null,
   "id": "956e69c8",
   "metadata": {},
   "outputs": [],
   "source": [
    "x.X"
   ]
  },
  {
   "cell_type": "code",
   "execution_count": null,
   "id": "e9376458",
   "metadata": {},
   "outputs": [],
   "source": [
    "y.X"
   ]
  },
  {
   "cell_type": "code",
   "execution_count": null,
   "id": "7fa1c59a",
   "metadata": {},
   "outputs": [],
   "source": [
    "regression.predict(x.X)"
   ]
  },
  {
   "cell_type": "markdown",
   "id": "5e1b8672-8de8-4895-9e6d-eb89ffe66afa",
   "metadata": {},
   "source": [
    "Copyright © 2022 Gurobi Optimization, LLC"
   ]
  }
 ],
 "metadata": {
  "kernelspec": {
   "display_name": "Python 3 (ipykernel)",
   "language": "python",
   "name": "python3"
  },
  "language_info": {
   "codemirror_mode": {
    "name": "ipython",
    "version": 3
   },
   "file_extension": ".py",
   "mimetype": "text/x-python",
   "name": "python",
   "nbconvert_exporter": "python",
   "pygments_lexer": "ipython3",
   "version": "3.9.12"
  },
  "vscode": {
   "interpreter": {
    "hash": "949777d72b0d2535278d3dc13498b2535136f6dfe0678499012e853ee9abcab1"
   }
  }
 },
 "nbformat": 4,
 "nbformat_minor": 5
}
