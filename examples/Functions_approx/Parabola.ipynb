{
 "cells": [
  {
   "cell_type": "markdown",
   "id": "b03547f0",
   "metadata": {},
   "source": [
    "# ParabolaTree\n",
    "Extra required packages:\n",
    "- matplotlib"
   ]
  },
  {
   "cell_type": "code",
   "execution_count": null,
   "id": "9ce468a1-27be-4bdd-bc78-2204f74bb9ac",
   "metadata": {},
   "outputs": [],
   "source": [
    "import gurobipy as gp\n",
    "import numpy as np\n",
    "from gurobipy import GRB\n",
    "from matplotlib import pyplot as plt\n",
    "from sklearn import model_selection\n",
    "from sklearn.neural_network import MLPRegressor\n",
    "from sklearn.pipeline import make_pipeline\n",
    "\n",
    "from gurobi_ml import add_predictor_constr"
   ]
  },
  {
   "cell_type": "code",
   "execution_count": null,
   "id": "75ae3632",
   "metadata": {},
   "outputs": [],
   "source": [
    "x = np.arange(-1, 1, 0.005)\n",
    "\n",
    "z = (x) ** 2"
   ]
  },
  {
   "cell_type": "code",
   "execution_count": null,
   "id": "cafa0ba6",
   "metadata": {},
   "outputs": [],
   "source": [
    "plt.plot(x, z)\n",
    "\n",
    "plt.show()"
   ]
  },
  {
   "cell_type": "code",
   "execution_count": null,
   "id": "3825632f",
   "metadata": {},
   "outputs": [],
   "source": [
    "X = np.concatenate([x.ravel().reshape(-1, 1)], axis=1)\n",
    "Y = z.ravel()"
   ]
  },
  {
   "cell_type": "code",
   "execution_count": null,
   "id": "05a0af3b",
   "metadata": {},
   "outputs": [],
   "source": [
    "X_train, X_test, y_train, y_test = model_selection.train_test_split(X, Y)"
   ]
  },
  {
   "cell_type": "code",
   "execution_count": null,
   "id": "37b554b9",
   "metadata": {},
   "outputs": [],
   "source": [
    "# Run our regression\n",
    "layers = [56, 56]\n",
    "regression = MLPRegressor(hidden_layer_sizes=layers, activation=\"relu\")\n",
    "regression = make_pipeline(regression)\n",
    "regression.fit(X=X_train, y=y_train)"
   ]
  },
  {
   "cell_type": "code",
   "execution_count": null,
   "id": "c883d0b8",
   "metadata": {},
   "outputs": [],
   "source": [
    "plt.plot(X, regression.predict(X))\n",
    "\n",
    "plt.show()"
   ]
  },
  {
   "cell_type": "markdown",
   "id": "a7293c95",
   "metadata": {},
   "source": [
    "### Do the optimization model"
   ]
  },
  {
   "cell_type": "code",
   "execution_count": null,
   "id": "ccb78e0c",
   "metadata": {},
   "outputs": [],
   "source": [
    "npoints = 1\n",
    "optfeat = [0]"
   ]
  },
  {
   "cell_type": "code",
   "execution_count": null,
   "id": "ffab53b5",
   "metadata": {},
   "outputs": [],
   "source": [
    "# Start with classical part of the model\n",
    "m = gp.Model()\n",
    "\n",
    "x = m.addMVar((npoints, len(optfeat)), lb=-1, ub=1, name=\"x\")\n",
    "y = m.addMVar((npoints, 1), lb=-GRB.INFINITY, name=\"y\")\n",
    "\n",
    "m.setObjective(y.sum(), gp.GRB.MINIMIZE)\n",
    "\n",
    "# Add constraint to predict value of y using kwnown and to compute features\n",
    "pconstr = add_predictor_constr(m, regression, x, y)"
   ]
  },
  {
   "cell_type": "markdown",
   "id": "042b9d06",
   "metadata": {},
   "source": [
    "### Finally optimize it"
   ]
  },
  {
   "cell_type": "code",
   "execution_count": null,
   "id": "7fcbfb7e",
   "metadata": {},
   "outputs": [],
   "source": [
    "m.Params.TimeLimit = 10\n",
    "m.Params.MIPGap = 0.01"
   ]
  },
  {
   "cell_type": "code",
   "execution_count": null,
   "id": "eaa1b1c2-5591-4de9-9553-e681dd999bc5",
   "metadata": {},
   "outputs": [],
   "source": [
    "m.optimize()"
   ]
  },
  {
   "cell_type": "code",
   "execution_count": null,
   "id": "3c410826",
   "metadata": {},
   "outputs": [],
   "source": [
    "print(f\"Maximal error in predicted values in solution {np.max(np.abs(pconstr.get_error()))}\")"
   ]
  },
  {
   "cell_type": "markdown",
   "id": "3208ac31",
   "metadata": {},
   "source": [
    "### Look at the solution"
   ]
  },
  {
   "cell_type": "code",
   "execution_count": null,
   "id": "f913aade",
   "metadata": {},
   "outputs": [],
   "source": [
    "x.X"
   ]
  },
  {
   "cell_type": "markdown",
   "id": "5e1b8672-8de8-4895-9e6d-eb89ffe66afa",
   "metadata": {},
   "source": [
    "Copyright © 2022 Gurobi Optimization, LLC"
   ]
  }
 ],
 "metadata": {
  "kernelspec": {
   "display_name": "Python 3 (ipykernel)",
   "language": "python",
   "name": "python3"
  },
  "language_info": {
   "codemirror_mode": {
    "name": "ipython",
    "version": 3
   },
   "file_extension": ".py",
   "mimetype": "text/x-python",
   "name": "python",
   "nbconvert_exporter": "python",
   "pygments_lexer": "ipython3",
   "version": "3.9.12"
  },
  "vscode": {
   "interpreter": {
    "hash": "949777d72b0d2535278d3dc13498b2535136f6dfe0678499012e853ee9abcab1"
   }
  }
 },
 "nbformat": 4,
 "nbformat_minor": 5
}
