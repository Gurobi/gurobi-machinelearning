{
 "cells": [
  {
   "cell_type": "markdown",
   "id": "e5b9447f",
   "metadata": {},
   "source": [
    "### Goldstein-price Function\n",
    "\n",
    "From https://www.sfu.ca/~ssurjano/goldpr.html\n",
    "\n",
    "The global minima is 3 in (0, -1).\n",
    "\n",
    "Extra required packages:\n",
    "- matplotlib"
   ]
  },
  {
   "cell_type": "code",
   "execution_count": null,
   "id": "9ce468a1-27be-4bdd-bc78-2204f74bb9ac",
   "metadata": {},
   "outputs": [],
   "source": [
    "import gurobipy as gp\n",
    "import numpy as np\n",
    "from gurobipy import GRB\n",
    "from matplotlib import cm\n",
    "from matplotlib import pyplot as plt\n",
    "from sklearn import metrics\n",
    "from sklearn.neural_network import MLPRegressor\n",
    "from sklearn.pipeline import make_pipeline\n",
    "from gurobi_ml.sklearn import PipelineConstr"
   ]
  },
  {
   "cell_type": "code",
   "execution_count": null,
   "id": "e4261226",
   "metadata": {},
   "outputs": [],
   "source": [
    "def GoldsteinPrice(x1, x2):\n",
    "    fact1a = (x1 + x2 + 1) ** 2\n",
    "    fact1b = 19 - 14 * x1 + 3 * x1**2 - 14 * x2 + 6 * x1 * x2 + 3 * x2**2\n",
    "    fact1 = 1 + fact1a * fact1b\n",
    "\n",
    "    fact2a = (2 * x1 - 3 * x2) ** 2\n",
    "    fact2b = 18 - 32 * x1 + 12 * x1**2 + 48 * x2\n",
    "    fact2b += -36 * x1 * x2 + 27 * x2**2\n",
    "    fact2 = 30 + fact2a * fact2b\n",
    "    return fact1 * fact2"
   ]
  },
  {
   "cell_type": "code",
   "execution_count": null,
   "id": "75ae3632",
   "metadata": {},
   "outputs": [],
   "source": [
    "x = np.arange(-2, 2, 0.05)\n",
    "y = np.arange(-2, 2, 0.05)\n",
    "x1, x2 = np.meshgrid(x, y)\n",
    "z = GoldsteinPrice(x1, x2)"
   ]
  },
  {
   "cell_type": "code",
   "execution_count": null,
   "id": "0d93bcb5",
   "metadata": {},
   "outputs": [],
   "source": [
    "fig, ax = plt.subplots(subplot_kw={\"projection\": \"3d\"})\n",
    "# Plot the surface.\n",
    "surf = ax.plot_surface(x1, x2, z, cmap=cm.coolwarm, linewidth=0.01, antialiased=False)\n",
    "# Add a color bar which maps values to colors.\n",
    "fig.colorbar(surf, shrink=0.5, aspect=5)\n",
    "\n",
    "plt.show()"
   ]
  },
  {
   "cell_type": "code",
   "execution_count": null,
   "id": "3825632f",
   "metadata": {},
   "outputs": [],
   "source": [
    "X = np.concatenate([x1.ravel().reshape(-1, 1), x2.ravel().reshape(-1, 1)], axis=1)\n",
    "y = z.ravel()"
   ]
  },
  {
   "cell_type": "code",
   "execution_count": null,
   "id": "37b554b9",
   "metadata": {},
   "outputs": [],
   "source": [
    "# Run our regression\n",
    "# Note that a ConvergenceWarning is not unexpected\n",
    "layers = [112, 112, 112]\n",
    "regression = MLPRegressor(hidden_layer_sizes=layers, activation=\"relu\", random_state=1, max_iter=500)\n",
    "pipe = make_pipeline(regression)\n",
    "pipe.fit(X=X, y=y)"
   ]
  },
  {
   "cell_type": "code",
   "execution_count": null,
   "id": "71642c15",
   "metadata": {},
   "outputs": [],
   "source": [
    "X_test = np.random.random((100, 2)) * 4 - 2"
   ]
  },
  {
   "cell_type": "code",
   "execution_count": null,
   "id": "2dd2d500",
   "metadata": {},
   "outputs": [],
   "source": [
    "metrics.r2_score(GoldsteinPrice(X_test[:, 0], X_test[:, 1]), pipe.predict(X_test))"
   ]
  },
  {
   "cell_type": "code",
   "execution_count": null,
   "id": "0807c1bf",
   "metadata": {},
   "outputs": [],
   "source": [
    "metrics.max_error(GoldsteinPrice(X_test[:, 0], X_test[:, 1]), pipe.predict(X_test))"
   ]
  },
  {
   "cell_type": "code",
   "execution_count": null,
   "id": "b0bcdb96",
   "metadata": {},
   "outputs": [],
   "source": [
    "fig, ax = plt.subplots(subplot_kw={\"projection\": \"3d\"})\n",
    "# Plot the surface.\n",
    "surf = ax.plot_surface(\n",
    "    x1,\n",
    "    x2,\n",
    "    pipe.predict(X).reshape(x1.shape),\n",
    "    cmap=cm.coolwarm,\n",
    "    linewidth=0.01,\n",
    "    antialiased=False,\n",
    ")\n",
    "# Add a color bar which maps values to colors.\n",
    "fig.colorbar(surf, shrink=0.5, aspect=5)\n",
    "\n",
    "plt.show()"
   ]
  },
  {
   "cell_type": "markdown",
   "id": "a7293c95",
   "metadata": {},
   "source": [
    "### Do the optimization model"
   ]
  },
  {
   "cell_type": "code",
   "execution_count": null,
   "id": "ccb78e0c",
   "metadata": {},
   "outputs": [],
   "source": [
    "npoints = 1\n",
    "optfeat = [0, 1]"
   ]
  },
  {
   "cell_type": "code",
   "execution_count": null,
   "id": "ffab53b5",
   "metadata": {},
   "outputs": [],
   "source": [
    "# Start with classical part of the model\n",
    "m = gp.Model()\n",
    "\n",
    "x = m.addMVar((npoints, len(optfeat)), lb=-2, ub=2, name=\"x\")\n",
    "y = m.addMVar((npoints, 1), lb=-GRB.INFINITY, name=\"y\")\n",
    "\n",
    "m.setObjective(y.sum(), gp.GRB.MINIMIZE)\n",
    "\n",
    "# Add constraint to predict value of y using x\n",
    "PipelineConstr(m, pipe, x, y)"
   ]
  },
  {
   "cell_type": "markdown",
   "id": "042b9d06",
   "metadata": {},
   "source": [
    "### Finally optimize it"
   ]
  },
  {
   "cell_type": "code",
   "execution_count": null,
   "id": "7fcbfb7e",
   "metadata": {},
   "outputs": [],
   "source": [
    "m.Params.TimeLimit = 30\n",
    "m.Params.MIPGap = 0.01"
   ]
  },
  {
   "cell_type": "code",
   "execution_count": null,
   "id": "eaa1b1c2-5591-4de9-9553-e681dd999bc5",
   "metadata": {},
   "outputs": [],
   "source": [
    "m.optimize()"
   ]
  },
  {
   "cell_type": "markdown",
   "id": "3208ac31",
   "metadata": {},
   "source": [
    "### Look at the solution"
   ]
  },
  {
   "cell_type": "code",
   "execution_count": null,
   "id": "44808a02",
   "metadata": {},
   "outputs": [],
   "source": [
    "x.X"
   ]
  },
  {
   "cell_type": "code",
   "execution_count": null,
   "id": "e9d8ff12-6eb3-4c6d-9f63-73e02e9b8319",
   "metadata": {},
   "outputs": [],
   "source": [
    "GoldsteinPrice(x.X[0, 0], x.X[0, 1])"
   ]
  },
  {
   "cell_type": "code",
   "execution_count": null,
   "id": "e9376458",
   "metadata": {},
   "outputs": [],
   "source": [
    "y.X"
   ]
  },
  {
   "cell_type": "markdown",
   "id": "ef17c39e",
   "metadata": {},
   "source": [
    "### Optimize it as a regular Gurobi Model\n",
    "We can also create this model without involving sklearn. Note that this will take significantly longer"
   ]
  },
  {
   "cell_type": "code",
   "execution_count": null,
   "id": "983de3d1",
   "metadata": {},
   "outputs": [],
   "source": [
    "m2 = gp.Model()\n",
    "x1 = m2.addVar(lb=-2, ub=2)\n",
    "x2 = m2.addVar(lb=-2, ub=2)\n",
    "fact1a = m2.addVar(lb=-GRB.INFINITY)\n",
    "fact1b = m2.addVar(lb=-GRB.INFINITY)\n",
    "fact1 = m2.addVar(lb=-GRB.INFINITY)\n",
    "fact2a = m2.addVar(lb=-GRB.INFINITY)\n",
    "fact2b = m2.addVar(lb=-GRB.INFINITY)\n",
    "fact2 = m2.addVar(lb=-GRB.INFINITY)"
   ]
  },
  {
   "cell_type": "code",
   "execution_count": null,
   "id": "77e8d1d5",
   "metadata": {},
   "outputs": [],
   "source": [
    "m2.setObjective(fact1 * fact2)\n",
    "\n",
    "m2.addConstr(fact1a == (x1 + x2 + 1) ** 2)\n",
    "\n",
    "m2.addConstr(fact1b == 19 - 14 * x1 + 3 * x1**2 - 14 * x2 + 6 * x1 * x2 + 3 * x2**2)\n",
    "m2.addConstr(fact1 == 1 + fact1a * fact1b)\n",
    "\n",
    "m2.addConstr(fact2a == (2 * x1 - 3 * x2) ** 2)\n",
    "m2.addConstr(fact2b == 18 - 32 * x1 + 12 * x1**2 + 48 * x2 - 36 * x1 * x2 + 27 * x2**2)\n",
    "m2.addConstr(fact2 == 30 + fact2a * fact2b)"
   ]
  },
  {
   "cell_type": "code",
   "execution_count": null,
   "id": "cbaaa7e5",
   "metadata": {},
   "outputs": [],
   "source": [
    "m2.Params.NonConvex = 2\n",
    "m2.Params.TimeLimit = 30\n",
    "m2.optimize()"
   ]
  },
  {
   "cell_type": "code",
   "execution_count": null,
   "id": "692756b1",
   "metadata": {},
   "outputs": [],
   "source": [
    "x1.X"
   ]
  },
  {
   "cell_type": "code",
   "execution_count": null,
   "id": "b5134f18",
   "metadata": {},
   "outputs": [],
   "source": [
    "x2.X"
   ]
  },
  {
   "cell_type": "markdown",
   "id": "7a50ca6b-c3b0-4abe-ba94-7751b93a0c1c",
   "metadata": {},
   "source": [
    "Copyright © 2022 Gurobi Optimization, LLC"
   ]
  }
 ],
 "metadata": {
  "interpreter": {
   "hash": "949777d72b0d2535278d3dc13498b2535136f6dfe0678499012e853ee9abcab1"
  },
  "kernelspec": {
   "display_name": "Python 3 (ipykernel)",
   "language": "python",
   "name": "python3"
  },
  "language_info": {
   "codemirror_mode": {
    "name": "ipython",
    "version": 3
   },
   "file_extension": ".py",
   "mimetype": "text/x-python",
   "name": "python",
   "nbconvert_exporter": "python",
   "pygments_lexer": "ipython3",
   "version": "3.9.12"
  }
 },
 "nbformat": 4,
 "nbformat_minor": 5
}
