{
 "cells": [
  {
   "cell_type": "code",
   "execution_count": null,
   "id": "9ce468a1-27be-4bdd-bc78-2204f74bb9ac",
   "metadata": {},
   "outputs": [],
   "source": [
    "import sys\n",
    "\n",
    "import gurobipy as gp\n",
    "import torch\n",
    "from gurobipy import GRB\n",
    "from matplotlib import pyplot as plt"
   ]
  },
  {
   "cell_type": "code",
   "execution_count": null,
   "id": "2c6bb64d",
   "metadata": {},
   "outputs": [],
   "source": [
    "# import my functions\n",
    "%load_ext autoreload\n",
    "%autoreload 2\n",
    "sys.path.append(\"../../src/\")\n",
    "from ml2gurobi.pytorch import SequentialPredictor"
   ]
  },
  {
   "cell_type": "code",
   "execution_count": null,
   "id": "75ae3632",
   "metadata": {},
   "outputs": [],
   "source": [
    "x = torch.unsqueeze(torch.arange(-1, 1, 0.005), 1)\n",
    "\n",
    "z = (x) ** 2"
   ]
  },
  {
   "cell_type": "code",
   "execution_count": null,
   "id": "cafa0ba6",
   "metadata": {},
   "outputs": [],
   "source": [
    "plt.plot(x.data.numpy(), z.data.numpy())\n",
    "\n",
    "plt.show()"
   ]
  },
  {
   "cell_type": "code",
   "execution_count": null,
   "id": "37b554b9",
   "metadata": {},
   "outputs": [],
   "source": [
    "hidden_size = 28\n",
    "# Define a simple sequential network\n",
    "model = torch.nn.Sequential(\n",
    "    torch.nn.Linear(1, 15),\n",
    "    torch.nn.ReLU(),\n",
    "    torch.nn.Linear(15, 15),\n",
    "    torch.nn.ReLU(),\n",
    "    torch.nn.Linear(15, 1),\n",
    ")"
   ]
  },
  {
   "cell_type": "code",
   "execution_count": null,
   "id": "a3e45a58-0880-4ec0-9000-12911112fc12",
   "metadata": {},
   "outputs": [],
   "source": [
    "# Construct our loss function and an Optimizer.\n",
    "criterion = torch.nn.MSELoss()\n",
    "\n",
    "optimizer = torch.optim.SGD(model.parameters(), lr=0.2)\n",
    "\n",
    "for t in range(10000):\n",
    "    # Zero gradients\n",
    "    optimizer.zero_grad()\n",
    "    # Forward pass: Compute predicted y by passing x to the model\n",
    "    y_pred = model(x.reshape(-1, 1))\n",
    "\n",
    "    # Compute and print loss\n",
    "    loss = criterion(y_pred, z)\n",
    "    if t % 500 == 0:\n",
    "        print(f\"iteration {t} loss: {loss.item()}\")\n",
    "\n",
    "    if loss.item() < 1e-4:\n",
    "        break\n",
    "    # Backward pass in network to compute gradients\n",
    "    loss.backward()\n",
    "    # Update weights\n",
    "    optimizer.step()\n",
    "else:\n",
    "    print(f\"iteration {t} loss: {loss.item()}\")"
   ]
  },
  {
   "cell_type": "code",
   "execution_count": null,
   "id": "c883d0b8",
   "metadata": {},
   "outputs": [],
   "source": [
    "y = model(x.reshape(-1, 1))\n",
    "plt.plot(x.data.numpy(), y.data.numpy())\n",
    "\n",
    "plt.show()"
   ]
  },
  {
   "cell_type": "code",
   "execution_count": null,
   "id": "8fd1216c",
   "metadata": {},
   "outputs": [],
   "source": [
    "y.min()"
   ]
  },
  {
   "cell_type": "markdown",
   "id": "a7293c95",
   "metadata": {},
   "source": [
    "### Do the optimization model"
   ]
  },
  {
   "cell_type": "code",
   "execution_count": null,
   "id": "ccb78e0c",
   "metadata": {},
   "outputs": [],
   "source": [
    "npoints = 1"
   ]
  },
  {
   "cell_type": "code",
   "execution_count": null,
   "id": "ffab53b5",
   "metadata": {},
   "outputs": [],
   "source": [
    "m = gp.Model()\n",
    "\n",
    "x = m.addMVar((npoints, 1), lb=-1, ub=1, name=\"x\")\n",
    "y = m.addMVar((npoints, 1), lb=-GRB.INFINITY, name=\"y\")\n",
    "\n",
    "m.setObjective(y.sum(), gp.GRB.MINIMIZE)"
   ]
  },
  {
   "cell_type": "code",
   "execution_count": null,
   "id": "8e9ba252",
   "metadata": {},
   "outputs": [],
   "source": [
    "seq2gurobi = SequentialPredictor(m, model, x, y)"
   ]
  },
  {
   "cell_type": "markdown",
   "id": "042b9d06",
   "metadata": {},
   "source": [
    "### Finally optimize it"
   ]
  },
  {
   "cell_type": "code",
   "execution_count": null,
   "id": "7fcbfb7e",
   "metadata": {},
   "outputs": [],
   "source": [
    "m.Params.TimeLimit = 200\n",
    "m.Params.MIPGap = 0.01"
   ]
  },
  {
   "cell_type": "code",
   "execution_count": null,
   "id": "df18e3c6",
   "metadata": {},
   "outputs": [],
   "source": []
  },
  {
   "cell_type": "code",
   "execution_count": null,
   "id": "eaa1b1c2-5591-4de9-9553-e681dd999bc5",
   "metadata": {},
   "outputs": [],
   "source": [
    "m.optimize()"
   ]
  },
  {
   "cell_type": "markdown",
   "id": "3208ac31",
   "metadata": {},
   "source": [
    "### Look at the solution"
   ]
  },
  {
   "cell_type": "code",
   "execution_count": null,
   "id": "956e69c8",
   "metadata": {},
   "outputs": [],
   "source": [
    "x.X"
   ]
  },
  {
   "cell_type": "code",
   "execution_count": null,
   "id": "e9376458",
   "metadata": {},
   "outputs": [],
   "source": [
    "y.X"
   ]
  },
  {
   "cell_type": "code",
   "execution_count": null,
   "id": "7fa1c59a",
   "metadata": {},
   "outputs": [],
   "source": []
  },
  {
   "cell_type": "markdown",
   "id": "5e1b8672-8de8-4895-9e6d-eb89ffe66afa",
   "metadata": {},
   "source": [
    "Copyright © 2020 Gurobi Optimization, LLC"
   ]
  }
 ],
 "metadata": {
  "interpreter": {
   "hash": "3cf3099f0bba5fe511140d8ef714d70e8518d2fd25c78432792b15e61fc6ddb1"
  },
  "kernelspec": {
   "display_name": "Python 3 (ipykernel)",
   "language": "python",
   "name": "python3"
  },
  "language_info": {
   "codemirror_mode": {
    "name": "ipython",
    "version": 3
   },
   "file_extension": ".py",
   "mimetype": "text/x-python",
   "name": "python",
   "nbconvert_exporter": "python",
   "pygments_lexer": "ipython3",
   "version": "3.9.12"
  }
 },
 "nbformat": 4,
 "nbformat_minor": 5
}
