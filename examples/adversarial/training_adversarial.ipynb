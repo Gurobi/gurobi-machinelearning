{
 "cells": [
  {
   "cell_type": "code",
   "execution_count": 1,
   "metadata": {},
   "outputs": [],
   "source": [
    "import numpy as np\n",
    "from sklearn.datasets import fetch_openml\n",
    "from sklearn.neural_network import MLPClassifier\n",
    "from sklearn.pipeline import make_pipeline\n",
    "from joblib import dump"
   ]
  },
  {
   "cell_type": "code",
   "execution_count": 4,
   "metadata": {},
   "outputs": [],
   "source": [
    "mnist = fetch_openml(\"mnist_784\")\n",
    "X, y = mnist.data, mnist.target\n",
    "\n",
    "X = X.to_numpy()\n",
    "y = y.to_numpy()\n",
    "X /= 255.0 # scaling"
   ]
  },
  {
   "cell_type": "code",
   "execution_count": 5,
   "metadata": {},
   "outputs": [
    {
     "name": "stdout",
     "output_type": "stream",
     "text": [
      "Iteration 1, loss = 0.49573560\n",
      "Iteration 2, loss = 0.20495455\n",
      "Iteration 3, loss = 0.15858256\n",
      "Iteration 4, loss = 0.12920216\n",
      "Iteration 5, loss = 0.10849451\n",
      "Iteration 6, loss = 0.09369738\n",
      "Iteration 7, loss = 0.08092049\n",
      "Iteration 8, loss = 0.07187465\n",
      "Iteration 9, loss = 0.06431519\n",
      "Iteration 10, loss = 0.05730462\n",
      "Iteration 11, loss = 0.05120944\n",
      "Iteration 12, loss = 0.04671179\n",
      "Iteration 13, loss = 0.04157799\n",
      "Iteration 14, loss = 0.03753568\n",
      "Iteration 15, loss = 0.03510963\n",
      "Iteration 16, loss = 0.03121183\n",
      "Iteration 17, loss = 0.02898557\n",
      "Iteration 18, loss = 0.02675149\n",
      "Iteration 19, loss = 0.02436129\n",
      "Iteration 20, loss = 0.02137698\n",
      "Iteration 21, loss = 0.02008774\n",
      "Iteration 22, loss = 0.01780425\n",
      "Iteration 23, loss = 0.01723339\n",
      "Iteration 24, loss = 0.01429645\n",
      "Iteration 25, loss = 0.01396687\n",
      "Iteration 26, loss = 0.01196938\n",
      "Iteration 27, loss = 0.01088607\n",
      "Iteration 28, loss = 0.01205121\n",
      "Iteration 29, loss = 0.01044824\n",
      "Iteration 30, loss = 0.00902451\n",
      "Iteration 31, loss = 0.00650425\n",
      "Iteration 32, loss = 0.00775588\n",
      "Iteration 33, loss = 0.00818028\n",
      "Iteration 34, loss = 0.00553543\n",
      "Iteration 35, loss = 0.00626260\n",
      "Iteration 36, loss = 0.00810057\n",
      "Iteration 37, loss = 0.00772919\n",
      "Iteration 38, loss = 0.00516958\n",
      "Iteration 39, loss = 0.00311804\n",
      "Iteration 40, loss = 0.00330942\n",
      "Iteration 41, loss = 0.00725022\n",
      "Iteration 42, loss = 0.00654829\n",
      "Iteration 43, loss = 0.00650059\n",
      "Iteration 44, loss = 0.00292401\n",
      "Iteration 45, loss = 0.00139717\n",
      "Iteration 46, loss = 0.00101450\n",
      "Iteration 47, loss = 0.00092617\n",
      "Iteration 48, loss = 0.00900302\n",
      "Iteration 49, loss = 0.01780334\n",
      "Iteration 50, loss = 0.00436548\n",
      "Iteration 51, loss = 0.00211094\n",
      "Iteration 52, loss = 0.00102088\n",
      "Iteration 53, loss = 0.00085434\n",
      "Iteration 54, loss = 0.00077178\n",
      "Iteration 55, loss = 0.00071362\n",
      "Iteration 56, loss = 0.00069048\n",
      "Iteration 57, loss = 0.00065282\n",
      "Training loss did not improve more than tol=0.000100 for 10 consecutive epochs. Stopping.\n"
     ]
    },
    {
     "data": {
      "text/plain": [
       "Pipeline(steps=[('mlpclassifier',\n",
       "                 MLPClassifier(hidden_layer_sizes=[50, 50], random_state=1,\n",
       "                               verbose=5))])"
      ]
     },
     "execution_count": 5,
     "metadata": {},
     "output_type": "execute_result"
    }
   ],
   "source": [
    "seed=1\n",
    "layers=[50,50]\n",
    "clf = MLPClassifier(hidden_layer_sizes=layers,\n",
    "                    random_state=seed, verbose=5)\n",
    "trainsize = 60000\n",
    "pipe = make_pipeline(clf)\n",
    "pipe.fit(X=X[:trainsize], y=y[:trainsize])\n"
   ]
  },
  {
   "cell_type": "code",
   "execution_count": 6,
   "metadata": {},
   "outputs": [
    {
     "name": "stdout",
     "output_type": "stream",
     "text": [
      "Training score: 1.0\n",
      "Validation set score: 0.9779\n"
     ]
    }
   ],
   "source": [
    "print(f\"Training score: {pipe.score(X[:trainsize], y[:trainsize])}\")\n",
    "print(f\"Validation set score: {pipe.score(X[trainsize:], y[trainsize:])}\")"
   ]
  },
  {
   "cell_type": "code",
   "execution_count": 7,
   "metadata": {},
   "outputs": [],
   "source": [
    "from matplotlib import pyplot as plt"
   ]
  },
  {
   "cell_type": "code",
   "execution_count": 8,
   "metadata": {},
   "outputs": [
    {
     "data": {
      "image/png": "[encoded data removed]",
      "text/plain": [
       "<Figure size 432x288 with 1 Axes>"
      ]
     },
     "metadata": {
      "needs_background": "light"
     },
     "output_type": "display_data"
    }
   ],
   "source": [
    "first_image = X[10000,:]\n",
    "pixels = first_image.reshape((28, 28))\n",
    "plt.imshow(pixels, cmap='gray')\n",
    "plt.show()"
   ]
  },
  {
   "cell_type": "code",
   "execution_count": 9,
   "metadata": {},
   "outputs": [],
   "source": [
    "from joblib import dump"
   ]
  },
  {
   "cell_type": "code",
   "execution_count": 11,
   "metadata": {},
   "outputs": [
    {
     "data": {
      "text/plain": [
       "['MNIST_50_50.joblib']"
      ]
     },
     "execution_count": 11,
     "metadata": {},
     "output_type": "execute_result"
    }
   ],
   "source": [
    "dump(pipe, 'MNIST_50_50.joblib')"
   ]
  },
  {
   "cell_type": "code",
   "execution_count": null,
   "metadata": {},
   "outputs": [],
   "source": []
  }
 ],
 "metadata": {
  "interpreter": {
   "hash": "3cf3099f0bba5fe511140d8ef714d70e8518d2fd25c78432792b15e61fc6ddb1"
  },
  "kernelspec": {
   "display_name": "Python 3 (ipykernel)",
   "language": "python",
   "name": "python3"
  },
  "language_info": {
   "codemirror_mode": {
    "name": "ipython",
    "version": 3
   },
   "file_extension": ".py",
   "mimetype": "text/x-python",
   "name": "python",
   "nbconvert_exporter": "python",
   "pygments_lexer": "ipython3",
   "version": "3.9.12"
  }
 },
 "nbformat": 4,
 "nbformat_minor": 2
}
