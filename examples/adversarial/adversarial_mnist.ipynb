{
 "cells": [
  {
   "cell_type": "code",
   "execution_count": null,
   "metadata": {},
   "outputs": [],
   "source": [
    "import sys\n",
    "from joblib import load\n",
    "from matplotlib import pyplot as plt\n",
    "import numpy as np\n",
    "import gurobipy as gp"
   ]
  },
  {
   "cell_type": "code",
   "execution_count": null,
   "metadata": {},
   "outputs": [],
   "source": [
    "# import my functions\n",
    "%load_ext autoreload\n",
    "%autoreload 2\n",
    "sys.path.append('../../src')\n",
    "from ml2grb.extra.morerelu import reluOBBT\n",
    "from ml2grb.extra.obbt import obbt\n",
    "from ml2grb.activations2grb import Identity\n",
    "from ml2grb.sklearn2grb import Pipe2Gurobi"
   ]
  },
  {
   "cell_type": "code",
   "execution_count": null,
   "metadata": {},
   "outputs": [],
   "source": [
    "# Load the trained network and the examples\n",
    "pipe = load('MNIST_50_50.joblib')\n",
    "X = load('MNIST_first100.joblib')\n",
    "\n",
    "# Choose an example\n",
    "exampleno = 19\n",
    "example = X[exampleno, :]\n",
    "ex_prob = pipe.predict_proba(example.reshape(1, -1))\n",
    "output_shape = ex_prob.shape"
   ]
  },
  {
   "cell_type": "code",
   "execution_count": null,
   "metadata": {},
   "outputs": [],
   "source": [
    "pixels = example.reshape((28, 28))\n",
    "plt.imshow(pixels, cmap='gray')\n",
    "plt.show()"
   ]
  },
  {
   "cell_type": "code",
   "execution_count": null,
   "metadata": {},
   "outputs": [],
   "source": [
    "pipe.predict(example.reshape(1, -1))"
   ]
  },
  {
   "cell_type": "code",
   "execution_count": null,
   "metadata": {},
   "outputs": [],
   "source": [
    "sortedidx = np.argsort(ex_prob)[0]"
   ]
  },
  {
   "cell_type": "code",
   "execution_count": null,
   "metadata": {},
   "outputs": [],
   "source": [
    "m = gp.Model()\n",
    "epsilon = 7\n",
    "\n",
    "x = m.addMVar(example.shape, lb=0.0, ub=1.0, name='X')\n",
    "absdiff = m.addMVar(example.shape, lb=0, ub=1, name='dplus')\n",
    "output = m.addMVar(output_shape, lb=-gp.GRB.INFINITY, name='y')"
   ]
  },
  {
   "cell_type": "code",
   "execution_count": null,
   "metadata": {},
   "outputs": [],
   "source": [
    "m.setObjective(output[0, sortedidx[-2]] - output[0, sortedidx[-1]],\n",
    "               gp.GRB.MAXIMIZE)\n",
    "\n",
    "# Bound on the distance to example in norm-2\n",
    "m.addConstr(absdiff >= x - example)\n",
    "m.addConstr(absdiff >= - x + example)\n",
    "m.addConstr(absdiff.sum() <= epsilon)"
   ]
  },
  {
   "cell_type": "code",
   "execution_count": null,
   "metadata": {},
   "outputs": [],
   "source": [
    "# Code to add the neural network to the constraints\n",
    "pipe2grb = Pipe2Gurobi(pipe, m)\n",
    "# For this example we should model softmax in the last layer using identity\n",
    "pipe2grb.steps[-1].actdict['softmax'] = Identity()\n",
    "pipe2grb.predict(x, output)"
   ]
  },
  {
   "cell_type": "code",
   "execution_count": null,
   "metadata": {},
   "outputs": [],
   "source": [
    "# Gurobi should do something internally about this\n",
    "obbt(pipe2grb.steps[-1], activation=reluOBBT('both'))"
   ]
  },
  {
   "cell_type": "code",
   "execution_count": null,
   "metadata": {},
   "outputs": [],
   "source": [
    "m.Params.OutputFlag = 1\n",
    "m.Params.TimeLimit = 250\n",
    "m.optimize()"
   ]
  },
  {
   "cell_type": "code",
   "execution_count": null,
   "metadata": {},
   "outputs": [],
   "source": [
    "pixels = x.X.reshape((28, 28))\n",
    "plt.imshow(pixels, cmap='gray')\n",
    "plt.show()"
   ]
  },
  {
   "cell_type": "code",
   "execution_count": null,
   "metadata": {},
   "outputs": [],
   "source": [
    "pipe.predict(x.X.reshape(1, -1))"
   ]
  },
  {
   "cell_type": "code",
   "execution_count": null,
   "metadata": {},
   "outputs": [],
   "source": [
    "pipe.predict_proba(x.X.reshape(1, -1)).round(3)"
   ]
  },
  {
   "cell_type": "markdown",
   "metadata": {},
   "source": [
    "pipe2grbght © 2022 Gurobi Optimization, LLC"
   ]
  }
 ],
 "metadata": {
  "interpreter": {
   "hash": "3cf3099f0bba5fe511140d8ef714d70e8518d2fd25c78432792b15e61fc6ddb1"
  },
  "kernelspec": {
   "display_name": "Python 3 (ipykernel)",
   "language": "python",
   "name": "python3"
  },
  "language_info": {
   "codemirror_mode": {
    "name": "ipython",
    "version": 3
   },
   "file_extension": ".py",
   "mimetype": "text/x-python",
   "name": "python",
   "nbconvert_exporter": "python",
   "pygments_lexer": "ipython3",
   "version": "3.9.12"
  }
 },
 "nbformat": 4,
 "nbformat_minor": 4
}
