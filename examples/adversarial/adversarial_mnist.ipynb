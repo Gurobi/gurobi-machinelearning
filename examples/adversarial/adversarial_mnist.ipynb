{
 "cells": [
  {
   "cell_type": "code",
   "execution_count": null,
   "metadata": {},
   "outputs": [],
   "source": [
    "import sys\n",
    "\n",
    "import gurobipy as gp\n",
    "import numpy as np\n",
    "import pandas as pd\n",
    "from joblib import load\n",
    "from matplotlib import pyplot as plt"
   ]
  },
  {
   "cell_type": "code",
   "execution_count": null,
   "metadata": {},
   "outputs": [],
   "source": [
    "# import my functions\n",
    "%load_ext autoreload\n",
    "%autoreload 2\n",
    "sys.path.append('../../src')\n",
    "from ml2gurobi.activations import Identity\n",
    "from ml2gurobi.extra.morerelu import reluOBBT, ReLUM\n",
    "from ml2gurobi.extra.obbt import obbt\n",
    "from ml2gurobi.sklearn import PipelinePredictor"
   ]
  },
  {
   "cell_type": "code",
   "execution_count": null,
   "metadata": {},
   "outputs": [],
   "source": [
    "# Load the trained network and the examples\n",
    "pipe = load('MNIST_100_100.joblib')\n",
    "X = load('MNIST_first100.joblib')\n",
    "\n",
    "# Choose an example\n",
    "exampleno = 19\n",
    "example = X.iloc[exampleno:exampleno+1, :]\n",
    "ex_prob = pipe.predict_proba(example)\n",
    "output_shape = ex_prob.shape"
   ]
  },
  {
   "cell_type": "code",
   "execution_count": null,
   "metadata": {},
   "outputs": [],
   "source": [
    "pixels = example.to_numpy().reshape((28, 28))\n",
    "plt.imshow(pixels, cmap='gray')\n",
    "plt.show()"
   ]
  },
  {
   "cell_type": "code",
   "execution_count": null,
   "metadata": {},
   "outputs": [],
   "source": [
    "pipe.predict(example)"
   ]
  },
  {
   "cell_type": "code",
   "execution_count": null,
   "metadata": {},
   "outputs": [],
   "source": [
    "sortedidx = np.argsort(ex_prob)[0]"
   ]
  },
  {
   "cell_type": "code",
   "execution_count": null,
   "metadata": {},
   "outputs": [],
   "source": [
    "m = gp.Model()\n",
    "epsilon = 5\n",
    "\n",
    "x = m.addMVar(example.shape, lb=0.0, ub=1.0, name='X')\n",
    "absdiff = m.addMVar(example.shape, lb=0, ub=1, name='dplus')\n",
    "output = m.addMVar(output_shape, lb=-gp.GRB.INFINITY, name='y')"
   ]
  },
  {
   "cell_type": "code",
   "execution_count": null,
   "metadata": {},
   "outputs": [],
   "source": [
    "m.setObjective(output[0, sortedidx[-2]] - output[0, sortedidx[-1]],\n",
    "               gp.GRB.MAXIMIZE)\n",
    "\n",
    "# Bound on the distance to example in norm-1\n",
    "m.addConstr(absdiff[0, :] >= x[0, :] - example.to_numpy()[0, :])\n",
    "m.addConstr(absdiff[0, :] >= - x[0, :] + example.to_numpy()[0, :])\n",
    "m.addConstr(absdiff[0, :].sum() <= epsilon)\n"
   ]
  },
  {
   "cell_type": "code",
   "execution_count": null,
   "metadata": {},
   "outputs": [],
   "source": [
    "# Change last layer activation to identity\n",
    "pipe.steps[-1][1].out_activation_ = 'identity'\n",
    "# Code to add the neural network to the constraints\n",
    "p2grb = PipelinePredictor(m, pipe, x, output)\n",
    "\n",
    "# Restore activation\n",
    "pipe.steps[-1][1].out_activation_ = 'softmax'"
   ]
  },
  {
   "cell_type": "code",
   "execution_count": null,
   "metadata": {},
   "outputs": [],
   "source": [
    "#get number of constraints for formulating neural network\n",
    "p2grb.get_num('Constrs')"
   ]
  },
  {
   "cell_type": "code",
   "execution_count": null,
   "metadata": {},
   "outputs": [],
   "source": [
    "# Get the list of constraint that were added\n",
    "p2grb.get_list('Constrs')"
   ]
  },
  {
   "cell_type": "code",
   "execution_count": null,
   "metadata": {},
   "outputs": [],
   "source": [
    "# Gurobi should do something internally about this\n",
    "obbt(p2grb.steps[-1], activation=reluOBBT('both'))"
   ]
  },
  {
   "cell_type": "code",
   "execution_count": null,
   "metadata": {},
   "outputs": [],
   "source": [
    "m.Params.OutputFlag = 1\n",
    "m.Params.TimeLimit = 250\n",
    "m.optimize()"
   ]
  },
  {
   "cell_type": "code",
   "execution_count": null,
   "metadata": {},
   "outputs": [],
   "source": [
    "pixels = x.X.reshape((28, 28))\n",
    "plt.imshow(pixels, cmap='gray')\n",
    "plt.show()"
   ]
  },
  {
   "cell_type": "code",
   "execution_count": null,
   "metadata": {},
   "outputs": [],
   "source": [
    "example_mod = pd.DataFrame(data=x.X, columns=example.columns, index=example.index)\n",
    "pipe.predict(example_mod)"
   ]
  },
  {
   "cell_type": "markdown",
   "metadata": {},
   "source": [
    "copyright © 2022 Gurobi Optimization, LLC"
   ]
  }
 ],
 "metadata": {
  "kernelspec": {
   "display_name": "Python 3 (ipykernel)",
   "language": "python",
   "name": "python3"
  },
  "language_info": {
   "codemirror_mode": {
    "name": "ipython",
    "version": 3
   },
   "file_extension": ".py",
   "mimetype": "text/x-python",
   "name": "python",
   "nbconvert_exporter": "python",
   "pygments_lexer": "ipython3",
   "version": "3.9.12"
  },
  "vscode": {
   "interpreter": {
    "hash": "949777d72b0d2535278d3dc13498b2535136f6dfe0678499012e853ee9abcab1"
   }
  }
 },
 "nbformat": 4,
 "nbformat_minor": 4
}
